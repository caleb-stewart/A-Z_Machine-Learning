{
 "cells": [
  {
   "cell_type": "code",
   "execution_count": 48,
   "metadata": {
    "colab": {
     "base_uri": "https://localhost:8080/"
    },
    "id": "Dv3RVhSDtuP4",
    "outputId": "896dcfe6-18c1-4e1f-df4a-6c392afde5d9"
   },
   "outputs": [
    {
     "name": "stdout",
     "output_type": "stream",
     "text": [
      "Defaulting to user installation because normal site-packages is not writeable\n",
      "Requirement already satisfied: requests in c:\\users\\caleb\\appdata\\local\\packages\\pythonsoftwarefoundation.python.3.12_qbz5n2kfra8p0\\localcache\\local-packages\\python312\\site-packages (2.32.3)\n",
      "Requirement already satisfied: charset-normalizer<4,>=2 in c:\\users\\caleb\\appdata\\local\\packages\\pythonsoftwarefoundation.python.3.12_qbz5n2kfra8p0\\localcache\\local-packages\\python312\\site-packages (from requests) (3.4.0)\n",
      "Requirement already satisfied: idna<4,>=2.5 in c:\\users\\caleb\\appdata\\local\\packages\\pythonsoftwarefoundation.python.3.12_qbz5n2kfra8p0\\localcache\\local-packages\\python312\\site-packages (from requests) (3.10)\n",
      "Requirement already satisfied: urllib3<3,>=1.21.1 in c:\\users\\caleb\\appdata\\local\\packages\\pythonsoftwarefoundation.python.3.12_qbz5n2kfra8p0\\localcache\\local-packages\\python312\\site-packages (from requests) (2.2.3)\n",
      "Requirement already satisfied: certifi>=2017.4.17 in c:\\users\\caleb\\appdata\\local\\packages\\pythonsoftwarefoundation.python.3.12_qbz5n2kfra8p0\\localcache\\local-packages\\python312\\site-packages (from requests) (2024.8.30)\n",
      "Defaulting to user installation because normal site-packages is not writeable\n",
      "Requirement already satisfied: pandas in c:\\users\\caleb\\appdata\\local\\packages\\pythonsoftwarefoundation.python.3.12_qbz5n2kfra8p0\\localcache\\local-packages\\python312\\site-packages (2.2.3)\n",
      "Requirement already satisfied: numpy>=1.26.0 in c:\\users\\caleb\\appdata\\local\\packages\\pythonsoftwarefoundation.python.3.12_qbz5n2kfra8p0\\localcache\\local-packages\\python312\\site-packages (from pandas) (1.26.4)\n",
      "Requirement already satisfied: python-dateutil>=2.8.2 in c:\\users\\caleb\\appdata\\local\\packages\\pythonsoftwarefoundation.python.3.12_qbz5n2kfra8p0\\localcache\\local-packages\\python312\\site-packages (from pandas) (2.9.0.post0)\n",
      "Requirement already satisfied: pytz>=2020.1 in c:\\users\\caleb\\appdata\\local\\packages\\pythonsoftwarefoundation.python.3.12_qbz5n2kfra8p0\\localcache\\local-packages\\python312\\site-packages (from pandas) (2024.2)\n",
      "Requirement already satisfied: tzdata>=2022.7 in c:\\users\\caleb\\appdata\\local\\packages\\pythonsoftwarefoundation.python.3.12_qbz5n2kfra8p0\\localcache\\local-packages\\python312\\site-packages (from pandas) (2024.2)\n",
      "Requirement already satisfied: six>=1.5 in c:\\users\\caleb\\appdata\\local\\packages\\pythonsoftwarefoundation.python.3.12_qbz5n2kfra8p0\\localcache\\local-packages\\python312\\site-packages (from python-dateutil>=2.8.2->pandas) (1.17.0)\n",
      "Defaulting to user installation because normal site-packages is not writeable\n",
      "Collecting tqdm\n",
      "  Downloading tqdm-4.67.1-py3-none-any.whl.metadata (57 kB)\n",
      "Requirement already satisfied: colorama in c:\\users\\caleb\\appdata\\local\\packages\\pythonsoftwarefoundation.python.3.12_qbz5n2kfra8p0\\localcache\\local-packages\\python312\\site-packages (from tqdm) (0.4.6)\n",
      "Downloading tqdm-4.67.1-py3-none-any.whl (78 kB)\n",
      "Installing collected packages: tqdm\n",
      "Successfully installed tqdm-4.67.1\n"
     ]
    }
   ],
   "source": [
    "!pip install requests\n",
    "!pip install pandas\n",
    "!pip install tqdm"
   ]
  },
  {
   "cell_type": "code",
   "execution_count": 2,
   "metadata": {
    "id": "kv1wI4PyB13_"
   },
   "outputs": [],
   "source": [
    "import requests\n",
    "from pprint import pprint\n",
    "key = '41b145a848f4bd67'\n",
    "team_id = {'Spokane Chiefs': '215', 'Seattle Thunderbirds': '214', 'Portland Winterhawks': '208', 'Everett Silvertips': '226', 'Tri-City Americans': '217', 'Kamloops Blazers': '203', 'Kelowna Rockets': '204', 'Prince George Cougars': '210', 'Brandon Wheat Kings': '201', 'Swift Current Broncos': '216', 'Vancouver Giants': '223', 'Kootenay ICE': '222', 'Victoria Royals': '227', 'Medicine Hat Tigers': '206', 'Edmonton Oil Kings': '228', 'Moose Jaw Warriors': '207', 'Regina Pats': '212', 'Saskatoon Blades': '213', 'Prince Albert Raiders': '209', 'Calgary Hitmen': '202', 'Lethbridge Hurricanes': '205', 'Red Deer Rebels': '211', 'Winnipeg ICE': '222', 'Wenatchee Wild': '222'}"
   ]
  },
  {
   "cell_type": "markdown",
   "metadata": {
    "id": "0IgqRXEuKc4h"
   },
   "source": [
    "# URLs"
   ]
  },
  {
   "cell_type": "code",
   "execution_count": 3,
   "metadata": {
    "id": "HvgWPbLBKeL2"
   },
   "outputs": [],
   "source": [
    "def game_id_url_func(num_of_past_games, current_team_id):\n",
    "  return f'https://lscluster.hockeytech.com/feed/?feed=modulekit&key={key}&view=scorebar&client_code=whl&numberofdaysahead=0&numberofdaysback={num_of_past_games}&season_id=&team_id={current_team_id}&lang_code=en&fmt=json'\n",
    "\n",
    "def game_stats_url_func(game_id):\n",
    "  return f'https://lscluster.hockeytech.com/feed/?feed=gc&key={key}&game_id={game_id}&client_code=whl&tab=clock&lang_code=en&fmt=json'"
   ]
  },
  {
   "cell_type": "markdown",
   "metadata": {
    "id": "AGsHEWwd9djL"
   },
   "source": [
    "# Get Past Game IDs for each team"
   ]
  },
  {
   "cell_type": "code",
   "execution_count": 4,
   "metadata": {},
   "outputs": [],
   "source": [
    "'''\n",
    "Get the game IDs of the past x amount of games\n",
    "'''\n",
    "def get_game_ids(url):\n",
    "  headers = {\n",
    "      \"User-Agent\": \"Mozilla/5.0 (Windows NT 10.0; Win64; x64) AppleWebKit/537.36 (KHTML, like Gecko) Chrome/114.0.0.0 Safari/537.36\"\n",
    "  }\n",
    "\n",
    "  try:\n",
    "      response = requests.get(url, headers=headers)\n",
    "\n",
    "      # Check if the request was successful\n",
    "      if response.status_code == 200:\n",
    "\n",
    "          return response.json()['SiteKit']['Scorebar']\n",
    "          #pprint(response)\n",
    "      else:\n",
    "          print(f\"Failed to retrieve the page. Status code: {response.status_code}\")\n",
    "  except Exception as e:\n",
    "      print(f\"An error occurred: {e}\")"
   ]
  },
  {
   "cell_type": "markdown",
   "metadata": {
    "id": "050fG5VUKGTV"
   },
   "source": [
    "## Get the Team ID of each opponent"
   ]
  },
  {
   "cell_type": "markdown",
   "metadata": {
    "id": "ZlKCCcmSv6iP"
   },
   "source": [
    "### Get all teams past game IDs"
   ]
  },
  {
   "cell_type": "code",
   "execution_count": 41,
   "metadata": {
    "colab": {
     "base_uri": "https://localhost:8080/"
    },
    "id": "bXeKmf85icWT",
    "outputId": "44e123bb-7cfa-4d34-ebe7-942c553463d6",
    "scrolled": true
   },
   "outputs": [],
   "source": [
    "# Keeps track of the game IDs that each team has played\n",
    "team_games = {}\n",
    "for team in team_id:    \n",
    "  curr_game_id = game_id_url_func(num_of_past_games, team_id[team])\n",
    "  game = get_game_ids(curr_game_id)\n",
    "  team_games[team] = [x['ID'] for x in game]\n"
   ]
  },
  {
   "cell_type": "code",
   "execution_count": 44,
   "metadata": {
    "colab": {
     "background_save": true,
     "base_uri": "https://localhost:8080/"
    },
    "id": "F3wqYJXExrcJ",
    "outputId": "cb4e2bdd-def2-41f5-9a3d-2db3f21c76ee",
    "scrolled": true
   },
   "outputs": [
    {
     "name": "stdout",
     "output_type": "stream",
     "text": [
      "['1015005', '1015015', '1015027', '1015029', '1015052', '1015063', '1015072', '1015080', '1015086', '1015098', '1015113', '1015132', '1015141', '1015145', '1015162', '1015166', '1015184', '1015205', '1015218', '1015227', '1015233', '1015244', '1015261', '1015269', '1015310', '1015286', '1015296', '1015302', '1015324', '1015334', '1015346', '1015352', '1015362', '1015371', '1015388', '1015396', '1015408', '1015411', '1015473', '1015474', '1015475', '1015476', '1015477', '1015478', '1015479', '1015533', '1015544', '1015552', '1015554', '1015572', '1015589', '1015609', '1015616', '1015629', '1015635', '1015649', '1015658', '1015669', '1015677', '1015690', '1015695', '1015700', '1015707', '1015733', '1015741', '1015752', '1015770', '1015773', '1015782', '1015790', '1015801', '1015812', '1015822', '1015828', '1015851', '1015864', '1015874', '1015882', '1015899', '1015906', '1015915', '1015920', '1015930', '1015938', '1015953', '1015968', '1015974', '1015986', '1016002', '1016009', '1016026', '1016045', '1016063', '1016076', '1016083', '1016092', '1016104', '1016117', '1016127', '1016135', '1016148', '1016158', '1016166', '1016175', '1016192', '1016201', '1016223', '1016235', '1016244', '1016249', '1016257', '1016268', '1016279', '1016292', '1016302', '1016308', '1016315', '1016323', '1016334', '1016383', '1016384', '1016385', '1016386', '1016387', '1016405', '1016406', '1016407', '1016408', '1016409', '1016426', '1016427', '1016428', '1016429', '1016430', '1016450', '1016458', '1016460', '1016469', '1016486', '1016505', '1016509', '1016515', '1016543', '1016559', '1016568', '1016573', '1016588', '1016597', '1016612', '1016620', '1016634', '1016640', '1016646', '1016670', '1016677', '1016695', '1016706', '1016712', '1016723', '1016726', '1016739', '1016757', '1016764', '1016775', '1016783', '1016793', '1016805', '1016814', '1016824', '1016846', '1016849', '1016855', '1016859', '1016867', '1016878', '1016891', '1016905', '1016923', '1016936', '1016946', '1016952', '1016966', '1016975', '1016984', '1017002', '1017006', '1017015', '1017020', '1017036', '1017038', '1017059', '1017066', '1017073', '1017081', '1017094', '1017106', '1017116', '1017122', '1017145', '1017155', '1017165', '1017178', '1017181', '1017197', '1017205', '1017218', '1017227', '1017251', '1017315', '1017317', '1017318', '1017321', '1017324', '1017330', '1017332', '1017335', '1017336', '1017338', '1017341', '1017343', '1017350', '1017351', '1017357', '1017360', '1017362', '1017364', '1017368', '1017369', '1017372', '1017597', '1017599', '1017608', '1017627', '1017637', '1017644', '1017652', '1018397', '1017806', '1017659', '1017661', '1017666', '1017673', '1017681', '1017689', '1017693', '1017698', '1018398', '1017722', '1017724', '1017733', '1017734', '1017741', '1017743', '1017744', '1017750', '1017755', '1017763', '1017767', '1017779', '1017783', '1017786', '1017792', '1018401', '1017801', '1017952', '1017810', '1017815', '1017713', '1017718', '1017825', '1017831', '1017836', '1017841', '1017844', '1017846', '1017852', '1017859', '1017864', '1017867', '1017872', '1017879', '1017883', '1017888', '1017891', '1017895', '1017902', '1017903', '1017909', '1017915', '1017918', '1017922', '1017929', '1017935', '1017707', '1017946', '1017966', '1017958', '1017960', '1017948', '1017972', '1017979', '1017985', '1017987', '1018423', '1018432', '1018441', '1018446', '1018491', '1018492', '1018493', '1018494', '1018559', '1018568', '1019352', '1018584', '1018603', '1018611', '1018621', '1018638', '1018652', '1018666', '1018679', '1018688', '1018691', '1018712', '1018725', '1018739', '1018761', '1018770', '1018772', '1018784', '1018795', '1018808', '1018822', '1018831', '1018850', '1018854', '1018869', '1018877', '1018889', '1018904', '1018905', '1018919', '1018925', '1018934', '1018942', '1018953', '1018962', '1018971', '1018980', '1018998', '1019008', '1019021', '1019031', '1019036', '1019054', '1019071', '1019077', '1019083', '1019094', '1019099', '1019118', '1019127', '1019134', '1019148', '1019153', '1019168', '1019170', '1019184', '1019194', '1019210', '1019218', '1019229', '1019239', '1019249', '1019272', '1019282', '1019285', '1019290', '1019305', '1019316', '1019320', '1019338', '1019348', '1020218', '1020220', '1020226', '1020243', '1020244', '1020253', '1020264', '1020280', '1020298', '1020314', '1020318', '1020332', '1020346', '1020369', '1020376', '1020383', '1020398', '1020408', '1020428', '1020435', '1020455', '1020465', '1020493', '1020496', '1020507', '1020516', '1020524', '1020526', '1020536', '1020554', '1020560', '1020570', '1020588', '1020597', '1020605', '1020611', '1020626', '1020644', '1020648', '1020667', '1020678', '1020680', '1020685', '1020689', '1020707', '1020721', '1020733', '1020748', '1020757', '1020767', '1020775', '1020788', '1020797', '1020815', '1020819', '1020828', '1020843', '1020854', '1020866', '1020868', '1020877', '1020886', '1020896', '1020905', '1020916', '1020924', '1020938', '1020947', '1020953', '1020966', '1020973', '1020980', '1020992', '1021005', '1021021', '1021022', '1021059', '1021060', '1021164', '1021172', '1021950', '1021189', '1021197', '1021206', '1021214', '1021227', '1021234', '1021247', '1021256', '1021266', '1021275', '1021287', '1021293', '1021295', '1021303', '1021330', '1021340', '1021349', '1021355', '1021363', '1021371', '1021375', '1021386', '1021411', '1021419', '1021434', '1021447', '1021456', '1021474', '1021479', '1021495', '1021503', '1021507', '1021522', '1021533', '1021543']\n"
     ]
    }
   ],
   "source": [
    "print((team_games['Spokane Chiefs']))"
   ]
  },
  {
   "cell_type": "markdown",
   "metadata": {
    "id": "Ia9RAB867NBO"
   },
   "source": [
    "# Get the stats from specific games"
   ]
  },
  {
   "cell_type": "markdown",
   "metadata": {
    "id": "InayIACrFnIJ"
   },
   "source": [
    "## Initilize the DataFrame"
   ]
  },
  {
   "cell_type": "code",
   "execution_count": 29,
   "metadata": {
    "id": "R3Y3Eqm9EiCx"
   },
   "outputs": [],
   "source": [
    "import pandas as pd\n",
    "df_columns = [\"Game_ID\", \"Home_Name\", \"Away_Name\", \"Home_Goals\", \"Away_Goals\", \"Home_PP%\", \"Away_PP%\", \"Home_SOG\", \"Away_SOG\", \"Home_FOW%\", \"Away_FOW%\"]\n",
    "dataset = pd.DataFrame(columns=df_columns)"
   ]
  },
  {
   "cell_type": "markdown",
   "metadata": {},
   "source": [
    "## Function to fetch team stats, given a game ID"
   ]
  },
  {
   "cell_type": "code",
   "execution_count": 37,
   "metadata": {},
   "outputs": [],
   "source": [
    "'''\n",
    "Expects a game_id, which is used to access the Hockey Tech API to get the stats of a game, returned in a JSON format\n",
    "'''\n",
    "def get_game_stats(game_id):\n",
    "  game_stats_url = game_stats_url_func(game_id)\n",
    "  headers = {\n",
    "      \"User-Agent\": \"Mozilla/5.0 (Windows NT 10.0; Win64; x64) AppleWebKit/537.36 (KHTML, like Gecko) Chrome/114.0.0.0 Safari/537.36\"\n",
    "  }\n",
    "  \n",
    "  try:\n",
    "      response = requests.get(game_stats_url, headers=headers)\n",
    "  \n",
    "      # Check if the request was successful\n",
    "      if response.status_code == 200:\n",
    "  \n",
    "          return response.json()\n",
    "          pprint(response)\n",
    "      else:\n",
    "          print(f\"Failed to retrieve the page. Status code: {response.status_code}\")\n",
    "  except Exception as e:\n",
    "      print(f\"An error occurred: {e}\")"
   ]
  },
  {
   "cell_type": "markdown",
   "metadata": {},
   "source": [
    "## Parse through each game stats from each team"
   ]
  },
  {
   "cell_type": "code",
   "execution_count": null,
   "metadata": {
    "scrolled": true
   },
   "outputs": [
    {
     "name": "stderr",
     "output_type": "stream",
     "text": [
      "Processing all games:   0%|                                                      | 4/12004 [00:01<1:34:21,  2.12game/s]"
     ]
    }
   ],
   "source": [
    "from tqdm import tqdm\n",
    "\n",
    "# Calculate total number of games for the overall progress bar\n",
    "total_games = sum(len(team_games[team]) for team in team_games)\n",
    "\n",
    "# Keep track of games we've already seen\n",
    "existing_game_ids = set()\n",
    "\n",
    "with tqdm(total=total_games, desc=\"Processing all games\", unit=\"game\") as overall_pbar:\n",
    "    # Go through each team\n",
    "  for team in team_games:\n",
    "    for game in team_games[team]:\n",
    "      # Only get game stats if we haven't fetched it already\n",
    "      if game in existing_game_ids:\n",
    "          overall_pbar.update(1)  # Update the overall progress bar even if skipped\n",
    "          continue\n",
    "\n",
    "      existing_game_ids.add(game)\n",
    "        \n",
    "      # Get the stats of the game ID\n",
    "      stats = get_game_stats(game)\n",
    "  \n",
    "      # Home and visitor team names\n",
    "      visitor = stats['GC']['Clock']['visiting_team']['name']\n",
    "      home = stats['GC']['Clock']['home_team']['name']\n",
    "  \n",
    "      # Number of goals\n",
    "      home_goals = int(stats['GC']['Clock']['home_goal_count'])\n",
    "      visitor_goals = int(stats['GC']['Clock']['visiting_goal_count'])\n",
    "  \n",
    "      # Calculate Power Play %\n",
    "      home_ppp_total = float(stats['GC']['Clock']['power_play']['total']['home'])\n",
    "      visitor_ppp_total = float(stats['GC']['Clock']['power_play']['total']['visiting'])\n",
    "      # Avoid division by zero for home_ppp\n",
    "      if home_ppp_total != 0:\n",
    "          home_ppp = float(stats['GC']['Clock']['power_play']['goals']['home']) / home_ppp_total\n",
    "      else:\n",
    "          home_ppp = 0  # Default to 0 if no power plays\n",
    "      # Avoid division by zero for visitor_ppp\n",
    "      if visitor_ppp_total != 0:\n",
    "          visitor_ppp = float(stats['GC']['Clock']['power_play']['goals']['visiting']) / visitor_ppp_total\n",
    "      else:\n",
    "          visitor_ppp = 0  # Default to 0 if no power plays\n",
    "  \n",
    "      # Calculate Faceoff Win %\n",
    "      home_fowp = float(stats['GC']['Clock']['fow']['home'])\n",
    "      visitor_fowp = float(stats['GC']['Clock']['fow']['visiting'])\n",
    "      fow_total = home_fowp + visitor_fowp\n",
    "      if fow_total != 0:\n",
    "          home_fowp /= fow_total\n",
    "          visitor_fowp /= fow_total\n",
    "      else:\n",
    "          home_fowp, visitor_fowp = .5, .5\n",
    "  \n",
    "      # Shots on goal\n",
    "      home_sog = sum(stats['GC']['Clock']['shots_on_goal']['home'].values())\n",
    "      visitor_sog = sum(stats['GC']['Clock']['shots_on_goal']['visiting'].values())\n",
    "      \n",
    "      # Add data to the dataset\n",
    "      dataset.loc[len(dataset)] = {\n",
    "          \"Game_ID\": game,\n",
    "          \"Home_Name\": home,\n",
    "          \"Away_Name\": visitor,\n",
    "          \"Home_Goals\": home_goals,\n",
    "          \"Away_Goals\": visitor_goals,\n",
    "          \"Home_PP%\": home_ppp,\n",
    "          \"Away_PP%\": visitor_ppp,\n",
    "          \"Home_SOG\": home_sog,\n",
    "          \"Away_SOG\": visitor_sog,\n",
    "          \"Home_FOW%\": home_fowp,\n",
    "          \"Away_FOW%\": visitor_fowp\n",
    "      }\n",
    "  \n",
    "      # Update progress bar\n",
    "      overall_pbar.update(1)\n"
   ]
  },
  {
   "cell_type": "markdown",
   "metadata": {},
   "source": [
    "## Display and Write CSV File"
   ]
  },
  {
   "cell_type": "code",
   "execution_count": 67,
   "metadata": {
    "colab": {
     "base_uri": "https://localhost:8080/"
    },
    "id": "QR4k2mMOtHhS",
    "outputId": "5fb3f535-d90e-439d-9c6e-b0acc8fb2535",
    "scrolled": true
   },
   "outputs": [
    {
     "data": {
      "text/html": [
       "<div>\n",
       "<style scoped>\n",
       "    .dataframe tbody tr th:only-of-type {\n",
       "        vertical-align: middle;\n",
       "    }\n",
       "\n",
       "    .dataframe tbody tr th {\n",
       "        vertical-align: top;\n",
       "    }\n",
       "\n",
       "    .dataframe thead th {\n",
       "        text-align: right;\n",
       "    }\n",
       "</style>\n",
       "<table border=\"1\" class=\"dataframe\">\n",
       "  <thead>\n",
       "    <tr style=\"text-align: right;\">\n",
       "      <th></th>\n",
       "      <th>Game_ID</th>\n",
       "      <th>Home_Name</th>\n",
       "      <th>Away_Name</th>\n",
       "      <th>Home_Goals</th>\n",
       "      <th>Away_Goals</th>\n",
       "      <th>Home_PP%</th>\n",
       "      <th>Away_PP%</th>\n",
       "      <th>Home_SOG</th>\n",
       "      <th>Away_SOG</th>\n",
       "      <th>Home_FOW%</th>\n",
       "      <th>Away_FOW%</th>\n",
       "    </tr>\n",
       "  </thead>\n",
       "  <tbody>\n",
       "    <tr>\n",
       "      <th>0</th>\n",
       "      <td>1015005</td>\n",
       "      <td>Spokane Chiefs</td>\n",
       "      <td>Seattle Thunderbirds</td>\n",
       "      <td>5</td>\n",
       "      <td>4</td>\n",
       "      <td>0.166667</td>\n",
       "      <td>0.666667</td>\n",
       "      <td>42</td>\n",
       "      <td>29</td>\n",
       "      <td>0.550725</td>\n",
       "      <td>0.449275</td>\n",
       "    </tr>\n",
       "    <tr>\n",
       "      <th>1</th>\n",
       "      <td>1015015</td>\n",
       "      <td>Seattle Thunderbirds</td>\n",
       "      <td>Spokane Chiefs</td>\n",
       "      <td>5</td>\n",
       "      <td>4</td>\n",
       "      <td>0.000000</td>\n",
       "      <td>0.000000</td>\n",
       "      <td>26</td>\n",
       "      <td>33</td>\n",
       "      <td>0.584906</td>\n",
       "      <td>0.415094</td>\n",
       "    </tr>\n",
       "    <tr>\n",
       "      <th>2</th>\n",
       "      <td>1015027</td>\n",
       "      <td>Spokane Chiefs</td>\n",
       "      <td>Tri-City Americans</td>\n",
       "      <td>4</td>\n",
       "      <td>3</td>\n",
       "      <td>0.250000</td>\n",
       "      <td>0.000000</td>\n",
       "      <td>45</td>\n",
       "      <td>24</td>\n",
       "      <td>0.508475</td>\n",
       "      <td>0.491525</td>\n",
       "    </tr>\n",
       "    <tr>\n",
       "      <th>3</th>\n",
       "      <td>1015029</td>\n",
       "      <td>Tri-City Americans</td>\n",
       "      <td>Spokane Chiefs</td>\n",
       "      <td>4</td>\n",
       "      <td>3</td>\n",
       "      <td>0.500000</td>\n",
       "      <td>0.250000</td>\n",
       "      <td>26</td>\n",
       "      <td>46</td>\n",
       "      <td>0.507463</td>\n",
       "      <td>0.492537</td>\n",
       "    </tr>\n",
       "    <tr>\n",
       "      <th>4</th>\n",
       "      <td>1015052</td>\n",
       "      <td>Spokane Chiefs</td>\n",
       "      <td>Portland Winterhawks</td>\n",
       "      <td>9</td>\n",
       "      <td>3</td>\n",
       "      <td>0.750000</td>\n",
       "      <td>0.000000</td>\n",
       "      <td>50</td>\n",
       "      <td>19</td>\n",
       "      <td>0.596154</td>\n",
       "      <td>0.403846</td>\n",
       "    </tr>\n",
       "    <tr>\n",
       "      <th>...</th>\n",
       "      <td>...</td>\n",
       "      <td>...</td>\n",
       "      <td>...</td>\n",
       "      <td>...</td>\n",
       "      <td>...</td>\n",
       "      <td>...</td>\n",
       "      <td>...</td>\n",
       "      <td>...</td>\n",
       "      <td>...</td>\n",
       "      <td>...</td>\n",
       "      <td>...</td>\n",
       "    </tr>\n",
       "    <tr>\n",
       "      <th>6586</th>\n",
       "      <td>1015629</td>\n",
       "      <td>Spokane Chiefs</td>\n",
       "      <td>Kootenay ICE</td>\n",
       "      <td>6</td>\n",
       "      <td>3</td>\n",
       "      <td>0.166667</td>\n",
       "      <td>0.000000</td>\n",
       "      <td>30</td>\n",
       "      <td>27</td>\n",
       "      <td>0.555556</td>\n",
       "      <td>0.444444</td>\n",
       "    </tr>\n",
       "    <tr>\n",
       "      <th>6587</th>\n",
       "      <td>1015635</td>\n",
       "      <td>Vancouver Giants</td>\n",
       "      <td>Spokane Chiefs</td>\n",
       "      <td>5</td>\n",
       "      <td>4</td>\n",
       "      <td>0.000000</td>\n",
       "      <td>0.250000</td>\n",
       "      <td>27</td>\n",
       "      <td>24</td>\n",
       "      <td>0.370968</td>\n",
       "      <td>0.629032</td>\n",
       "    </tr>\n",
       "    <tr>\n",
       "      <th>6588</th>\n",
       "      <td>1015649</td>\n",
       "      <td>Spokane Chiefs</td>\n",
       "      <td>Medicine Hat Tigers</td>\n",
       "      <td>2</td>\n",
       "      <td>3</td>\n",
       "      <td>0.000000</td>\n",
       "      <td>0.666667</td>\n",
       "      <td>41</td>\n",
       "      <td>29</td>\n",
       "      <td>0.517241</td>\n",
       "      <td>0.482759</td>\n",
       "    </tr>\n",
       "    <tr>\n",
       "      <th>6589</th>\n",
       "      <td>1015658</td>\n",
       "      <td>Spokane Chiefs</td>\n",
       "      <td>Edmonton Oil Kings</td>\n",
       "      <td>3</td>\n",
       "      <td>2</td>\n",
       "      <td>0.333333</td>\n",
       "      <td>0.000000</td>\n",
       "      <td>32</td>\n",
       "      <td>30</td>\n",
       "      <td>0.610169</td>\n",
       "      <td>0.389831</td>\n",
       "    </tr>\n",
       "    <tr>\n",
       "      <th>6590</th>\n",
       "      <td>1015669</td>\n",
       "      <td>Swift Current Broncos</td>\n",
       "      <td>Spokane Chiefs</td>\n",
       "      <td>1</td>\n",
       "      <td>4</td>\n",
       "      <td>0.000000</td>\n",
       "      <td>0.000000</td>\n",
       "      <td>29</td>\n",
       "      <td>48</td>\n",
       "      <td>0.553846</td>\n",
       "      <td>0.446154</td>\n",
       "    </tr>\n",
       "  </tbody>\n",
       "</table>\n",
       "<p>6591 rows × 11 columns</p>\n",
       "</div>"
      ],
      "text/plain": [
       "      Game_ID              Home_Name             Away_Name  Home_Goals  \\\n",
       "0     1015005         Spokane Chiefs  Seattle Thunderbirds           5   \n",
       "1     1015015   Seattle Thunderbirds        Spokane Chiefs           5   \n",
       "2     1015027         Spokane Chiefs    Tri-City Americans           4   \n",
       "3     1015029     Tri-City Americans        Spokane Chiefs           4   \n",
       "4     1015052         Spokane Chiefs  Portland Winterhawks           9   \n",
       "...       ...                    ...                   ...         ...   \n",
       "6586  1015629         Spokane Chiefs          Kootenay ICE           6   \n",
       "6587  1015635       Vancouver Giants        Spokane Chiefs           5   \n",
       "6588  1015649         Spokane Chiefs   Medicine Hat Tigers           2   \n",
       "6589  1015658         Spokane Chiefs    Edmonton Oil Kings           3   \n",
       "6590  1015669  Swift Current Broncos        Spokane Chiefs           1   \n",
       "\n",
       "      Away_Goals  Home_PP%  Away_PP%  Home_SOG  Away_SOG  Home_FOW%  Away_FOW%  \n",
       "0              4  0.166667  0.666667        42        29   0.550725   0.449275  \n",
       "1              4  0.000000  0.000000        26        33   0.584906   0.415094  \n",
       "2              3  0.250000  0.000000        45        24   0.508475   0.491525  \n",
       "3              3  0.500000  0.250000        26        46   0.507463   0.492537  \n",
       "4              3  0.750000  0.000000        50        19   0.596154   0.403846  \n",
       "...          ...       ...       ...       ...       ...        ...        ...  \n",
       "6586           3  0.166667  0.000000        30        27   0.555556   0.444444  \n",
       "6587           4  0.000000  0.250000        27        24   0.370968   0.629032  \n",
       "6588           3  0.000000  0.666667        41        29   0.517241   0.482759  \n",
       "6589           2  0.333333  0.000000        32        30   0.610169   0.389831  \n",
       "6590           4  0.000000  0.000000        29        48   0.553846   0.446154  \n",
       "\n",
       "[6591 rows x 11 columns]"
      ]
     },
     "metadata": {},
     "output_type": "display_data"
    },
    {
     "name": "stdout",
     "output_type": "stream",
     "text": [
      "Successfully wrote to CSV file\n"
     ]
    }
   ],
   "source": [
    "# Show the dataset\n",
    "display(dataset)\n",
    "\n",
    "# Write to comma separated values file\n",
    "dataset.to_csv('All_teams_WHL_stats.csv')\n",
    "print('Successfully wrote to CSV file')"
   ]
  },
  {
   "cell_type": "code",
   "execution_count": null,
   "metadata": {},
   "outputs": [],
   "source": []
  }
 ],
 "metadata": {
  "colab": {
   "provenance": []
  },
  "kernelspec": {
   "display_name": "Python 3 (ipykernel)",
   "language": "python",
   "name": "python3"
  },
  "language_info": {
   "codemirror_mode": {
    "name": "ipython",
    "version": 3
   },
   "file_extension": ".py",
   "mimetype": "text/x-python",
   "name": "python",
   "nbconvert_exporter": "python",
   "pygments_lexer": "ipython3",
   "version": "3.12.8"
  }
 },
 "nbformat": 4,
 "nbformat_minor": 4
}

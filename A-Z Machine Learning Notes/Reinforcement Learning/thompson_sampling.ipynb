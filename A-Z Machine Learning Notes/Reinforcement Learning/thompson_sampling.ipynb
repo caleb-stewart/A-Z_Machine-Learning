{
  "nbformat": 4,
  "nbformat_minor": 0,
  "metadata": {
    "colab": {
      "provenance": [],
      "include_colab_link": true
    },
    "kernelspec": {
      "name": "python3",
      "display_name": "Python 3"
    }
  },
  "cells": [
    {
      "cell_type": "markdown",
      "metadata": {
        "id": "view-in-github",
        "colab_type": "text"
      },
      "source": [
        "<a href=\"https://colab.research.google.com/github/caleb-stewart/A-Z_Machine-Learning/blob/main/thompson_sampling.ipynb\" target=\"_parent\"><img src=\"https://colab.research.google.com/assets/colab-badge.svg\" alt=\"Open In Colab\"/></a>"
      ]
    },
    {
      "cell_type": "markdown",
      "metadata": {
        "id": "vPKTIRAtx232"
      },
      "source": [
        "# Thompson Sampling"
      ]
    },
    {
      "cell_type": "markdown",
      "metadata": {
        "id": "PqPv9zpAx-EE"
      },
      "source": [
        "## Importing the libraries"
      ]
    },
    {
      "cell_type": "code",
      "metadata": {
        "id": "lozuE-Fhx_QB"
      },
      "source": [
        "import numpy as np\n",
        "import matplotlib.pyplot as plt\n",
        "import pandas as pd"
      ],
      "execution_count": 2,
      "outputs": []
    },
    {
      "cell_type": "markdown",
      "metadata": {
        "id": "iqpVk5HhyGmO"
      },
      "source": [
        "## Importing the dataset"
      ]
    },
    {
      "cell_type": "code",
      "metadata": {
        "id": "kY4zzW4hyNfA"
      },
      "source": [
        "dataset = pd.read_csv('Ads_CTR_Optimisation.csv')\n",
        "# Dataset is 10 different ads\n",
        "# Each row is 1 or 0, yes or no if a user would click on the ad\n",
        "#   (Obviously a simulation dataset)\n"
      ],
      "execution_count": 3,
      "outputs": []
    },
    {
      "cell_type": "markdown",
      "metadata": {
        "id": "WqoXeWOYyQhB"
      },
      "source": [
        "## Implementing Thompson Sampling"
      ]
    },
    {
      "cell_type": "code",
      "metadata": {
        "id": "PCiHv51pyUII"
      },
      "source": [
        "# implementation is very similar to UCB\n",
        "import random\n",
        "N = 500 # The total number of users\n",
        "d = 10 # number of ads displayed\n",
        "ads_selected = [] # List of all adds shown\n",
        "numbers_of_rewards_0 = [0] * d\n",
        "numbers_of_rewards_1 = [0] * d\n",
        "total_reward = 0\n",
        "\n",
        "for i in range(N):\n",
        "  ad = 0\n",
        "  highest_random = 0\n",
        "\n",
        "  for j in range(d):\n",
        "    # Step 2. Get a random draw from the distribution\n",
        "    random_beta = random.betavariate(numbers_of_rewards_1[j] + 1, numbers_of_rewards_0[j] + 1)\n",
        "\n",
        "    # Replace the max random distribution\n",
        "    if random_beta > highest_random:\n",
        "      highest_random = random_beta\n",
        "      ad = j\n",
        "\n",
        "  # Select the highest ad distribution for this round, and increment what is needed\n",
        "  ads_selected.append(ad)\n",
        "  if dataset.values[i, ad] == 1:\n",
        "    numbers_of_rewards_1[ad] += 1\n",
        "  else:\n",
        "    numbers_of_rewards_0[ad] += 0\n",
        "\n",
        "  total_reward += dataset.values[i, ad]"
      ],
      "execution_count": 43,
      "outputs": []
    },
    {
      "cell_type": "markdown",
      "metadata": {
        "id": "tweWsgTHyXhv"
      },
      "source": [
        "## Visualising the results - Histogram"
      ]
    },
    {
      "cell_type": "code",
      "metadata": {
        "id": "k8DJmN06yak3",
        "outputId": "1ddceb6a-cc51-4ba2-c4e9-10b2d182abcf",
        "colab": {
          "base_uri": "https://localhost:8080/",
          "height": 472
        }
      },
      "source": [
        "plt.hist(ads_selected)\n",
        "plt.title('Histogram of ads selections')\n",
        "plt.xlabel('Ads')\n",
        "plt.ylabel('Number of times each ad was selected')\n",
        "plt.show()\n",
        "\n",
        "# You can see that this algorithm is based on probability, and no two runs will be the same\n",
        "# With a low as 500 runs we can see that ad 4 was selected to have the highest distribution"
      ],
      "execution_count": 44,
      "outputs": [
        {
          "output_type": "display_data",
          "data": {
            "text/plain": [
              "<Figure size 640x480 with 1 Axes>"
            ],
            "image/png": "[encoded data removed]"
          },
          "metadata": {}
        }
      ]
    }
  ]
}
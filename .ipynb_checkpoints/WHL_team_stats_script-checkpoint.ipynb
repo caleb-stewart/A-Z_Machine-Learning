{
 "cells": [
  {
   "cell_type": "code",
   "execution_count": 48,
   "metadata": {
    "colab": {
     "base_uri": "https://localhost:8080/"
    },
    "id": "Dv3RVhSDtuP4",
    "outputId": "896dcfe6-18c1-4e1f-df4a-6c392afde5d9"
   },
   "outputs": [
    {
     "name": "stdout",
     "output_type": "stream",
     "text": [
      "Defaulting to user installation because normal site-packages is not writeable\n",
      "Requirement already satisfied: requests in c:\\users\\caleb\\appdata\\local\\packages\\pythonsoftwarefoundation.python.3.12_qbz5n2kfra8p0\\localcache\\local-packages\\python312\\site-packages (2.32.3)\n",
      "Requirement already satisfied: charset-normalizer<4,>=2 in c:\\users\\caleb\\appdata\\local\\packages\\pythonsoftwarefoundation.python.3.12_qbz5n2kfra8p0\\localcache\\local-packages\\python312\\site-packages (from requests) (3.4.0)\n",
      "Requirement already satisfied: idna<4,>=2.5 in c:\\users\\caleb\\appdata\\local\\packages\\pythonsoftwarefoundation.python.3.12_qbz5n2kfra8p0\\localcache\\local-packages\\python312\\site-packages (from requests) (3.10)\n",
      "Requirement already satisfied: urllib3<3,>=1.21.1 in c:\\users\\caleb\\appdata\\local\\packages\\pythonsoftwarefoundation.python.3.12_qbz5n2kfra8p0\\localcache\\local-packages\\python312\\site-packages (from requests) (2.2.3)\n",
      "Requirement already satisfied: certifi>=2017.4.17 in c:\\users\\caleb\\appdata\\local\\packages\\pythonsoftwarefoundation.python.3.12_qbz5n2kfra8p0\\localcache\\local-packages\\python312\\site-packages (from requests) (2024.8.30)\n",
      "Defaulting to user installation because normal site-packages is not writeable\n",
      "Requirement already satisfied: pandas in c:\\users\\caleb\\appdata\\local\\packages\\pythonsoftwarefoundation.python.3.12_qbz5n2kfra8p0\\localcache\\local-packages\\python312\\site-packages (2.2.3)\n",
      "Requirement already satisfied: numpy>=1.26.0 in c:\\users\\caleb\\appdata\\local\\packages\\pythonsoftwarefoundation.python.3.12_qbz5n2kfra8p0\\localcache\\local-packages\\python312\\site-packages (from pandas) (1.26.4)\n",
      "Requirement already satisfied: python-dateutil>=2.8.2 in c:\\users\\caleb\\appdata\\local\\packages\\pythonsoftwarefoundation.python.3.12_qbz5n2kfra8p0\\localcache\\local-packages\\python312\\site-packages (from pandas) (2.9.0.post0)\n",
      "Requirement already satisfied: pytz>=2020.1 in c:\\users\\caleb\\appdata\\local\\packages\\pythonsoftwarefoundation.python.3.12_qbz5n2kfra8p0\\localcache\\local-packages\\python312\\site-packages (from pandas) (2024.2)\n",
      "Requirement already satisfied: tzdata>=2022.7 in c:\\users\\caleb\\appdata\\local\\packages\\pythonsoftwarefoundation.python.3.12_qbz5n2kfra8p0\\localcache\\local-packages\\python312\\site-packages (from pandas) (2024.2)\n",
      "Requirement already satisfied: six>=1.5 in c:\\users\\caleb\\appdata\\local\\packages\\pythonsoftwarefoundation.python.3.12_qbz5n2kfra8p0\\localcache\\local-packages\\python312\\site-packages (from python-dateutil>=2.8.2->pandas) (1.17.0)\n",
      "Defaulting to user installation because normal site-packages is not writeable\n",
      "Collecting tqdm\n",
      "  Downloading tqdm-4.67.1-py3-none-any.whl.metadata (57 kB)\n",
      "Requirement already satisfied: colorama in c:\\users\\caleb\\appdata\\local\\packages\\pythonsoftwarefoundation.python.3.12_qbz5n2kfra8p0\\localcache\\local-packages\\python312\\site-packages (from tqdm) (0.4.6)\n",
      "Downloading tqdm-4.67.1-py3-none-any.whl (78 kB)\n",
      "Installing collected packages: tqdm\n",
      "Successfully installed tqdm-4.67.1\n"
     ]
    }
   ],
   "source": [
    "!pip install requests\n",
    "!pip install pandas\n",
    "!pip install tqdm"
   ]
  },
  {
   "cell_type": "code",
   "execution_count": 2,
   "metadata": {
    "id": "kv1wI4PyB13_"
   },
   "outputs": [],
   "source": [
    "import requests\n",
    "from pprint import pprint\n",
    "key = '41b145a848f4bd67'\n",
    "team_id = {'Spokane Chiefs': '215', 'Seattle Thunderbirds': '214', 'Portland Winterhawks': '208', 'Everett Silvertips': '226', 'Tri-City Americans': '217', 'Kamloops Blazers': '203', 'Kelowna Rockets': '204', 'Prince George Cougars': '210', 'Brandon Wheat Kings': '201', 'Swift Current Broncos': '216', 'Vancouver Giants': '223', 'Kootenay ICE': '222', 'Victoria Royals': '227', 'Medicine Hat Tigers': '206', 'Edmonton Oil Kings': '228', 'Moose Jaw Warriors': '207', 'Regina Pats': '212', 'Saskatoon Blades': '213', 'Prince Albert Raiders': '209', 'Calgary Hitmen': '202', 'Lethbridge Hurricanes': '205', 'Red Deer Rebels': '211', 'Wenatchee Wild': '222'}"
   ]
  },
  {
   "cell_type": "markdown",
   "metadata": {
    "id": "0IgqRXEuKc4h"
   },
   "source": [
    "# URLs"
   ]
  },
  {
   "cell_type": "code",
   "execution_count": 6,
   "metadata": {
    "id": "HvgWPbLBKeL2"
   },
   "outputs": [],
   "source": [
    "def game_id_url_func(num_of_past_games, current_team_id):\n",
    "  return f'https://lscluster.hockeytech.com/feed/?feed=modulekit&key={key}&view=scorebar&client_code=whl&numberofdaysahead=0&numberofdaysback={num_of_past_games}&season_id=&team_id={current_team_id}&lang_code=en&fmt=json'\n",
    "\n",
    "def game_stats_url_func(game_id):\n",
    "  return f'https://lscluster.hockeytech.com/feed/?feed=gc&key={key}&game_id={game_id}&client_code=whl&tab=clock&lang_code=en&fmt=json'"
   ]
  },
  {
   "cell_type": "markdown",
   "metadata": {
    "id": "AGsHEWwd9djL"
   },
   "source": [
    "# Get Past Game IDs for each team"
   ]
  },
  {
   "cell_type": "code",
   "execution_count": 7,
   "metadata": {},
   "outputs": [],
   "source": [
    "'''\n",
    "Get the game IDs of the past x amount of games\n",
    "'''\n",
    "def get_game_ids(url):\n",
    "  headers = {\n",
    "      \"User-Agent\": \"Mozilla/5.0 (Windows NT 10.0; Win64; x64) AppleWebKit/537.36 (KHTML, like Gecko) Chrome/114.0.0.0 Safari/537.36\"\n",
    "  }\n",
    "\n",
    "  try:\n",
    "      response = requests.get(url, headers=headers)\n",
    "\n",
    "      # Check if the request was successful\n",
    "      if response.status_code == 200:\n",
    "\n",
    "          return response.json()['SiteKit']['Scorebar']\n",
    "          #pprint(response)\n",
    "      else:\n",
    "          print(f\"Failed to retrieve the page. Status code: {response.status_code}\")\n",
    "  except Exception as e:\n",
    "      print(f\"An error occurred: {e}\")"
   ]
  },
  {
   "cell_type": "markdown",
   "metadata": {
    "id": "050fG5VUKGTV"
   },
   "source": [
    "## Get the Team ID of each opponent"
   ]
  },
  {
   "cell_type": "markdown",
   "metadata": {
    "id": "ZlKCCcmSv6iP"
   },
   "source": [
    "### Get all teams past game IDs"
   ]
  },
  {
   "cell_type": "code",
   "execution_count": 9,
   "metadata": {
    "colab": {
     "base_uri": "https://localhost:8080/"
    },
    "id": "bXeKmf85icWT",
    "outputId": "44e123bb-7cfa-4d34-ebe7-942c553463d6",
    "scrolled": true
   },
   "outputs": [],
   "source": [
    "# Keeps track of the game IDs that each team has played\n",
    "team_games = {}\n",
    "num_of_past_games = 500\n",
    "for team in team_id:    \n",
    "  curr_game_id = game_id_url_func(num_of_past_games, team_id[team])\n",
    "  game = get_game_ids(curr_game_id)\n",
    "  team_games[team] = [x['ID'] for x in game]\n"
   ]
  },
  {
   "cell_type": "code",
   "execution_count": 13,
   "metadata": {
    "colab": {
     "background_save": true,
     "base_uri": "https://localhost:8080/"
    },
    "id": "F3wqYJXExrcJ",
    "outputId": "cb4e2bdd-def2-41f5-9a3d-2db3f21c76ee",
    "scrolled": true
   },
   "outputs": [
    {
     "name": "stdout",
     "output_type": "stream",
     "text": [
      "Spokane Chiefs: 500\n",
      "Seattle Thunderbirds: 500\n",
      "Portland Winterhawks: 500\n",
      "Everett Silvertips: 500\n",
      "Tri-City Americans: 500\n",
      "Kamloops Blazers: 500\n",
      "Kelowna Rockets: 500\n",
      "Prince George Cougars: 500\n",
      "Brandon Wheat Kings: 501\n",
      "Swift Current Broncos: 500\n",
      "Vancouver Giants: 500\n",
      "Kootenay ICE: 500\n",
      "Victoria Royals: 500\n",
      "Medicine Hat Tigers: 501\n",
      "Edmonton Oil Kings: 500\n",
      "Moose Jaw Warriors: 501\n",
      "Regina Pats: 501\n",
      "Saskatoon Blades: 500\n",
      "Prince Albert Raiders: 500\n",
      "Calgary Hitmen: 500\n",
      "Lethbridge Hurricanes: 500\n",
      "Red Deer Rebels: 500\n",
      "Wenatchee Wild: 500\n"
     ]
    }
   ],
   "source": [
    "# Check it did get the right number of previous games\n",
    "for team in team_games:\n",
    "  print(team + \": \" + str(len(team_games[team])))"
   ]
  },
  {
   "cell_type": "markdown",
   "metadata": {
    "id": "Ia9RAB867NBO"
   },
   "source": [
    "# Get the stats from specific games"
   ]
  },
  {
   "cell_type": "markdown",
   "metadata": {
    "id": "InayIACrFnIJ"
   },
   "source": [
    "## Initilize the DataFrame"
   ]
  },
  {
   "cell_type": "code",
   "execution_count": 29,
   "metadata": {
    "id": "R3Y3Eqm9EiCx"
   },
   "outputs": [],
   "source": [
    "import pandas as pd\n",
    "df_columns = [\"Game_ID\", \"Home_Name\", \"Away_Name\", \"Home_Goals\", \"Away_Goals\", \"Home_PP%\", \"Away_PP%\", \"Home_SOG\", \"Away_SOG\", \"Home_FOW%\", \"Away_FOW%\"]\n",
    "dataset = pd.DataFrame(columns=df_columns)"
   ]
  },
  {
   "cell_type": "markdown",
   "metadata": {},
   "source": [
    "## Function to fetch team stats, given a game ID"
   ]
  },
  {
   "cell_type": "code",
   "execution_count": 37,
   "metadata": {},
   "outputs": [],
   "source": [
    "'''\n",
    "Expects a game_id, which is used to access the Hockey Tech API to get the stats of a game, returned in a JSON format\n",
    "'''\n",
    "def get_game_stats(game_id):\n",
    "  game_stats_url = game_stats_url_func(game_id)\n",
    "  headers = {\n",
    "      \"User-Agent\": \"Mozilla/5.0 (Windows NT 10.0; Win64; x64) AppleWebKit/537.36 (KHTML, like Gecko) Chrome/114.0.0.0 Safari/537.36\"\n",
    "  }\n",
    "  \n",
    "  try:\n",
    "      response = requests.get(game_stats_url, headers=headers)\n",
    "  \n",
    "      # Check if the request was successful\n",
    "      if response.status_code == 200:\n",
    "  \n",
    "          return response.json()\n",
    "          pprint(response)\n",
    "      else:\n",
    "          print(f\"Failed to retrieve the page. Status code: {response.status_code}\")\n",
    "  except Exception as e:\n",
    "      print(f\"An error occurred: {e}\")"
   ]
  },
  {
   "cell_type": "markdown",
   "metadata": {},
   "source": [
    "## Parse through each game stats from each team"
   ]
  },
  {
   "cell_type": "code",
   "execution_count": null,
   "metadata": {
    "scrolled": true
   },
   "outputs": [
    {
     "name": "stderr",
     "output_type": "stream",
     "text": [
      "Processing all games:   0%|                                                      | 4/12004 [00:01<1:34:21,  2.12game/s]"
     ]
    }
   ],
   "source": [
    "from tqdm import tqdm\n",
    "\n",
    "# Calculate total number of games for the overall progress bar\n",
    "total_games = sum(len(team_games[team]) for team in team_games)\n",
    "\n",
    "# Keep track of games we've already seen\n",
    "existing_game_ids = set()\n",
    "\n",
    "with tqdm(total=total_games, desc=\"Processing all games\", unit=\"game\") as overall_pbar:\n",
    "    # Go through each team\n",
    "  for team in team_games:\n",
    "    for game in team_games[team]:\n",
    "      # Only get game stats if we haven't fetched it already\n",
    "      if game in existing_game_ids:\n",
    "          overall_pbar.update(1)  # Update the overall progress bar even if skipped\n",
    "          continue\n",
    "\n",
    "      existing_game_ids.add(game)\n",
    "        \n",
    "      # Get the stats of the game ID\n",
    "      stats = get_game_stats(game)\n",
    "  \n",
    "      # Home and visitor team names\n",
    "      visitor = stats['GC']['Clock']['visiting_team']['name']\n",
    "      home = stats['GC']['Clock']['home_team']['name']\n",
    "  \n",
    "      # Number of goals\n",
    "      home_goals = int(stats['GC']['Clock']['home_goal_count'])\n",
    "      visitor_goals = int(stats['GC']['Clock']['visiting_goal_count'])\n",
    "  \n",
    "      # Calculate Power Play %\n",
    "      home_ppp_total = float(stats['GC']['Clock']['power_play']['total']['home'])\n",
    "      visitor_ppp_total = float(stats['GC']['Clock']['power_play']['total']['visiting'])\n",
    "      # Avoid division by zero for home_ppp\n",
    "      if home_ppp_total != 0:\n",
    "          home_ppp = float(stats['GC']['Clock']['power_play']['goals']['home']) / home_ppp_total\n",
    "      else:\n",
    "          home_ppp = 0  # Default to 0 if no power plays\n",
    "      # Avoid division by zero for visitor_ppp\n",
    "      if visitor_ppp_total != 0:\n",
    "          visitor_ppp = float(stats['GC']['Clock']['power_play']['goals']['visiting']) / visitor_ppp_total\n",
    "      else:\n",
    "          visitor_ppp = 0  # Default to 0 if no power plays\n",
    "  \n",
    "      # Calculate Faceoff Win %\n",
    "      home_fowp = float(stats['GC']['Clock']['fow']['home'])\n",
    "      visitor_fowp = float(stats['GC']['Clock']['fow']['visiting'])\n",
    "      fow_total = home_fowp + visitor_fowp\n",
    "      if fow_total != 0:\n",
    "          home_fowp /= fow_total\n",
    "          visitor_fowp /= fow_total\n",
    "      else:\n",
    "          home_fowp, visitor_fowp = .5, .5\n",
    "  \n",
    "      # Shots on goal\n",
    "      home_sog = sum(stats['GC']['Clock']['shots_on_goal']['home'].values())\n",
    "      visitor_sog = sum(stats['GC']['Clock']['shots_on_goal']['visiting'].values())\n",
    "      \n",
    "      # Add data to the dataset\n",
    "      dataset.loc[len(dataset)] = {\n",
    "          \"Game_ID\": game,\n",
    "          \"Home_Name\": home,\n",
    "          \"Away_Name\": visitor,\n",
    "          \"Home_Goals\": home_goals,\n",
    "          \"Away_Goals\": visitor_goals,\n",
    "          \"Home_PP%\": home_ppp,\n",
    "          \"Away_PP%\": visitor_ppp,\n",
    "          \"Home_SOG\": home_sog,\n",
    "          \"Away_SOG\": visitor_sog,\n",
    "          \"Home_FOW%\": home_fowp,\n",
    "          \"Away_FOW%\": visitor_fowp\n",
    "      }\n",
    "  \n",
    "      # Update progress bar\n",
    "      overall_pbar.update(1)\n"
   ]
  },
  {
   "cell_type": "markdown",
   "metadata": {},
   "source": [
    "## Display and Write CSV File"
   ]
  },
  {
   "cell_type": "code",
   "execution_count": 67,
   "metadata": {
    "colab": {
     "base_uri": "https://localhost:8080/"
    },
    "id": "QR4k2mMOtHhS",
    "outputId": "5fb3f535-d90e-439d-9c6e-b0acc8fb2535",
    "scrolled": true
   },
   "outputs": [
    {
     "data": {
      "text/html": [
       "<div>\n",
       "<style scoped>\n",
       "    .dataframe tbody tr th:only-of-type {\n",
       "        vertical-align: middle;\n",
       "    }\n",
       "\n",
       "    .dataframe tbody tr th {\n",
       "        vertical-align: top;\n",
       "    }\n",
       "\n",
       "    .dataframe thead th {\n",
       "        text-align: right;\n",
       "    }\n",
       "</style>\n",
       "<table border=\"1\" class=\"dataframe\">\n",
       "  <thead>\n",
       "    <tr style=\"text-align: right;\">\n",
       "      <th></th>\n",
       "      <th>Game_ID</th>\n",
       "      <th>Home_Name</th>\n",
       "      <th>Away_Name</th>\n",
       "      <th>Home_Goals</th>\n",
       "      <th>Away_Goals</th>\n",
       "      <th>Home_PP%</th>\n",
       "      <th>Away_PP%</th>\n",
       "      <th>Home_SOG</th>\n",
       "      <th>Away_SOG</th>\n",
       "      <th>Home_FOW%</th>\n",
       "      <th>Away_FOW%</th>\n",
       "    </tr>\n",
       "  </thead>\n",
       "  <tbody>\n",
       "    <tr>\n",
       "      <th>0</th>\n",
       "      <td>1015005</td>\n",
       "      <td>Spokane Chiefs</td>\n",
       "      <td>Seattle Thunderbirds</td>\n",
       "      <td>5</td>\n",
       "      <td>4</td>\n",
       "      <td>0.166667</td>\n",
       "      <td>0.666667</td>\n",
       "      <td>42</td>\n",
       "      <td>29</td>\n",
       "      <td>0.550725</td>\n",
       "      <td>0.449275</td>\n",
       "    </tr>\n",
       "    <tr>\n",
       "      <th>1</th>\n",
       "      <td>1015015</td>\n",
       "      <td>Seattle Thunderbirds</td>\n",
       "      <td>Spokane Chiefs</td>\n",
       "      <td>5</td>\n",
       "      <td>4</td>\n",
       "      <td>0.000000</td>\n",
       "      <td>0.000000</td>\n",
       "      <td>26</td>\n",
       "      <td>33</td>\n",
       "      <td>0.584906</td>\n",
       "      <td>0.415094</td>\n",
       "    </tr>\n",
       "    <tr>\n",
       "      <th>2</th>\n",
       "      <td>1015027</td>\n",
       "      <td>Spokane Chiefs</td>\n",
       "      <td>Tri-City Americans</td>\n",
       "      <td>4</td>\n",
       "      <td>3</td>\n",
       "      <td>0.250000</td>\n",
       "      <td>0.000000</td>\n",
       "      <td>45</td>\n",
       "      <td>24</td>\n",
       "      <td>0.508475</td>\n",
       "      <td>0.491525</td>\n",
       "    </tr>\n",
       "    <tr>\n",
       "      <th>3</th>\n",
       "      <td>1015029</td>\n",
       "      <td>Tri-City Americans</td>\n",
       "      <td>Spokane Chiefs</td>\n",
       "      <td>4</td>\n",
       "      <td>3</td>\n",
       "      <td>0.500000</td>\n",
       "      <td>0.250000</td>\n",
       "      <td>26</td>\n",
       "      <td>46</td>\n",
       "      <td>0.507463</td>\n",
       "      <td>0.492537</td>\n",
       "    </tr>\n",
       "    <tr>\n",
       "      <th>4</th>\n",
       "      <td>1015052</td>\n",
       "      <td>Spokane Chiefs</td>\n",
       "      <td>Portland Winterhawks</td>\n",
       "      <td>9</td>\n",
       "      <td>3</td>\n",
       "      <td>0.750000</td>\n",
       "      <td>0.000000</td>\n",
       "      <td>50</td>\n",
       "      <td>19</td>\n",
       "      <td>0.596154</td>\n",
       "      <td>0.403846</td>\n",
       "    </tr>\n",
       "    <tr>\n",
       "      <th>...</th>\n",
       "      <td>...</td>\n",
       "      <td>...</td>\n",
       "      <td>...</td>\n",
       "      <td>...</td>\n",
       "      <td>...</td>\n",
       "      <td>...</td>\n",
       "      <td>...</td>\n",
       "      <td>...</td>\n",
       "      <td>...</td>\n",
       "      <td>...</td>\n",
       "      <td>...</td>\n",
       "    </tr>\n",
       "    <tr>\n",
       "      <th>6586</th>\n",
       "      <td>1015629</td>\n",
       "      <td>Spokane Chiefs</td>\n",
       "      <td>Kootenay ICE</td>\n",
       "      <td>6</td>\n",
       "      <td>3</td>\n",
       "      <td>0.166667</td>\n",
       "      <td>0.000000</td>\n",
       "      <td>30</td>\n",
       "      <td>27</td>\n",
       "      <td>0.555556</td>\n",
       "      <td>0.444444</td>\n",
       "    </tr>\n",
       "    <tr>\n",
       "      <th>6587</th>\n",
       "      <td>1015635</td>\n",
       "      <td>Vancouver Giants</td>\n",
       "      <td>Spokane Chiefs</td>\n",
       "      <td>5</td>\n",
       "      <td>4</td>\n",
       "      <td>0.000000</td>\n",
       "      <td>0.250000</td>\n",
       "      <td>27</td>\n",
       "      <td>24</td>\n",
       "      <td>0.370968</td>\n",
       "      <td>0.629032</td>\n",
       "    </tr>\n",
       "    <tr>\n",
       "      <th>6588</th>\n",
       "      <td>1015649</td>\n",
       "      <td>Spokane Chiefs</td>\n",
       "      <td>Medicine Hat Tigers</td>\n",
       "      <td>2</td>\n",
       "      <td>3</td>\n",
       "      <td>0.000000</td>\n",
       "      <td>0.666667</td>\n",
       "      <td>41</td>\n",
       "      <td>29</td>\n",
       "      <td>0.517241</td>\n",
       "      <td>0.482759</td>\n",
       "    </tr>\n",
       "    <tr>\n",
       "      <th>6589</th>\n",
       "      <td>1015658</td>\n",
       "      <td>Spokane Chiefs</td>\n",
       "      <td>Edmonton Oil Kings</td>\n",
       "      <td>3</td>\n",
       "      <td>2</td>\n",
       "      <td>0.333333</td>\n",
       "      <td>0.000000</td>\n",
       "      <td>32</td>\n",
       "      <td>30</td>\n",
       "      <td>0.610169</td>\n",
       "      <td>0.389831</td>\n",
       "    </tr>\n",
       "    <tr>\n",
       "      <th>6590</th>\n",
       "      <td>1015669</td>\n",
       "      <td>Swift Current Broncos</td>\n",
       "      <td>Spokane Chiefs</td>\n",
       "      <td>1</td>\n",
       "      <td>4</td>\n",
       "      <td>0.000000</td>\n",
       "      <td>0.000000</td>\n",
       "      <td>29</td>\n",
       "      <td>48</td>\n",
       "      <td>0.553846</td>\n",
       "      <td>0.446154</td>\n",
       "    </tr>\n",
       "  </tbody>\n",
       "</table>\n",
       "<p>6591 rows × 11 columns</p>\n",
       "</div>"
      ],
      "text/plain": [
       "      Game_ID              Home_Name             Away_Name  Home_Goals  \\\n",
       "0     1015005         Spokane Chiefs  Seattle Thunderbirds           5   \n",
       "1     1015015   Seattle Thunderbirds        Spokane Chiefs           5   \n",
       "2     1015027         Spokane Chiefs    Tri-City Americans           4   \n",
       "3     1015029     Tri-City Americans        Spokane Chiefs           4   \n",
       "4     1015052         Spokane Chiefs  Portland Winterhawks           9   \n",
       "...       ...                    ...                   ...         ...   \n",
       "6586  1015629         Spokane Chiefs          Kootenay ICE           6   \n",
       "6587  1015635       Vancouver Giants        Spokane Chiefs           5   \n",
       "6588  1015649         Spokane Chiefs   Medicine Hat Tigers           2   \n",
       "6589  1015658         Spokane Chiefs    Edmonton Oil Kings           3   \n",
       "6590  1015669  Swift Current Broncos        Spokane Chiefs           1   \n",
       "\n",
       "      Away_Goals  Home_PP%  Away_PP%  Home_SOG  Away_SOG  Home_FOW%  Away_FOW%  \n",
       "0              4  0.166667  0.666667        42        29   0.550725   0.449275  \n",
       "1              4  0.000000  0.000000        26        33   0.584906   0.415094  \n",
       "2              3  0.250000  0.000000        45        24   0.508475   0.491525  \n",
       "3              3  0.500000  0.250000        26        46   0.507463   0.492537  \n",
       "4              3  0.750000  0.000000        50        19   0.596154   0.403846  \n",
       "...          ...       ...       ...       ...       ...        ...        ...  \n",
       "6586           3  0.166667  0.000000        30        27   0.555556   0.444444  \n",
       "6587           4  0.000000  0.250000        27        24   0.370968   0.629032  \n",
       "6588           3  0.000000  0.666667        41        29   0.517241   0.482759  \n",
       "6589           2  0.333333  0.000000        32        30   0.610169   0.389831  \n",
       "6590           4  0.000000  0.000000        29        48   0.553846   0.446154  \n",
       "\n",
       "[6591 rows x 11 columns]"
      ]
     },
     "metadata": {},
     "output_type": "display_data"
    },
    {
     "name": "stdout",
     "output_type": "stream",
     "text": [
      "Successfully wrote to CSV file\n"
     ]
    }
   ],
   "source": [
    "# Show the dataset\n",
    "display(dataset)\n",
    "\n",
    "# Write to comma separated values file\n",
    "dataset.to_csv('All_teams_WHL_stats.csv')\n",
    "print('Successfully wrote to CSV file')"
   ]
  },
  {
   "cell_type": "code",
   "execution_count": null,
   "metadata": {},
   "outputs": [],
   "source": []
  }
 ],
 "metadata": {
  "colab": {
   "provenance": []
  },
  "kernelspec": {
   "display_name": "Python 3 (ipykernel)",
   "language": "python",
   "name": "python3"
  },
  "language_info": {
   "codemirror_mode": {
    "name": "ipython",
    "version": 3
   },
   "file_extension": ".py",
   "mimetype": "text/x-python",
   "name": "python",
   "nbconvert_exporter": "python",
   "pygments_lexer": "ipython3",
   "version": "3.12.8"
  }
 },
 "nbformat": 4,
 "nbformat_minor": 4
}

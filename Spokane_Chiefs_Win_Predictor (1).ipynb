{
 "cells": [
  {
   "cell_type": "code",
   "execution_count": 2,
   "metadata": {
    "colab": {
     "base_uri": "https://localhost:8080/"
    },
    "id": "Dv3RVhSDtuP4",
    "outputId": "896dcfe6-18c1-4e1f-df4a-6c392afde5d9"
   },
   "outputs": [
    {
     "name": "stdout",
     "output_type": "stream",
     "text": [
      "Defaulting to user installation because normal site-packages is not writeable\n",
      "Requirement already satisfied: requests in c:\\users\\caleb\\appdata\\local\\packages\\pythonsoftwarefoundation.python.3.12_qbz5n2kfra8p0\\localcache\\local-packages\\python312\\site-packages (2.32.3)\n",
      "Requirement already satisfied: charset-normalizer<4,>=2 in c:\\users\\caleb\\appdata\\local\\packages\\pythonsoftwarefoundation.python.3.12_qbz5n2kfra8p0\\localcache\\local-packages\\python312\\site-packages (from requests) (3.4.0)\n",
      "Requirement already satisfied: idna<4,>=2.5 in c:\\users\\caleb\\appdata\\local\\packages\\pythonsoftwarefoundation.python.3.12_qbz5n2kfra8p0\\localcache\\local-packages\\python312\\site-packages (from requests) (3.10)\n",
      "Requirement already satisfied: urllib3<3,>=1.21.1 in c:\\users\\caleb\\appdata\\local\\packages\\pythonsoftwarefoundation.python.3.12_qbz5n2kfra8p0\\localcache\\local-packages\\python312\\site-packages (from requests) (2.2.3)\n",
      "Requirement already satisfied: certifi>=2017.4.17 in c:\\users\\caleb\\appdata\\local\\packages\\pythonsoftwarefoundation.python.3.12_qbz5n2kfra8p0\\localcache\\local-packages\\python312\\site-packages (from requests) (2024.8.30)\n",
      "Defaulting to user installation because normal site-packages is not writeable\n",
      "Requirement already satisfied: pandas in c:\\users\\caleb\\appdata\\local\\packages\\pythonsoftwarefoundation.python.3.12_qbz5n2kfra8p0\\localcache\\local-packages\\python312\\site-packages (2.2.3)\n",
      "Requirement already satisfied: numpy>=1.26.0 in c:\\users\\caleb\\appdata\\local\\packages\\pythonsoftwarefoundation.python.3.12_qbz5n2kfra8p0\\localcache\\local-packages\\python312\\site-packages (from pandas) (1.26.4)\n",
      "Requirement already satisfied: python-dateutil>=2.8.2 in c:\\users\\caleb\\appdata\\local\\packages\\pythonsoftwarefoundation.python.3.12_qbz5n2kfra8p0\\localcache\\local-packages\\python312\\site-packages (from pandas) (2.9.0.post0)\n",
      "Requirement already satisfied: pytz>=2020.1 in c:\\users\\caleb\\appdata\\local\\packages\\pythonsoftwarefoundation.python.3.12_qbz5n2kfra8p0\\localcache\\local-packages\\python312\\site-packages (from pandas) (2024.2)\n",
      "Requirement already satisfied: tzdata>=2022.7 in c:\\users\\caleb\\appdata\\local\\packages\\pythonsoftwarefoundation.python.3.12_qbz5n2kfra8p0\\localcache\\local-packages\\python312\\site-packages (from pandas) (2024.2)\n",
      "Requirement already satisfied: six>=1.5 in c:\\users\\caleb\\appdata\\local\\packages\\pythonsoftwarefoundation.python.3.12_qbz5n2kfra8p0\\localcache\\local-packages\\python312\\site-packages (from python-dateutil>=2.8.2->pandas) (1.17.0)\n"
     ]
    }
   ],
   "source": [
    "!pip install requests\n",
    "!pip install pandas"
   ]
  },
  {
   "cell_type": "code",
   "execution_count": 3,
   "metadata": {
    "id": "kv1wI4PyB13_"
   },
   "outputs": [],
   "source": [
    "import requests\n",
    "from pprint import pprint\n",
    "key = '41b145a848f4bd67'\n",
    "team_id = {'Spokane Chiefs': '215', 'Seattle Thunderbirds': '214', 'Portland Winterhawks': '208', 'Everett Silvertips': '226', 'Tri-City Americans': '217', 'Kamloops Blazers': '203', 'Kelowna Rockets': '204', 'Prince George Cougars': '210', 'Brandon Wheat Kings': '201', 'Swift Current Broncos': '216', 'Vancouver Giants': '223', 'Kootenay ICE': '222', 'Victoria Royals': '227', 'Medicine Hat Tigers': '206', 'Edmonton Oil Kings': '228', 'Moose Jaw Warriors': '207', 'Regina Pats': '212', 'Saskatoon Blades': '213', 'Prince Albert Raiders': '209', 'Calgary Hitmen': '202', 'Lethbridge Hurricanes': '205', 'Red Deer Rebels': '211', 'Winnipeg ICE': '222', 'Wenatchee Wild': '222'}"
   ]
  },
  {
   "cell_type": "markdown",
   "metadata": {
    "id": "0IgqRXEuKc4h"
   },
   "source": [
    "# URLs"
   ]
  },
  {
   "cell_type": "code",
   "execution_count": 4,
   "metadata": {
    "id": "HvgWPbLBKeL2"
   },
   "outputs": [],
   "source": [
    "def game_id_url_func(num_of_past_games, current_team_id):\n",
    "  return f'https://lscluster.hockeytech.com/feed/?feed=modulekit&key={key}&view=scorebar&client_code=whl&numberofdaysahead=0&numberofdaysback={num_of_past_games}&season_id=&team_id={current_team_id}&lang_code=en&fmt=json'\n",
    "\n",
    "def game_stats_url_func(game_id):\n",
    "  return f'https://lscluster.hockeytech.com/feed/?feed=gc&key={key}&game_id={game_id}&client_code=whl&tab=clock&lang_code=en&fmt=json'"
   ]
  },
  {
   "cell_type": "markdown",
   "metadata": {
    "id": "AGsHEWwd9djL"
   },
   "source": [
    "# Get the game id for each game the Chiefs played"
   ]
  },
  {
   "cell_type": "code",
   "execution_count": 5,
   "metadata": {},
   "outputs": [],
   "source": [
    "def get_game_ids(url):\n",
    "  headers = {\n",
    "      \"User-Agent\": \"Mozilla/5.0 (Windows NT 10.0; Win64; x64) AppleWebKit/537.36 (KHTML, like Gecko) Chrome/114.0.0.0 Safari/537.36\"\n",
    "  }\n",
    "\n",
    "  try:\n",
    "      response = requests.get(url, headers=headers)\n",
    "\n",
    "      # Check if the request was successful\n",
    "      if response.status_code == 200:\n",
    "\n",
    "          return response.json()['SiteKit']['Scorebar']\n",
    "          #pprint(response)\n",
    "      else:\n",
    "          print(f\"Failed to retrieve the page. Status code: {response.status_code}\")\n",
    "  except Exception as e:\n",
    "      print(f\"An error occurred: {e}\")"
   ]
  },
  {
   "cell_type": "markdown",
   "metadata": {
    "id": "050fG5VUKGTV"
   },
   "source": [
    "## Get the Team ID of each opponent"
   ]
  },
  {
   "cell_type": "code",
   "execution_count": 22,
   "metadata": {
    "colab": {
     "base_uri": "https://localhost:8080/"
    },
    "id": "rRGERgMajxAr",
    "outputId": "25c63225-98f8-4fec-c766-002b1d32c1be",
    "scrolled": true
   },
   "outputs": [
    {
     "name": "stdout",
     "output_type": "stream",
     "text": [
      "[{'ID': '1020938', 'SeasonID': '281', 'league_id': '26', 'game_number': '677', 'game_letter': 'RS', 'game_type': '', 'quick_score': '0', 'Date': '2024-03-08', 'FloCoreEventId': '', 'FloLiveEventId': '', 'GameDate': 'Fri, Mar 8', 'GameDateISO8601': '2024-03-08T19:05:00-08:00', 'ScheduledTime': '19:05:00', 'ScheduledFormattedTime': '7:05 pm', 'Timezone': 'Canada/Pacific', 'TicketUrl': 'https://tickets.seattlethunderbirds.com/', 'HomeID': '214', 'HomeCode': 'SEA', 'HomeCity': 'Seattle', 'HomeNickname': 'Thunderbirds', 'HomeLongName': 'Seattle Thunderbirds', 'HomeDivision': 'U.S. Division', 'HomeGoals': '5', 'HomeAudioUrl': '', 'HomeVideoUrl': 'https://watch.chl.ca/', 'HomeWebcastUrl': 'https://watch.chl.ca/', 'VisitorID': '215', 'VisitorCode': 'SPO', 'VisitorCity': 'Spokane', 'VisitorNickname': 'Chiefs', 'VisitorLongName': 'Spokane Chiefs', 'VisitingDivision': 'U.S. Division', 'VisitorGoals': '4', 'VisitorAudioUrl': 'https://1035thegame.com/', 'VisitorVideoUrl': '', 'VisitorWebcastUrl': 'https://watch.chl.ca/whl_chl', 'Period': '3', 'PeriodNameShort': '3', 'PeriodNameLong': '3rd', 'GameClock': '00:00', 'GameSummaryUrl': '1020938', 'HomeWins': '27', 'HomeRegulationLosses': '38', 'HomeOTLosses': '2', 'HomeShootoutLosses': '1', 'VisitorWins': '30', 'VisitorRegulationLosses': '32', 'VisitorOTLosses': '5', 'VisitorShootoutLosses': '1', 'GameStatus': '4', 'Intermission': '0', 'GameStatusString': 'Final', 'GameStatusStringLong': 'Final', 'Ord': '2024-03-08 22:05:00.000000', 'venue_name': 'accesso ShoWare Center - Kent, WA', 'venue_location': 'Kent', 'league_name': 'Western Hockey League', 'league_code': 'whl', 'TimezoneShort': 'PST', 'HomeLogo': 'https://assets.leaguestat.com/whl/logos/214.png', 'VisitorLogo': 'https://assets.leaguestat.com/whl/logos/215.png', 'FloHockeyUrl': '', 'combined_client_code': None}, {'ID': '1020947', 'SeasonID': '281', 'league_id': '26', 'game_number': '686', 'game_letter': 'RS', 'game_type': '', 'quick_score': '0', 'Date': '2024-03-09', 'FloCoreEventId': '', 'FloLiveEventId': '', 'GameDate': 'Sat, Mar 9', 'GameDateISO8601': '2024-03-09T18:05:00-08:00', 'ScheduledTime': '18:05:00', 'ScheduledFormattedTime': '6:05 pm', 'Timezone': 'Canada/Pacific', 'TicketUrl': 'https://spokanechiefstickets.evenue.net/cgi-bin/ncommerce3/SEGetEventInfo?ticketCode=GS%3ACHF%3AECHF24%3AECHF31%3A&linkID=twcorp-chf&shopperContext=&pc=&caller=&appCode=&groupCode=CHF20&cgc=&dataAccId=883&locale=en_US&siteId=ev_twcorp-chf', 'HomeID': '215', 'HomeCode': 'SPO', 'HomeCity': 'Spokane', 'HomeNickname': 'Chiefs', 'HomeLongName': 'Spokane Chiefs', 'HomeDivision': 'U.S. Division', 'HomeGoals': '5', 'HomeAudioUrl': 'https://1035thegame.com/', 'HomeVideoUrl': '', 'HomeWebcastUrl': 'https://watch.chl.ca/whl_chl', 'VisitorID': '214', 'VisitorCode': 'SEA', 'VisitorCity': 'Seattle', 'VisitorNickname': 'Thunderbirds', 'VisitorLongName': 'Seattle Thunderbirds', 'VisitingDivision': 'U.S. Division', 'VisitorGoals': '1', 'VisitorAudioUrl': '', 'VisitorVideoUrl': 'https://watch.chl.ca/', 'VisitorWebcastUrl': 'https://watch.chl.ca/', 'Period': '3', 'PeriodNameShort': '3', 'PeriodNameLong': '3rd', 'GameClock': '00:00', 'GameSummaryUrl': '1020947', 'HomeWins': '30', 'HomeRegulationLosses': '32', 'HomeOTLosses': '5', 'HomeShootoutLosses': '1', 'VisitorWins': '27', 'VisitorRegulationLosses': '38', 'VisitorOTLosses': '2', 'VisitorShootoutLosses': '1', 'GameStatus': '4', 'Intermission': '0', 'GameStatusString': 'Final', 'GameStatusStringLong': 'Final', 'Ord': '2024-03-09 21:05:00.000000', 'venue_name': 'Spokane Veterans Memorial Arena - Spokane, WA', 'venue_location': 'Spokane, WA', 'league_name': 'Western Hockey League', 'league_code': 'whl', 'TimezoneShort': 'PST', 'HomeLogo': 'https://assets.leaguestat.com/whl/logos/215.png', 'VisitorLogo': 'https://assets.leaguestat.com/whl/logos/214.png', 'FloHockeyUrl': '', 'combined_client_code': None}, {'ID': '1020953', 'SeasonID': '281', 'league_id': '26', 'game_number': '692', 'game_letter': 'RS', 'game_type': '', 'quick_score': '0', 'Date': '2024-03-12', 'FloCoreEventId': '', 'FloLiveEventId': '', 'GameDate': 'Tue, Mar 12', 'GameDateISO8601': '2024-03-12T19:05:00-07:00', 'ScheduledTime': '19:05:00', 'ScheduledFormattedTime': '7:05 pm', 'Timezone': 'Canada/Pacific', 'TicketUrl': 'https://spokanechiefstickets.evenue.net/cgi-bin/ncommerce3/SEGetEventInfo?ticketCode=GS%3ACHF%3AECHF24%3AECHF32%3A&linkID=twcorp-chf&shopperContext=&pc=&caller=&appCode=&groupCode=CHF20&cgc=&dataAccId=883&locale=en_US&siteId=ev_twcorp-chf', 'HomeID': '215', 'HomeCode': 'SPO', 'HomeCity': 'Spokane', 'HomeNickname': 'Chiefs', 'HomeLongName': 'Spokane Chiefs', 'HomeDivision': 'U.S. Division', 'HomeGoals': '2', 'HomeAudioUrl': 'https://1035thegame.com/', 'HomeVideoUrl': '', 'HomeWebcastUrl': 'https://watch.chl.ca/whl_chl', 'VisitorID': '208', 'VisitorCode': 'POR', 'VisitorCity': 'Portland', 'VisitorNickname': 'Winterhawks', 'VisitorLongName': 'Portland Winterhawks', 'VisitingDivision': 'U.S. Division', 'VisitorGoals': '3', 'VisitorAudioUrl': 'pdxhwk.com/listen', 'VisitorVideoUrl': 'watch.chl.ca/whl_chl', 'VisitorWebcastUrl': '', 'Period': '3', 'PeriodNameShort': '3', 'PeriodNameLong': '3rd', 'GameClock': '00:00', 'GameSummaryUrl': '1020953', 'HomeWins': '30', 'HomeRegulationLosses': '32', 'HomeOTLosses': '5', 'HomeShootoutLosses': '1', 'VisitorWins': '48', 'VisitorRegulationLosses': '15', 'VisitorOTLosses': '4', 'VisitorShootoutLosses': '1', 'GameStatus': '4', 'Intermission': '0', 'GameStatusString': 'Final', 'GameStatusStringLong': 'Final', 'Ord': '2024-03-12 22:05:00.000000', 'venue_name': 'Spokane Veterans Memorial Arena - Spokane, WA', 'venue_location': 'Spokane, WA', 'league_name': 'Western Hockey League', 'league_code': 'whl', 'TimezoneShort': 'PDT', 'HomeLogo': 'https://assets.leaguestat.com/whl/logos/215.png', 'VisitorLogo': 'https://assets.leaguestat.com/whl/logos/50x50/208.png', 'FloHockeyUrl': '', 'combined_client_code': None}, {'ID': '1020966', 'SeasonID': '281', 'league_id': '26', 'game_number': '705', 'game_letter': 'RS', 'game_type': '', 'quick_score': '0', 'Date': '2024-03-15', 'FloCoreEventId': '', 'FloLiveEventId': '', 'GameDate': 'Fri, Mar 15', 'GameDateISO8601': '2024-03-15T19:00:00-07:00', 'ScheduledTime': '19:00:00', 'ScheduledFormattedTime': '7:00 pm', 'Timezone': 'Canada/Pacific', 'TicketUrl': 'tickets.wenatcheewildhockey.com', 'HomeID': '222', 'HomeCode': 'WEN', 'HomeCity': 'Wenatchee', 'HomeNickname': 'Wild', 'HomeLongName': 'Wenatchee Wild', 'HomeDivision': 'U.S. Division', 'HomeGoals': '3', 'HomeAudioUrl': 'https://kpq.com/listen-live/', 'HomeVideoUrl': '', 'HomeWebcastUrl': '', 'VisitorID': '215', 'VisitorCode': 'SPO', 'VisitorCity': 'Spokane', 'VisitorNickname': 'Chiefs', 'VisitorLongName': 'Spokane Chiefs', 'VisitingDivision': 'U.S. Division', 'VisitorGoals': '1', 'VisitorAudioUrl': 'https://1035thegame.com/', 'VisitorVideoUrl': '', 'VisitorWebcastUrl': 'https://watch.chl.ca/whl_chl', 'Period': '3', 'PeriodNameShort': '3', 'PeriodNameLong': '3rd', 'GameClock': '00:00', 'GameSummaryUrl': '1020966', 'HomeWins': '34', 'HomeRegulationLosses': '30', 'HomeOTLosses': '4', 'HomeShootoutLosses': '0', 'VisitorWins': '30', 'VisitorRegulationLosses': '32', 'VisitorOTLosses': '5', 'VisitorShootoutLosses': '1', 'GameStatus': '4', 'Intermission': '0', 'GameStatusString': 'Final', 'GameStatusStringLong': 'Final', 'Ord': '2024-03-15 22:00:00.000000', 'venue_name': 'Town Toyota Center - Wenatchee, WA', 'venue_location': 'Wenatchee, WA', 'league_name': 'Western Hockey League', 'league_code': 'whl', 'TimezoneShort': 'PDT', 'HomeLogo': 'https://assets.leaguestat.com/whl/logos/50x50/222.png', 'VisitorLogo': 'https://assets.leaguestat.com/whl/logos/215.png', 'FloHockeyUrl': '', 'combined_client_code': None}, {'ID': '1020973', 'SeasonID': '281', 'league_id': '26', 'game_number': '712', 'game_letter': 'RS', 'game_type': '', 'quick_score': '0', 'Date': '2024-03-16', 'FloCoreEventId': '', 'FloLiveEventId': '', 'GameDate': 'Sat, Mar 16', 'GameDateISO8601': '2024-03-16T18:35:00-07:00', 'ScheduledTime': '18:35:00', 'ScheduledFormattedTime': '6:35 pm', 'Timezone': 'Canada/Pacific', 'TicketUrl': 'https://spokanechiefstickets.evenue.net/cgi-bin/ncommerce3/SEGetEventInfo?ticketCode=GS%3ACHF%3AECHF24%3AECHF33%3A&linkID=twcorp-chf&shopperContext=&pc=&caller=&appCode=&groupCode=CHF20&cgc=&dataAccId=883&locale=en_US&siteId=ev_twcorp-chf', 'HomeID': '215', 'HomeCode': 'SPO', 'HomeCity': 'Spokane', 'HomeNickname': 'Chiefs', 'HomeLongName': 'Spokane Chiefs', 'HomeDivision': 'U.S. Division', 'HomeGoals': '7', 'HomeAudioUrl': 'https://1035thegame.com/', 'HomeVideoUrl': '', 'HomeWebcastUrl': 'https://watch.chl.ca/whl_chl', 'VisitorID': '217', 'VisitorCode': 'TC', 'VisitorCity': 'Tri-City', 'VisitorNickname': 'Americans', 'VisitorLongName': 'Tri-City Americans', 'VisitingDivision': 'U.S. Division', 'VisitorGoals': '6', 'VisitorAudioUrl': 'https://chl.ca/whl-americans/broadcast-information/', 'VisitorVideoUrl': '', 'VisitorWebcastUrl': 'https://watch.chl.ca/', 'Period': '3', 'PeriodNameShort': '3', 'PeriodNameLong': '3rd', 'GameClock': '00:00', 'GameSummaryUrl': '1020973', 'HomeWins': '30', 'HomeRegulationLosses': '32', 'HomeOTLosses': '5', 'HomeShootoutLosses': '1', 'VisitorWins': '23', 'VisitorRegulationLosses': '42', 'VisitorOTLosses': '2', 'VisitorShootoutLosses': '1', 'GameStatus': '4', 'Intermission': '0', 'GameStatusString': 'Final', 'GameStatusStringLong': 'Final', 'Ord': '2024-03-16 21:35:00.000000', 'venue_name': 'Spokane Veterans Memorial Arena - Spokane, WA', 'venue_location': 'Spokane, WA', 'league_name': 'Western Hockey League', 'league_code': 'whl', 'TimezoneShort': 'PDT', 'HomeLogo': 'https://assets.leaguestat.com/whl/logos/215.png', 'VisitorLogo': 'https://assets.leaguestat.com/whl/logos/217.png', 'FloHockeyUrl': '', 'combined_client_code': None}, {'ID': '1020980', 'SeasonID': '281', 'league_id': '26', 'game_number': '719', 'game_letter': 'RS', 'game_type': '', 'quick_score': '0', 'Date': '2024-03-17', 'FloCoreEventId': '', 'FloLiveEventId': '', 'GameDate': 'Sun, Mar 17', 'GameDateISO8601': '2024-03-17T17:05:00-07:00', 'ScheduledTime': '17:05:00', 'ScheduledFormattedTime': '5:05 pm', 'Timezone': 'Canada/Pacific', 'TicketUrl': 'https://spokanechiefstickets.evenue.net/cgi-bin/ncommerce3/SEGetEventInfo?ticketCode=GS%3ACHF%3AECHF24%3AECHF34%3A&linkID=twcorp-chf&shopperContext=&pc=&caller=&appCode=&groupCode=CHF20&cgc=&dataAccId=883&locale=en_US&siteId=ev_twcorp-chf', 'HomeID': '215', 'HomeCode': 'SPO', 'HomeCity': 'Spokane', 'HomeNickname': 'Chiefs', 'HomeLongName': 'Spokane Chiefs', 'HomeDivision': 'U.S. Division', 'HomeGoals': '6', 'HomeAudioUrl': 'https://1035thegame.com/', 'HomeVideoUrl': '', 'HomeWebcastUrl': 'https://watch.chl.ca/whl_chl', 'VisitorID': '222', 'VisitorCode': 'WEN', 'VisitorCity': 'Wenatchee', 'VisitorNickname': 'Wild', 'VisitorLongName': 'Wenatchee Wild', 'VisitingDivision': 'U.S. Division', 'VisitorGoals': '1', 'VisitorAudioUrl': 'https://kpq.com/listen-live/', 'VisitorVideoUrl': '', 'VisitorWebcastUrl': '', 'Period': '3', 'PeriodNameShort': '3', 'PeriodNameLong': '3rd', 'GameClock': '00:00', 'GameSummaryUrl': '1020980', 'HomeWins': '30', 'HomeRegulationLosses': '32', 'HomeOTLosses': '5', 'HomeShootoutLosses': '1', 'VisitorWins': '34', 'VisitorRegulationLosses': '30', 'VisitorOTLosses': '4', 'VisitorShootoutLosses': '0', 'GameStatus': '4', 'Intermission': '0', 'GameStatusString': 'Final', 'GameStatusStringLong': 'Final', 'Ord': '2024-03-17 20:05:00.000000', 'venue_name': 'Spokane Veterans Memorial Arena - Spokane, WA', 'venue_location': 'Spokane, WA', 'league_name': 'Western Hockey League', 'league_code': 'whl', 'TimezoneShort': 'PDT', 'HomeLogo': 'https://assets.leaguestat.com/whl/logos/215.png', 'VisitorLogo': 'https://assets.leaguestat.com/whl/logos/50x50/222.png', 'FloHockeyUrl': '', 'combined_client_code': None}, {'ID': '1020992', 'SeasonID': '281', 'league_id': '26', 'game_number': '731', 'game_letter': 'RS', 'game_type': '', 'quick_score': '0', 'Date': '2024-03-22', 'FloCoreEventId': '', 'FloLiveEventId': '', 'GameDate': 'Fri, Mar 22', 'GameDateISO8601': '2024-03-22T19:05:00-07:00', 'ScheduledTime': '19:05:00', 'ScheduledFormattedTime': '7:05 pm', 'Timezone': 'Canada/Pacific', 'TicketUrl': 'https://tickets.seattlethunderbirds.com/', 'HomeID': '214', 'HomeCode': 'SEA', 'HomeCity': 'Seattle', 'HomeNickname': 'Thunderbirds', 'HomeLongName': 'Seattle Thunderbirds', 'HomeDivision': 'U.S. Division', 'HomeGoals': '3', 'HomeAudioUrl': '', 'HomeVideoUrl': 'https://watch.chl.ca/', 'HomeWebcastUrl': 'https://watch.chl.ca/', 'VisitorID': '215', 'VisitorCode': 'SPO', 'VisitorCity': 'Spokane', 'VisitorNickname': 'Chiefs', 'VisitorLongName': 'Spokane Chiefs', 'VisitingDivision': 'U.S. Division', 'VisitorGoals': '1', 'VisitorAudioUrl': 'https://1035thegame.com/', 'VisitorVideoUrl': '', 'VisitorWebcastUrl': 'https://watch.chl.ca/whl_chl', 'Period': '3', 'PeriodNameShort': '3', 'PeriodNameLong': '3rd', 'GameClock': '00:00', 'GameSummaryUrl': '1020992', 'HomeWins': '27', 'HomeRegulationLosses': '38', 'HomeOTLosses': '2', 'HomeShootoutLosses': '1', 'VisitorWins': '30', 'VisitorRegulationLosses': '32', 'VisitorOTLosses': '5', 'VisitorShootoutLosses': '1', 'GameStatus': '4', 'Intermission': '0', 'GameStatusString': 'Final', 'GameStatusStringLong': 'Final', 'Ord': '2024-03-22 22:05:00.000000', 'venue_name': 'accesso ShoWare Center - Kent, WA', 'venue_location': 'Kent', 'league_name': 'Western Hockey League', 'league_code': 'whl', 'TimezoneShort': 'PDT', 'HomeLogo': 'https://assets.leaguestat.com/whl/logos/214.png', 'VisitorLogo': 'https://assets.leaguestat.com/whl/logos/215.png', 'FloHockeyUrl': '', 'combined_client_code': None}, {'ID': '1021005', 'SeasonID': '281', 'league_id': '26', 'game_number': '744', 'game_letter': 'RS', 'game_type': '', 'quick_score': '0', 'Date': '2024-03-23', 'FloCoreEventId': '', 'FloLiveEventId': '', 'GameDate': 'Sat, Mar 23', 'GameDateISO8601': '2024-03-23T18:05:00-07:00', 'ScheduledTime': '18:05:00', 'ScheduledFormattedTime': '6:05 pm', 'Timezone': 'Canada/Pacific', 'TicketUrl': 'https://www.ticketmaster.com/TriCity-Americans-tickets/artist/833511', 'HomeID': '217', 'HomeCode': 'TC', 'HomeCity': 'Tri-City', 'HomeNickname': 'Americans', 'HomeLongName': 'Tri-City Americans', 'HomeDivision': 'U.S. Division', 'HomeGoals': '3', 'HomeAudioUrl': 'https://chl.ca/whl-americans/broadcast-information/', 'HomeVideoUrl': '', 'HomeWebcastUrl': 'https://watch.chl.ca/', 'VisitorID': '215', 'VisitorCode': 'SPO', 'VisitorCity': 'Spokane', 'VisitorNickname': 'Chiefs', 'VisitorLongName': 'Spokane Chiefs', 'VisitingDivision': 'U.S. Division', 'VisitorGoals': '6', 'VisitorAudioUrl': 'https://1035thegame.com/', 'VisitorVideoUrl': '', 'VisitorWebcastUrl': 'https://watch.chl.ca/whl_chl', 'Period': '3', 'PeriodNameShort': '3', 'PeriodNameLong': '3rd', 'GameClock': '00:00', 'GameSummaryUrl': '1021005', 'HomeWins': '23', 'HomeRegulationLosses': '42', 'HomeOTLosses': '2', 'HomeShootoutLosses': '1', 'VisitorWins': '30', 'VisitorRegulationLosses': '32', 'VisitorOTLosses': '5', 'VisitorShootoutLosses': '1', 'GameStatus': '4', 'Intermission': '0', 'GameStatusString': 'Final', 'GameStatusStringLong': 'Final', 'Ord': '2024-03-23 21:05:00.000000', 'venue_name': 'Toyota Center - Kennewick, WA', 'venue_location': 'Tri-Cities', 'league_name': 'Western Hockey League', 'league_code': 'whl', 'TimezoneShort': 'PDT', 'HomeLogo': 'https://assets.leaguestat.com/whl/logos/217.png', 'VisitorLogo': 'https://assets.leaguestat.com/whl/logos/215.png', 'FloHockeyUrl': '', 'combined_client_code': None}, {'ID': '1021021', 'SeasonID': '284', 'league_id': '26', 'game_number': '0', 'game_letter': 'E', 'game_type': '', 'quick_score': '0', 'Date': '2024-03-29', 'FloCoreEventId': '', 'FloLiveEventId': '', 'GameDate': 'Fri, Mar 29', 'GameDateISO8601': '2024-03-29T19:00:00-07:00', 'ScheduledTime': '19:00:00', 'ScheduledFormattedTime': '7:00 pm', 'Timezone': 'Canada/Pacific', 'TicketUrl': 'https://ticketsnorth.evenue.net/cgi-bin/ncommerce3/SEGetEventList?groupCode=CSG&linkID=pghc&shopperContext=&caller=&appCode=', 'HomeID': '210', 'HomeCode': 'PG', 'HomeCity': 'Prince George', 'HomeNickname': 'Cougars', 'HomeLongName': 'Prince George Cougars', 'HomeDivision': 'B.C. Division', 'HomeGoals': '6', 'HomeAudioUrl': 'https://radioplayer.vistaradio.ca/cirx/', 'HomeVideoUrl': '', 'HomeWebcastUrl': 'https://watch.chl.ca/chl_persona', 'VisitorID': '215', 'VisitorCode': 'SPO', 'VisitorCity': 'Spokane', 'VisitorNickname': 'Chiefs', 'VisitorLongName': 'Spokane Chiefs', 'VisitingDivision': 'U.S. Division', 'VisitorGoals': '1', 'VisitorAudioUrl': 'https://radio.securenetsystems.net/cirrusencore/kga', 'VisitorVideoUrl': '', 'VisitorWebcastUrl': 'https://watch.chl.ca/chl_persona', 'Period': '3', 'PeriodNameShort': '3', 'PeriodNameLong': '3rd', 'GameClock': '00:00', 'GameSummaryUrl': '1021021', 'HomeWins': '10', 'HomeRegulationLosses': '5', 'HomeOTLosses': '0', 'HomeShootoutLosses': '0', 'VisitorWins': '0', 'VisitorRegulationLosses': '4', 'VisitorOTLosses': '0', 'VisitorShootoutLosses': '0', 'GameStatus': '4', 'Intermission': '0', 'GameStatusString': 'Final', 'GameStatusStringLong': 'Final', 'Ord': '2024-03-29 22:00:00.000000', 'venue_name': 'CN Centre - Prince George, BC', 'venue_location': 'Prince George', 'league_name': 'Western Hockey League', 'league_code': 'whl', 'TimezoneShort': 'PDT', 'HomeLogo': 'https://assets.leaguestat.com/whl/logos/210.png', 'VisitorLogo': 'https://assets.leaguestat.com/whl/logos/215.png', 'FloHockeyUrl': '', 'combined_client_code': None}, {'ID': '1021022', 'SeasonID': '284', 'league_id': '26', 'game_number': '0', 'game_letter': 'E', 'game_type': '', 'quick_score': '0', 'Date': '2024-03-30', 'FloCoreEventId': '', 'FloLiveEventId': '', 'GameDate': 'Sat, Mar 30', 'GameDateISO8601': '2024-03-30T18:00:00-07:00', 'ScheduledTime': '18:00:00', 'ScheduledFormattedTime': '6:00 pm', 'Timezone': 'Canada/Pacific', 'TicketUrl': 'https://ticketsnorth.evenue.net/cgi-bin/ncommerce3/SEGetEventList?groupCode=CSG&linkID=pghc&shopperContext=&caller=&appCode=', 'HomeID': '210', 'HomeCode': 'PG', 'HomeCity': 'Prince George', 'HomeNickname': 'Cougars', 'HomeLongName': 'Prince George Cougars', 'HomeDivision': 'B.C. Division', 'HomeGoals': '7', 'HomeAudioUrl': 'https://radioplayer.vistaradio.ca/cirx/', 'HomeVideoUrl': '', 'HomeWebcastUrl': 'https://watch.chl.ca/chl_persona', 'VisitorID': '215', 'VisitorCode': 'SPO', 'VisitorCity': 'Spokane', 'VisitorNickname': 'Chiefs', 'VisitorLongName': 'Spokane Chiefs', 'VisitingDivision': 'U.S. Division', 'VisitorGoals': '4', 'VisitorAudioUrl': 'https://radio.securenetsystems.net/cirrusencore/kga', 'VisitorVideoUrl': '', 'VisitorWebcastUrl': 'https://watch.chl.ca/chl_persona', 'Period': '3', 'PeriodNameShort': '3', 'PeriodNameLong': '3rd', 'GameClock': '00:00', 'GameSummaryUrl': '1021022', 'HomeWins': '10', 'HomeRegulationLosses': '5', 'HomeOTLosses': '0', 'HomeShootoutLosses': '0', 'VisitorWins': '0', 'VisitorRegulationLosses': '4', 'VisitorOTLosses': '0', 'VisitorShootoutLosses': '0', 'GameStatus': '4', 'Intermission': '0', 'GameStatusString': 'Final', 'GameStatusStringLong': 'Final', 'Ord': '2024-03-30 21:00:00.000000', 'venue_name': 'CN Centre - Prince George, BC', 'venue_location': 'Prince George', 'league_name': 'Western Hockey League', 'league_code': 'whl', 'TimezoneShort': 'PDT', 'HomeLogo': 'https://assets.leaguestat.com/whl/logos/210.png', 'VisitorLogo': 'https://assets.leaguestat.com/whl/logos/215.png', 'FloHockeyUrl': '', 'combined_client_code': None}, {'ID': '1021059', 'SeasonID': '284', 'league_id': '26', 'game_number': '0', 'game_letter': 'E', 'game_type': '', 'quick_score': '0', 'Date': '2024-04-02', 'FloCoreEventId': '', 'FloLiveEventId': '', 'GameDate': 'Tue, Apr 2', 'GameDateISO8601': '2024-04-02T19:05:00-07:00', 'ScheduledTime': '19:05:00', 'ScheduledFormattedTime': '7:05 pm', 'Timezone': 'Canada/Pacific', 'TicketUrl': 'https://spokanechiefstickets.evenue.net/events/CHF20', 'HomeID': '215', 'HomeCode': 'SPO', 'HomeCity': 'Spokane', 'HomeNickname': 'Chiefs', 'HomeLongName': 'Spokane Chiefs', 'HomeDivision': 'U.S. Division', 'HomeGoals': '2', 'HomeAudioUrl': 'https://radio.securenetsystems.net/cirrusencore/kga', 'HomeVideoUrl': '', 'HomeWebcastUrl': 'https://watch.chl.ca/chl_persona', 'VisitorID': '210', 'VisitorCode': 'PG', 'VisitorCity': 'Prince George', 'VisitorNickname': 'Cougars', 'VisitorLongName': 'Prince George Cougars', 'VisitingDivision': 'B.C. Division', 'VisitorGoals': '4', 'VisitorAudioUrl': 'https://radioplayer.vistaradio.ca/cirx/', 'VisitorVideoUrl': '', 'VisitorWebcastUrl': 'https://watch.chl.ca/chl_persona', 'Period': '3', 'PeriodNameShort': '3', 'PeriodNameLong': '3rd', 'GameClock': '00:00', 'GameSummaryUrl': '1021059', 'HomeWins': '0', 'HomeRegulationLosses': '4', 'HomeOTLosses': '0', 'HomeShootoutLosses': '0', 'VisitorWins': '10', 'VisitorRegulationLosses': '5', 'VisitorOTLosses': '0', 'VisitorShootoutLosses': '0', 'GameStatus': '4', 'Intermission': '0', 'GameStatusString': 'Final', 'GameStatusStringLong': 'Final', 'Ord': '2024-04-02 22:05:00.000000', 'venue_name': 'Spokane Veterans Memorial Arena - Spokane, WA', 'venue_location': 'Spokane, WA', 'league_name': 'Western Hockey League', 'league_code': 'whl', 'TimezoneShort': 'PDT', 'HomeLogo': 'https://assets.leaguestat.com/whl/logos/215.png', 'VisitorLogo': 'https://assets.leaguestat.com/whl/logos/210.png', 'FloHockeyUrl': '', 'combined_client_code': None}, {'ID': '1021060', 'SeasonID': '284', 'league_id': '26', 'game_number': '0', 'game_letter': 'E', 'game_type': '', 'quick_score': '0', 'Date': '2024-04-03', 'FloCoreEventId': '', 'FloLiveEventId': '', 'GameDate': 'Wed, Apr 3', 'GameDateISO8601': '2024-04-03T18:35:00-07:00', 'ScheduledTime': '18:35:00', 'ScheduledFormattedTime': '6:35 pm', 'Timezone': 'Canada/Pacific', 'TicketUrl': 'https://spokanechiefstickets.evenue.net/events/CHF20', 'HomeID': '215', 'HomeCode': 'SPO', 'HomeCity': 'Spokane', 'HomeNickname': 'Chiefs', 'HomeLongName': 'Spokane Chiefs', 'HomeDivision': 'U.S. Division', 'HomeGoals': '2', 'HomeAudioUrl': 'https://radio.securenetsystems.net/cirrusencore/kga', 'HomeVideoUrl': '', 'HomeWebcastUrl': 'https://watch.chl.ca/chl_persona', 'VisitorID': '210', 'VisitorCode': 'PG', 'VisitorCity': 'Prince George', 'VisitorNickname': 'Cougars', 'VisitorLongName': 'Prince George Cougars', 'VisitingDivision': 'B.C. Division', 'VisitorGoals': '3', 'VisitorAudioUrl': 'https://radioplayer.vistaradio.ca/cirx/', 'VisitorVideoUrl': '', 'VisitorWebcastUrl': 'https://watch.chl.ca/chl_persona', 'Period': '3', 'PeriodNameShort': '3', 'PeriodNameLong': '3rd', 'GameClock': '00:00', 'GameSummaryUrl': '1021060', 'HomeWins': '0', 'HomeRegulationLosses': '4', 'HomeOTLosses': '0', 'HomeShootoutLosses': '0', 'VisitorWins': '10', 'VisitorRegulationLosses': '5', 'VisitorOTLosses': '0', 'VisitorShootoutLosses': '0', 'GameStatus': '4', 'Intermission': '0', 'GameStatusString': 'Final', 'GameStatusStringLong': 'Final', 'Ord': '2024-04-03 21:35:00.000000', 'venue_name': 'Spokane Veterans Memorial Arena - Spokane, WA', 'venue_location': 'Spokane, WA', 'league_name': 'Western Hockey League', 'league_code': 'whl', 'TimezoneShort': 'PDT', 'HomeLogo': 'https://assets.leaguestat.com/whl/logos/215.png', 'VisitorLogo': 'https://assets.leaguestat.com/whl/logos/210.png', 'FloHockeyUrl': '', 'combined_client_code': None}, {'ID': '1021164', 'SeasonID': '286', 'league_id': '26', 'game_number': '10', 'game_letter': 'PS', 'game_type': '', 'quick_score': '0', 'Date': '2024-09-06', 'FloCoreEventId': '', 'FloLiveEventId': '', 'GameDate': 'Fri, Sep 6', 'GameDateISO8601': '2024-09-06T14:00:00-07:00', 'ScheduledTime': '14:00:00', 'ScheduledFormattedTime': '2:00 pm', 'Timezone': 'Canada/Pacific', 'TicketUrl': '', 'HomeID': '214', 'HomeCode': 'SEA', 'HomeCity': 'Seattle', 'HomeNickname': 'Thunderbirds', 'HomeLongName': 'Seattle Thunderbirds', 'HomeDivision': 'U.S. Division', 'HomeGoals': '2', 'HomeAudioUrl': '', 'HomeVideoUrl': '', 'HomeWebcastUrl': '', 'VisitorID': '215', 'VisitorCode': 'SPO', 'VisitorCity': 'Spokane', 'VisitorNickname': 'Chiefs', 'VisitorLongName': 'Spokane Chiefs', 'VisitingDivision': 'U.S. Division', 'VisitorGoals': '6', 'VisitorAudioUrl': '', 'VisitorVideoUrl': '', 'VisitorWebcastUrl': '', 'Period': '3', 'PeriodNameShort': '3', 'PeriodNameLong': '3rd', 'GameClock': '00:00', 'GameSummaryUrl': '1021164', 'HomeWins': '2', 'HomeRegulationLosses': '3', 'HomeOTLosses': '0', 'HomeShootoutLosses': '0', 'VisitorWins': '4', 'VisitorRegulationLosses': '1', 'VisitorOTLosses': '0', 'VisitorShootoutLosses': '0', 'GameStatus': '4', 'Intermission': '0', 'GameStatusString': 'Final', 'GameStatusStringLong': 'Final', 'Ord': '2024-09-06 17:00:00.000000', 'venue_name': 'Angel of the Winds Arena - Everett, WA', 'venue_location': 'Everett, WA', 'league_name': 'Western Hockey League', 'league_code': 'whl', 'TimezoneShort': 'PDT', 'HomeLogo': 'https://assets.leaguestat.com/whl/logos/214.png', 'VisitorLogo': 'https://assets.leaguestat.com/whl/logos/215.png', 'FloHockeyUrl': '', 'combined_client_code': None}, {'ID': '1021172', 'SeasonID': '286', 'league_id': '26', 'game_number': '18', 'game_letter': 'PS', 'game_type': '', 'quick_score': '0', 'Date': '2024-09-07', 'FloCoreEventId': '', 'FloLiveEventId': '', 'GameDate': 'Sat, Sep 7', 'GameDateISO8601': '2024-09-07T14:00:00-07:00', 'ScheduledTime': '14:00:00', 'ScheduledFormattedTime': '2:00 pm', 'Timezone': 'Canada/Pacific', 'TicketUrl': '', 'HomeID': '215', 'HomeCode': 'SPO', 'HomeCity': 'Spokane', 'HomeNickname': 'Chiefs', 'HomeLongName': 'Spokane Chiefs', 'HomeDivision': 'U.S. Division', 'HomeGoals': '3', 'HomeAudioUrl': '', 'HomeVideoUrl': '', 'HomeWebcastUrl': '', 'VisitorID': '208', 'VisitorCode': 'POR', 'VisitorCity': 'Portland', 'VisitorNickname': 'Winterhawks', 'VisitorLongName': 'Portland Winterhawks', 'VisitingDivision': 'U.S. Division', 'VisitorGoals': '2', 'VisitorAudioUrl': '', 'VisitorVideoUrl': '', 'VisitorWebcastUrl': '', 'Period': '3', 'PeriodNameShort': '3', 'PeriodNameLong': '3rd', 'GameClock': '00:00', 'GameSummaryUrl': '1021172', 'HomeWins': '4', 'HomeRegulationLosses': '1', 'HomeOTLosses': '0', 'HomeShootoutLosses': '0', 'VisitorWins': '2', 'VisitorRegulationLosses': '2', 'VisitorOTLosses': '1', 'VisitorShootoutLosses': '0', 'GameStatus': '4', 'Intermission': '0', 'GameStatusString': 'Final', 'GameStatusStringLong': 'Final', 'Ord': '2024-09-07 17:00:00.000000', 'venue_name': 'Angel of the Winds Arena - Everett, WA', 'venue_location': 'Everett, WA', 'league_name': 'Western Hockey League', 'league_code': 'whl', 'TimezoneShort': 'PDT', 'HomeLogo': 'https://assets.leaguestat.com/whl/logos/215.png', 'VisitorLogo': 'https://assets.leaguestat.com/whl/logos/50x50/208.png', 'FloHockeyUrl': '', 'combined_client_code': None}, {'ID': '1021950', 'SeasonID': '286', 'league_id': '26', 'game_number': '0', 'game_letter': '', 'game_type': '', 'quick_score': '0', 'Date': '2024-09-12', 'FloCoreEventId': '', 'FloLiveEventId': '', 'GameDate': 'Thu, Sep 12', 'GameDateISO8601': '2024-09-12T17:00:00-07:00', 'ScheduledTime': '17:00:00', 'ScheduledFormattedTime': '5:00 pm', 'Timezone': 'Canada/Pacific', 'TicketUrl': '', 'HomeID': '215', 'HomeCode': 'SPO', 'HomeCity': 'Spokane', 'HomeNickname': 'Chiefs', 'HomeLongName': 'Spokane Chiefs', 'HomeDivision': 'U.S. Division', 'HomeGoals': '1', 'HomeAudioUrl': '', 'HomeVideoUrl': '', 'HomeWebcastUrl': '', 'VisitorID': '208', 'VisitorCode': 'POR', 'VisitorCity': 'Portland', 'VisitorNickname': 'Winterhawks', 'VisitorLongName': 'Portland Winterhawks', 'VisitingDivision': 'U.S. Division', 'VisitorGoals': '2', 'VisitorAudioUrl': '', 'VisitorVideoUrl': '', 'VisitorWebcastUrl': '', 'Period': '3', 'PeriodNameShort': '3', 'PeriodNameLong': '3rd', 'GameClock': '00:00', 'GameSummaryUrl': '1021950', 'HomeWins': '4', 'HomeRegulationLosses': '1', 'HomeOTLosses': '0', 'HomeShootoutLosses': '0', 'VisitorWins': '2', 'VisitorRegulationLosses': '2', 'VisitorOTLosses': '1', 'VisitorShootoutLosses': '0', 'GameStatus': '4', 'Intermission': '0', 'GameStatusString': 'Final', 'GameStatusStringLong': 'Final', 'Ord': '2024-09-12 20:00:00.000000', 'venue_name': 'Cheney, WA', 'venue_location': 'Cheney, WA', 'league_name': 'Western Hockey League', 'league_code': 'whl', 'TimezoneShort': 'PDT', 'HomeLogo': 'https://assets.leaguestat.com/whl/logos/215.png', 'VisitorLogo': 'https://assets.leaguestat.com/whl/logos/50x50/208.png', 'FloHockeyUrl': '', 'combined_client_code': None}, {'ID': '1021189', 'SeasonID': '286', 'league_id': '26', 'game_number': '35', 'game_letter': 'PS', 'game_type': '', 'quick_score': '0', 'Date': '2024-09-13', 'FloCoreEventId': '', 'FloLiveEventId': '', 'GameDate': 'Fri, Sep 13', 'GameDateISO8601': '2024-09-13T15:00:00-07:00', 'ScheduledTime': '15:00:00', 'ScheduledFormattedTime': '3:00 pm', 'Timezone': 'Canada/Pacific', 'TicketUrl': '', 'HomeID': '222', 'HomeCode': 'WEN', 'HomeCity': 'Wenatchee', 'HomeNickname': 'Wild', 'HomeLongName': 'Wenatchee Wild', 'HomeDivision': 'U.S. Division', 'HomeGoals': '3', 'HomeAudioUrl': '', 'HomeVideoUrl': '', 'HomeWebcastUrl': '', 'VisitorID': '215', 'VisitorCode': 'SPO', 'VisitorCity': 'Spokane', 'VisitorNickname': 'Chiefs', 'VisitorLongName': 'Spokane Chiefs', 'VisitingDivision': 'U.S. Division', 'VisitorGoals': '8', 'VisitorAudioUrl': '', 'VisitorVideoUrl': '', 'VisitorWebcastUrl': '', 'Period': '3', 'PeriodNameShort': '3', 'PeriodNameLong': '3rd', 'GameClock': '00:00', 'GameSummaryUrl': '1021189', 'HomeWins': '2', 'HomeRegulationLosses': '2', 'HomeOTLosses': '0', 'HomeShootoutLosses': '1', 'VisitorWins': '4', 'VisitorRegulationLosses': '1', 'VisitorOTLosses': '0', 'VisitorShootoutLosses': '0', 'GameStatus': '4', 'Intermission': '0', 'GameStatusString': 'Final', 'GameStatusStringLong': 'Final', 'Ord': '2024-09-13 18:00:00.000000', 'venue_name': 'Toyota Arena - Kennewick, WA', 'venue_location': 'Tri-Cities', 'league_name': 'Western Hockey League', 'league_code': 'whl', 'TimezoneShort': 'PDT', 'HomeLogo': 'https://assets.leaguestat.com/whl/logos/50x50/222.png', 'VisitorLogo': 'https://assets.leaguestat.com/whl/logos/215.png', 'FloHockeyUrl': '', 'combined_client_code': None}, {'ID': '1021197', 'SeasonID': '286', 'league_id': '26', 'game_number': '43', 'game_letter': 'PS', 'game_type': '', 'quick_score': '0', 'Date': '2024-09-14', 'FloCoreEventId': '', 'FloLiveEventId': '', 'GameDate': 'Sat, Sep 14', 'GameDateISO8601': '2024-09-14T18:05:00-07:00', 'ScheduledTime': '18:05:00', 'ScheduledFormattedTime': '6:05 pm', 'Timezone': 'Canada/Pacific', 'TicketUrl': '', 'HomeID': '217', 'HomeCode': 'TC', 'HomeCity': 'Tri-City', 'HomeNickname': 'Americans', 'HomeLongName': 'Tri-City Americans', 'HomeDivision': 'U.S. Division', 'HomeGoals': '0', 'HomeAudioUrl': '', 'HomeVideoUrl': '', 'HomeWebcastUrl': '', 'VisitorID': '215', 'VisitorCode': 'SPO', 'VisitorCity': 'Spokane', 'VisitorNickname': 'Chiefs', 'VisitorLongName': 'Spokane Chiefs', 'VisitingDivision': 'U.S. Division', 'VisitorGoals': '4', 'VisitorAudioUrl': '', 'VisitorVideoUrl': '', 'VisitorWebcastUrl': '', 'Period': '3', 'PeriodNameShort': '3', 'PeriodNameLong': '3rd', 'GameClock': '00:00', 'GameSummaryUrl': '1021197', 'HomeWins': '1', 'HomeRegulationLosses': '4', 'HomeOTLosses': '0', 'HomeShootoutLosses': '0', 'VisitorWins': '4', 'VisitorRegulationLosses': '1', 'VisitorOTLosses': '0', 'VisitorShootoutLosses': '0', 'GameStatus': '4', 'Intermission': '0', 'GameStatusString': 'Final', 'GameStatusStringLong': 'Final', 'Ord': '2024-09-14 21:05:00.000000', 'venue_name': 'Toyota Arena - Kennewick, WA', 'venue_location': 'Tri-Cities', 'league_name': 'Western Hockey League', 'league_code': 'whl', 'TimezoneShort': 'PDT', 'HomeLogo': 'https://assets.leaguestat.com/whl/logos/217.png', 'VisitorLogo': 'https://assets.leaguestat.com/whl/logos/215.png', 'FloHockeyUrl': '', 'combined_client_code': None}, {'ID': '1021206', 'SeasonID': '285', 'league_id': '26', 'game_number': '5', 'game_letter': 'RS', 'game_type': '', 'quick_score': '0', 'Date': '2024-09-20', 'FloCoreEventId': '', 'FloLiveEventId': '', 'GameDate': 'Fri, Sep 20', 'GameDateISO8601': '2024-09-20T19:05:00-07:00', 'ScheduledTime': '19:05:00', 'ScheduledFormattedTime': '7:05 pm', 'Timezone': 'Canada/Pacific', 'TicketUrl': 'https://ticketsnorth.evenue.net/events/CSG', 'HomeID': '210', 'HomeCode': 'PG', 'HomeCity': 'Prince George', 'HomeNickname': 'Cougars', 'HomeLongName': 'Prince George Cougars', 'HomeDivision': 'B.C. Division', 'HomeGoals': '3', 'HomeAudioUrl': 'https://radioplayer.vistaradio.ca/cirx', 'HomeVideoUrl': 'https://watch.chl.ca/whl_chl', 'HomeWebcastUrl': 'https://watch.chl.ca/whl_chl', 'VisitorID': '215', 'VisitorCode': 'SPO', 'VisitorCity': 'Spokane', 'VisitorNickname': 'Chiefs', 'VisitorLongName': 'Spokane Chiefs', 'VisitingDivision': 'U.S. Division', 'VisitorGoals': '4', 'VisitorAudioUrl': '', 'VisitorVideoUrl': '', 'VisitorWebcastUrl': '', 'Period': '4', 'PeriodNameShort': 'OT', 'PeriodNameLong': 'OT', 'GameClock': '03:11', 'GameSummaryUrl': '1021206', 'HomeWins': '18', 'HomeRegulationLosses': '9', 'HomeOTLosses': '3', 'HomeShootoutLosses': '2', 'VisitorWins': '22', 'VisitorRegulationLosses': '11', 'VisitorOTLosses': '0', 'VisitorShootoutLosses': '0', 'GameStatus': '4', 'Intermission': '0', 'GameStatusString': 'Final', 'GameStatusStringLong': 'Final OT', 'Ord': '2024-09-20 22:05:00.000000', 'venue_name': 'CN Centre - Prince George, BC', 'venue_location': 'Prince George', 'league_name': 'Western Hockey League', 'league_code': 'whl', 'TimezoneShort': 'PDT', 'HomeLogo': 'https://assets.leaguestat.com/whl/logos/210.png', 'VisitorLogo': 'https://assets.leaguestat.com/whl/logos/215.png', 'FloHockeyUrl': '', 'combined_client_code': None}, {'ID': '1021214', 'SeasonID': '285', 'league_id': '26', 'game_number': '13', 'game_letter': 'RS', 'game_type': '', 'quick_score': '0', 'Date': '2024-09-21', 'FloCoreEventId': '', 'FloLiveEventId': '', 'GameDate': 'Sat, Sep 21', 'GameDateISO8601': '2024-09-21T18:00:00-07:00', 'ScheduledTime': '18:00:00', 'ScheduledFormattedTime': '6:00 pm', 'Timezone': 'Canada/Pacific', 'TicketUrl': 'https://ticketsnorth.evenue.net/events/CSG', 'HomeID': '210', 'HomeCode': 'PG', 'HomeCity': 'Prince George', 'HomeNickname': 'Cougars', 'HomeLongName': 'Prince George Cougars', 'HomeDivision': 'B.C. Division', 'HomeGoals': '3', 'HomeAudioUrl': 'https://radioplayer.vistaradio.ca/cirx', 'HomeVideoUrl': 'https://watch.chl.ca/whl_chl', 'HomeWebcastUrl': 'https://watch.chl.ca/whl_chl', 'VisitorID': '215', 'VisitorCode': 'SPO', 'VisitorCity': 'Spokane', 'VisitorNickname': 'Chiefs', 'VisitorLongName': 'Spokane Chiefs', 'VisitingDivision': 'U.S. Division', 'VisitorGoals': '1', 'VisitorAudioUrl': '', 'VisitorVideoUrl': '', 'VisitorWebcastUrl': '', 'Period': '3', 'PeriodNameShort': '3', 'PeriodNameLong': '3rd', 'GameClock': '00:00', 'GameSummaryUrl': '1021214', 'HomeWins': '18', 'HomeRegulationLosses': '9', 'HomeOTLosses': '3', 'HomeShootoutLosses': '2', 'VisitorWins': '22', 'VisitorRegulationLosses': '11', 'VisitorOTLosses': '0', 'VisitorShootoutLosses': '0', 'GameStatus': '4', 'Intermission': '0', 'GameStatusString': 'Final', 'GameStatusStringLong': 'Final', 'Ord': '2024-09-21 21:00:00.000000', 'venue_name': 'CN Centre - Prince George, BC', 'venue_location': 'Prince George', 'league_name': 'Western Hockey League', 'league_code': 'whl', 'TimezoneShort': 'PDT', 'HomeLogo': 'https://assets.leaguestat.com/whl/logos/210.png', 'VisitorLogo': 'https://assets.leaguestat.com/whl/logos/215.png', 'FloHockeyUrl': '', 'combined_client_code': None}, {'ID': '1021227', 'SeasonID': '285', 'league_id': '26', 'game_number': '26', 'game_letter': 'RS', 'game_type': '', 'quick_score': '0', 'Date': '2024-09-27', 'FloCoreEventId': '', 'FloLiveEventId': '', 'GameDate': 'Fri, Sep 27', 'GameDateISO8601': '2024-09-27T19:00:00-07:00', 'ScheduledTime': '19:00:00', 'ScheduledFormattedTime': '7:00 pm', 'Timezone': 'Canada/Pacific', 'TicketUrl': '', 'HomeID': '222', 'HomeCode': 'WEN', 'HomeCity': 'Wenatchee', 'HomeNickname': 'Wild', 'HomeLongName': 'Wenatchee Wild', 'HomeDivision': 'U.S. Division', 'HomeGoals': '3', 'HomeAudioUrl': '', 'HomeVideoUrl': '', 'HomeWebcastUrl': '', 'VisitorID': '215', 'VisitorCode': 'SPO', 'VisitorCity': 'Spokane', 'VisitorNickname': 'Chiefs', 'VisitorLongName': 'Spokane Chiefs', 'VisitingDivision': 'U.S. Division', 'VisitorGoals': '6', 'VisitorAudioUrl': '', 'VisitorVideoUrl': '', 'VisitorWebcastUrl': '', 'Period': '3', 'PeriodNameShort': '3', 'PeriodNameLong': '3rd', 'GameClock': '00:00', 'GameSummaryUrl': '1021227', 'HomeWins': '11', 'HomeRegulationLosses': '16', 'HomeOTLosses': '3', 'HomeShootoutLosses': '1', 'VisitorWins': '22', 'VisitorRegulationLosses': '11', 'VisitorOTLosses': '0', 'VisitorShootoutLosses': '0', 'GameStatus': '4', 'Intermission': '0', 'GameStatusString': 'Final', 'GameStatusStringLong': 'Final', 'Ord': '2024-09-27 22:00:00.000000', 'venue_name': 'Town Toyota Center - Wenatchee, WA', 'venue_location': 'Wenatchee, WA', 'league_name': 'Western Hockey League', 'league_code': 'whl', 'TimezoneShort': 'PDT', 'HomeLogo': 'https://assets.leaguestat.com/whl/logos/50x50/222.png', 'VisitorLogo': 'https://assets.leaguestat.com/whl/logos/215.png', 'FloHockeyUrl': '', 'combined_client_code': None}, {'ID': '1021234', 'SeasonID': '285', 'league_id': '26', 'game_number': '33', 'game_letter': 'RS', 'game_type': '', 'quick_score': '0', 'Date': '2024-09-28', 'FloCoreEventId': '', 'FloLiveEventId': '', 'GameDate': 'Sat, Sep 28', 'GameDateISO8601': '2024-09-28T18:05:00-07:00', 'ScheduledTime': '18:05:00', 'ScheduledFormattedTime': '6:05 pm', 'Timezone': 'Canada/Pacific', 'TicketUrl': 'https://spokanechiefstickets.evenue.net/cgi-bin/ncommerce3/SEGetEventInfo?ticketCode=GS:CHF:ECHF25:ECHF01:&linkID=twcorp-chf&dataAccId=883&locale=en_US&siteId=ev_twcorp-chf', 'HomeID': '215', 'HomeCode': 'SPO', 'HomeCity': 'Spokane', 'HomeNickname': 'Chiefs', 'HomeLongName': 'Spokane Chiefs', 'HomeDivision': 'U.S. Division', 'HomeGoals': '4', 'HomeAudioUrl': '', 'HomeVideoUrl': '', 'HomeWebcastUrl': '', 'VisitorID': '217', 'VisitorCode': 'TC', 'VisitorCity': 'Tri-City', 'VisitorNickname': 'Americans', 'VisitorLongName': 'Tri-City Americans', 'VisitingDivision': 'U.S. Division', 'VisitorGoals': '1', 'VisitorAudioUrl': 'https://urockfm.com/', 'VisitorVideoUrl': 'https://watch.chl.ca/', 'VisitorWebcastUrl': 'https://watch.chl.ca/', 'Period': '3', 'PeriodNameShort': '3', 'PeriodNameLong': '3rd', 'GameClock': '00:00', 'GameSummaryUrl': '1021234', 'HomeWins': '22', 'HomeRegulationLosses': '11', 'HomeOTLosses': '0', 'HomeShootoutLosses': '0', 'VisitorWins': '19', 'VisitorRegulationLosses': '8', 'VisitorOTLosses': '2', 'VisitorShootoutLosses': '1', 'GameStatus': '4', 'Intermission': '0', 'GameStatusString': 'Final', 'GameStatusStringLong': 'Final', 'Ord': '2024-09-28 21:05:00.000000', 'venue_name': 'Spokane Veterans Memorial Arena - Spokane, WA', 'venue_location': 'Spokane, WA', 'league_name': 'Western Hockey League', 'league_code': 'whl', 'TimezoneShort': 'PDT', 'HomeLogo': 'https://assets.leaguestat.com/whl/logos/215.png', 'VisitorLogo': 'https://assets.leaguestat.com/whl/logos/217.png', 'FloHockeyUrl': '', 'combined_client_code': None}, {'ID': '1021247', 'SeasonID': '285', 'league_id': '26', 'game_number': '46', 'game_letter': 'RS', 'game_type': '', 'quick_score': '0', 'Date': '2024-10-04', 'FloCoreEventId': '', 'FloLiveEventId': '', 'GameDate': 'Fri, Oct 4', 'GameDateISO8601': '2024-10-04T19:05:00-07:00', 'ScheduledTime': '19:05:00', 'ScheduledFormattedTime': '7:05 pm', 'Timezone': 'Canada/Pacific', 'TicketUrl': 'https://spokanechiefstickets.evenue.net/cgi-bin/ncommerce3/SEGetEventInfo?ticketCode=GS:CHF:ECHF25:ECHF02:&linkID=twcorp-chf&dataAccId=883&locale=en_US&siteId=ev_twcorp-chf', 'HomeID': '215', 'HomeCode': 'SPO', 'HomeCity': 'Spokane', 'HomeNickname': 'Chiefs', 'HomeLongName': 'Spokane Chiefs', 'HomeDivision': 'U.S. Division', 'HomeGoals': '5', 'HomeAudioUrl': '', 'HomeVideoUrl': '', 'HomeWebcastUrl': '', 'VisitorID': '204', 'VisitorCode': 'KEL', 'VisitorCity': 'Kelowna', 'VisitorNickname': 'Rockets', 'VisitorLongName': 'Kelowna Rockets', 'VisitingDivision': 'B.C. Division', 'VisitorGoals': '3', 'VisitorAudioUrl': '', 'VisitorVideoUrl': '', 'VisitorWebcastUrl': '', 'Period': '3', 'PeriodNameShort': '3', 'PeriodNameLong': '3rd', 'GameClock': '00:00', 'GameSummaryUrl': '1021247', 'HomeWins': '22', 'HomeRegulationLosses': '11', 'HomeOTLosses': '0', 'HomeShootoutLosses': '0', 'VisitorWins': '13', 'VisitorRegulationLosses': '14', 'VisitorOTLosses': '2', 'VisitorShootoutLosses': '1', 'GameStatus': '4', 'Intermission': '0', 'GameStatusString': 'Final', 'GameStatusStringLong': 'Final', 'Ord': '2024-10-04 22:05:00.000000', 'venue_name': 'Spokane Veterans Memorial Arena - Spokane, WA', 'venue_location': 'Spokane, WA', 'league_name': 'Western Hockey League', 'league_code': 'whl', 'TimezoneShort': 'PDT', 'HomeLogo': 'https://assets.leaguestat.com/whl/logos/215.png', 'VisitorLogo': 'https://assets.leaguestat.com/whl/logos/204.png', 'FloHockeyUrl': '', 'combined_client_code': None}, {'ID': '1021256', 'SeasonID': '285', 'league_id': '26', 'game_number': '55', 'game_letter': 'RS', 'game_type': '', 'quick_score': '0', 'Date': '2024-10-05', 'FloCoreEventId': '', 'FloLiveEventId': '', 'GameDate': 'Sat, Oct 5', 'GameDateISO8601': '2024-10-05T18:05:00-07:00', 'ScheduledTime': '18:05:00', 'ScheduledFormattedTime': '6:05 pm', 'Timezone': 'Canada/Pacific', 'TicketUrl': 'https://spokanechiefstickets.evenue.net/cgi-bin/ncommerce3/SEGetEventInfo?ticketCode=GS:CHF:ECHF25:ECHF03:&linkID=twcorp-chf&dataAccId=883&locale=en_US&siteId=ev_twcorp-chf', 'HomeID': '215', 'HomeCode': 'SPO', 'HomeCity': 'Spokane', 'HomeNickname': 'Chiefs', 'HomeLongName': 'Spokane Chiefs', 'HomeDivision': 'U.S. Division', 'HomeGoals': '7', 'HomeAudioUrl': '', 'HomeVideoUrl': '', 'HomeWebcastUrl': '', 'VisitorID': '214', 'VisitorCode': 'SEA', 'VisitorCity': 'Seattle', 'VisitorNickname': 'Thunderbirds', 'VisitorLongName': 'Seattle Thunderbirds', 'VisitingDivision': 'U.S. Division', 'VisitorGoals': '2', 'VisitorAudioUrl': 'https://www.iheart.com/live/seattle-thunderbirds-radio-9166/', 'VisitorVideoUrl': 'http://www.whllive.com', 'VisitorWebcastUrl': 'http://www.whllive.com', 'Period': '3', 'PeriodNameShort': '3', 'PeriodNameLong': '3rd', 'GameClock': '00:00', 'GameSummaryUrl': '1021256', 'HomeWins': '22', 'HomeRegulationLosses': '11', 'HomeOTLosses': '0', 'HomeShootoutLosses': '0', 'VisitorWins': '11', 'VisitorRegulationLosses': '19', 'VisitorOTLosses': '2', 'VisitorShootoutLosses': '1', 'GameStatus': '4', 'Intermission': '0', 'GameStatusString': 'Final', 'GameStatusStringLong': 'Final', 'Ord': '2024-10-05 21:05:00.000000', 'venue_name': 'Spokane Veterans Memorial Arena - Spokane, WA', 'venue_location': 'Spokane, WA', 'league_name': 'Western Hockey League', 'league_code': 'whl', 'TimezoneShort': 'PDT', 'HomeLogo': 'https://assets.leaguestat.com/whl/logos/215.png', 'VisitorLogo': 'https://assets.leaguestat.com/whl/logos/214.png', 'FloHockeyUrl': '', 'combined_client_code': None}, {'ID': '1021266', 'SeasonID': '285', 'league_id': '26', 'game_number': '65', 'game_letter': 'RS', 'game_type': '', 'quick_score': '0', 'Date': '2024-10-09', 'FloCoreEventId': '', 'FloLiveEventId': '', 'GameDate': 'Wed, Oct 9', 'GameDateISO8601': '2024-10-09T19:00:00-06:00', 'ScheduledTime': '19:00:00', 'ScheduledFormattedTime': '7:00 pm', 'Timezone': 'Canada/Saskatchewan', 'TicketUrl': 'https://sasktix.evenue.net/events/PA', 'HomeID': '209', 'HomeCode': 'PA', 'HomeCity': 'Prince Albert', 'HomeNickname': 'Raiders', 'HomeLongName': 'Prince Albert Raiders', 'HomeDivision': 'East Division', 'HomeGoals': '0', 'HomeAudioUrl': 'https://www.ckbi.com/', 'HomeVideoUrl': '', 'HomeWebcastUrl': 'http://www.watch.chl.ca', 'VisitorID': '215', 'VisitorCode': 'SPO', 'VisitorCity': 'Spokane', 'VisitorNickname': 'Chiefs', 'VisitorLongName': 'Spokane Chiefs', 'VisitingDivision': 'U.S. Division', 'VisitorGoals': '2', 'VisitorAudioUrl': '', 'VisitorVideoUrl': '', 'VisitorWebcastUrl': '', 'Period': '3', 'PeriodNameShort': '3', 'PeriodNameLong': '3rd', 'GameClock': '00:00', 'GameSummaryUrl': '1021266', 'HomeWins': '15', 'HomeRegulationLosses': '11', 'HomeOTLosses': '3', 'HomeShootoutLosses': '0', 'VisitorWins': '22', 'VisitorRegulationLosses': '11', 'VisitorOTLosses': '0', 'VisitorShootoutLosses': '0', 'GameStatus': '4', 'Intermission': '0', 'GameStatusString': 'Final', 'GameStatusStringLong': 'Final', 'Ord': '2024-10-09 21:00:00.000000', 'venue_name': 'Art Hauser Centre - Prince Albert, SK', 'venue_location': 'Prince Albert', 'league_name': 'Western Hockey League', 'league_code': 'whl', 'TimezoneShort': 'ST', 'HomeLogo': 'https://assets.leaguestat.com/whl/logos/209.png', 'VisitorLogo': 'https://assets.leaguestat.com/whl/logos/215.png', 'FloHockeyUrl': '', 'combined_client_code': None}, {'ID': '1021275', 'SeasonID': '285', 'league_id': '26', 'game_number': '74', 'game_letter': 'RS', 'game_type': '', 'quick_score': '0', 'Date': '2024-10-11', 'FloCoreEventId': '', 'FloLiveEventId': '', 'GameDate': 'Fri, Oct 11', 'GameDateISO8601': '2024-10-11T19:00:00-06:00', 'ScheduledTime': '19:00:00', 'ScheduledFormattedTime': '7:00 pm', 'Timezone': 'Canada/Saskatchewan', 'TicketUrl': 'https://www.ticketmaster.ca/saskatoon-blades-vs-spokane-chiefs-saskatoon-saskatchewan-10-11-2024/event/1100611BA6CF2941', 'HomeID': '213', 'HomeCode': 'SAS', 'HomeCity': 'Saskatoon', 'HomeNickname': 'Blades', 'HomeLongName': 'Saskatoon Blades', 'HomeDivision': 'East Division', 'HomeGoals': '2', 'HomeAudioUrl': 'https://www.cjwwradio.com/', 'HomeVideoUrl': 'https://watch.chl.ca/chl_persona', 'HomeWebcastUrl': '', 'VisitorID': '215', 'VisitorCode': 'SPO', 'VisitorCity': 'Spokane', 'VisitorNickname': 'Chiefs', 'VisitorLongName': 'Spokane Chiefs', 'VisitingDivision': 'U.S. Division', 'VisitorGoals': '1', 'VisitorAudioUrl': '', 'VisitorVideoUrl': '', 'VisitorWebcastUrl': '', 'Period': '3', 'PeriodNameShort': '3', 'PeriodNameLong': '3rd', 'GameClock': '00:00', 'GameSummaryUrl': '1021275', 'HomeWins': '17', 'HomeRegulationLosses': '10', 'HomeOTLosses': '2', 'HomeShootoutLosses': '2', 'VisitorWins': '22', 'VisitorRegulationLosses': '11', 'VisitorOTLosses': '0', 'VisitorShootoutLosses': '0', 'GameStatus': '4', 'Intermission': '0', 'GameStatusString': 'Final', 'GameStatusStringLong': 'Final', 'Ord': '2024-10-11 21:00:00.000000', 'venue_name': 'SaskTel Centre - Saskatoon, SK', 'venue_location': 'Saskatoon, SK', 'league_name': 'Western Hockey League', 'league_code': 'whl', 'TimezoneShort': 'ST', 'HomeLogo': 'https://assets.leaguestat.com/whl/logos/213.png', 'VisitorLogo': 'https://assets.leaguestat.com/whl/logos/215.png', 'FloHockeyUrl': '', 'combined_client_code': None}, {'ID': '1021287', 'SeasonID': '285', 'league_id': '26', 'game_number': '86', 'game_letter': 'RS', 'game_type': '', 'quick_score': '0', 'Date': '2024-10-13', 'FloCoreEventId': '', 'FloLiveEventId': '', 'GameDate': 'Sun, Oct 13', 'GameDateISO8601': '2024-10-13T14:00:00-06:00', 'ScheduledTime': '14:00:00', 'ScheduledFormattedTime': '2:00 pm', 'Timezone': 'Canada/Saskatchewan', 'TicketUrl': 'https://www.ticketmaster.ca/regina-pats-tickets/artist/881269?home_away=home', 'HomeID': '212', 'HomeCode': 'REG', 'HomeCity': 'Regina', 'HomeNickname': 'Pats', 'HomeLongName': 'Regina Pats', 'HomeDivision': 'East Division', 'HomeGoals': '3', 'HomeAudioUrl': 'https://listen.streamon.fm/ckrm', 'HomeVideoUrl': '', 'HomeWebcastUrl': '', 'VisitorID': '215', 'VisitorCode': 'SPO', 'VisitorCity': 'Spokane', 'VisitorNickname': 'Chiefs', 'VisitorLongName': 'Spokane Chiefs', 'VisitingDivision': 'U.S. Division', 'VisitorGoals': '4', 'VisitorAudioUrl': '', 'VisitorVideoUrl': '', 'VisitorWebcastUrl': '', 'Period': '3', 'PeriodNameShort': '3', 'PeriodNameLong': '3rd', 'GameClock': '00:00', 'GameSummaryUrl': '1021287', 'HomeWins': '8', 'HomeRegulationLosses': '17', 'HomeOTLosses': '4', 'HomeShootoutLosses': '2', 'VisitorWins': '22', 'VisitorRegulationLosses': '11', 'VisitorOTLosses': '0', 'VisitorShootoutLosses': '0', 'GameStatus': '4', 'Intermission': '0', 'GameStatusString': 'Final', 'GameStatusStringLong': 'Final', 'Ord': '2024-10-13 16:00:00.000000', 'venue_name': 'Brandt Centre - Regina, SK', 'venue_location': 'Regina', 'league_name': 'Western Hockey League', 'league_code': 'whl', 'TimezoneShort': 'ST', 'HomeLogo': 'https://assets.leaguestat.com/whl/logos/212.png', 'VisitorLogo': 'https://assets.leaguestat.com/whl/logos/215.png', 'FloHockeyUrl': '', 'combined_client_code': None}, {'ID': '1021293', 'SeasonID': '285', 'league_id': '26', 'game_number': '92', 'game_letter': 'RS', 'game_type': '', 'quick_score': '0', 'Date': '2024-10-15', 'FloCoreEventId': '', 'FloLiveEventId': '', 'GameDate': 'Tue, Oct 15', 'GameDateISO8601': '2024-10-15T19:00:00-06:00', 'ScheduledTime': '19:00:00', 'ScheduledFormattedTime': '7:00 pm', 'Timezone': 'Canada/Saskatchewan', 'TicketUrl': '', 'HomeID': '207', 'HomeCode': 'MJ', 'HomeCity': 'Moose Jaw', 'HomeNickname': 'Warriors', 'HomeLongName': 'Moose Jaw Warriors', 'HomeDivision': 'East Division', 'HomeGoals': '4', 'HomeAudioUrl': '', 'HomeVideoUrl': '', 'HomeWebcastUrl': '', 'VisitorID': '215', 'VisitorCode': 'SPO', 'VisitorCity': 'Spokane', 'VisitorNickname': 'Chiefs', 'VisitorLongName': 'Spokane Chiefs', 'VisitingDivision': 'U.S. Division', 'VisitorGoals': '7', 'VisitorAudioUrl': '', 'VisitorVideoUrl': '', 'VisitorWebcastUrl': '', 'Period': '3', 'PeriodNameShort': '3', 'PeriodNameLong': '3rd', 'GameClock': '00:00', 'GameSummaryUrl': '1021293', 'HomeWins': '8', 'HomeRegulationLosses': '19', 'HomeOTLosses': '3', 'HomeShootoutLosses': '1', 'VisitorWins': '22', 'VisitorRegulationLosses': '11', 'VisitorOTLosses': '0', 'VisitorShootoutLosses': '0', 'GameStatus': '4', 'Intermission': '0', 'GameStatusString': 'Final', 'GameStatusStringLong': 'Final', 'Ord': '2024-10-15 21:00:00.000000', 'venue_name': 'Moose Jaw Events Centre - Moose Jaw, SK', 'venue_location': 'Moose Jaw, SK', 'league_name': 'Western Hockey League', 'league_code': 'whl', 'TimezoneShort': 'ST', 'HomeLogo': 'https://assets.leaguestat.com/whl/logos/207.png', 'VisitorLogo': 'https://assets.leaguestat.com/whl/logos/215.png', 'FloHockeyUrl': '', 'combined_client_code': None}, {'ID': '1021295', 'SeasonID': '285', 'league_id': '26', 'game_number': '94', 'game_letter': 'RS', 'game_type': '', 'quick_score': '0', 'Date': '2024-10-16', 'FloCoreEventId': '', 'FloLiveEventId': '', 'GameDate': 'Wed, Oct 16', 'GameDateISO8601': '2024-10-16T19:00:00-05:00', 'ScheduledTime': '19:00:00', 'ScheduledFormattedTime': '7:00 pm', 'Timezone': 'Canada/Central', 'TicketUrl': 'https://www.ticketmaster.ca/brandon-wheat-kings-vs-spokane-chiefs-brandon-manitoba-10-16-2024/event/110060D4B92B330F', 'HomeID': '201', 'HomeCode': 'BDN', 'HomeCity': 'Brandon', 'HomeNickname': 'Wheat Kings', 'HomeLongName': 'Brandon Wheat Kings', 'HomeDivision': 'East Division', 'HomeGoals': '6', 'HomeAudioUrl': 'https://qcountryfm.ca/player/?playerID=2907', 'HomeVideoUrl': '', 'HomeWebcastUrl': '', 'VisitorID': '215', 'VisitorCode': 'SPO', 'VisitorCity': 'Spokane', 'VisitorNickname': 'Chiefs', 'VisitorLongName': 'Spokane Chiefs', 'VisitingDivision': 'U.S. Division', 'VisitorGoals': '3', 'VisitorAudioUrl': '', 'VisitorVideoUrl': '', 'VisitorWebcastUrl': '', 'Period': '3', 'PeriodNameShort': '3', 'PeriodNameLong': '3rd', 'GameClock': '00:00', 'GameSummaryUrl': '1021295', 'HomeWins': '15', 'HomeRegulationLosses': '9', 'HomeOTLosses': '3', 'HomeShootoutLosses': '2', 'VisitorWins': '22', 'VisitorRegulationLosses': '11', 'VisitorOTLosses': '0', 'VisitorShootoutLosses': '0', 'GameStatus': '4', 'Intermission': '0', 'GameStatusString': 'Final', 'GameStatusStringLong': 'Final', 'Ord': '2024-10-16 20:00:00.000000', 'venue_name': 'Westoba Place - Brandon, MB', 'venue_location': 'Brandon, MB', 'league_name': 'Western Hockey League', 'league_code': 'whl', 'TimezoneShort': 'CDT', 'HomeLogo': 'https://assets.leaguestat.com/whl/logos/201.png', 'VisitorLogo': 'https://assets.leaguestat.com/whl/logos/215.png', 'FloHockeyUrl': '', 'combined_client_code': None}, {'ID': '1021303', 'SeasonID': '285', 'league_id': '26', 'game_number': '102', 'game_letter': 'RS', 'game_type': '', 'quick_score': '0', 'Date': '2024-10-18', 'FloCoreEventId': '', 'FloLiveEventId': '', 'GameDate': 'Fri, Oct 18', 'GameDateISO8601': '2024-10-18T19:00:00-06:00', 'ScheduledTime': '19:00:00', 'ScheduledFormattedTime': '7:00 pm', 'Timezone': 'Canada/Saskatchewan', 'TicketUrl': 'https://tickets.scbroncos.com/?upcoming_games=1', 'HomeID': '216', 'HomeCode': 'SC', 'HomeCity': 'Swift Current', 'HomeNickname': 'Broncos', 'HomeLongName': 'Swift Current Broncos', 'HomeDivision': 'East Division', 'HomeGoals': '5', 'HomeAudioUrl': 'https://goldenweststreaming.com/cimg/console/', 'HomeVideoUrl': '', 'HomeWebcastUrl': '', 'VisitorID': '215', 'VisitorCode': 'SPO', 'VisitorCity': 'Spokane', 'VisitorNickname': 'Chiefs', 'VisitorLongName': 'Spokane Chiefs', 'VisitingDivision': 'U.S. Division', 'VisitorGoals': '0', 'VisitorAudioUrl': '', 'VisitorVideoUrl': '', 'VisitorWebcastUrl': '', 'Period': '3', 'PeriodNameShort': '3', 'PeriodNameLong': '3rd', 'GameClock': '00:00', 'GameSummaryUrl': '1021303', 'HomeWins': '17', 'HomeRegulationLosses': '13', 'HomeOTLosses': '0', 'HomeShootoutLosses': '1', 'VisitorWins': '22', 'VisitorRegulationLosses': '11', 'VisitorOTLosses': '0', 'VisitorShootoutLosses': '0', 'GameStatus': '4', 'Intermission': '0', 'GameStatusString': 'Final', 'GameStatusStringLong': 'Final', 'Ord': '2024-10-18 21:00:00.000000', 'venue_name': 'InnovationPlex - Swift Current, SK', 'venue_location': 'Swift Current', 'league_name': 'Western Hockey League', 'league_code': 'whl', 'TimezoneShort': 'ST', 'HomeLogo': 'https://assets.leaguestat.com/whl/logos/216.png', 'VisitorLogo': 'https://assets.leaguestat.com/whl/logos/215.png', 'FloHockeyUrl': '', 'combined_client_code': None}, {'ID': '1021330', 'SeasonID': '285', 'league_id': '26', 'game_number': '129', 'game_letter': 'RS', 'game_type': '', 'quick_score': '0', 'Date': '2024-10-25', 'FloCoreEventId': '', 'FloLiveEventId': '', 'GameDate': 'Fri, Oct 25', 'GameDateISO8601': '2024-10-25T19:05:00-07:00', 'ScheduledTime': '19:05:00', 'ScheduledFormattedTime': '7:05 pm', 'Timezone': 'Canada/Pacific', 'TicketUrl': 'https://spokanechiefstickets.evenue.net/cgi-bin/ncommerce3/SEGetEventInfo?ticketCode=GS:CHF:ECHF25:ECHF04:&linkID=twcorp-chf&dataAccId=883&locale=en_US&siteId=ev_twcorp-chf', 'HomeID': '215', 'HomeCode': 'SPO', 'HomeCity': 'Spokane', 'HomeNickname': 'Chiefs', 'HomeLongName': 'Spokane Chiefs', 'HomeDivision': 'U.S. Division', 'HomeGoals': '4', 'HomeAudioUrl': '', 'HomeVideoUrl': '', 'HomeWebcastUrl': '', 'VisitorID': '223', 'VisitorCode': 'VAN', 'VisitorCity': 'Vancouver', 'VisitorNickname': 'Giants', 'VisitorLongName': 'Vancouver Giants', 'VisitingDivision': 'B.C. Division', 'VisitorGoals': '3', 'VisitorAudioUrl': 'https://www.sportsnet.ca/650/', 'VisitorVideoUrl': '', 'VisitorWebcastUrl': '', 'Period': '4', 'PeriodNameShort': 'OT', 'PeriodNameLong': 'OT', 'GameClock': '03:37', 'GameSummaryUrl': '1021330', 'HomeWins': '22', 'HomeRegulationLosses': '11', 'HomeOTLosses': '0', 'HomeShootoutLosses': '0', 'VisitorWins': '14', 'VisitorRegulationLosses': '13', 'VisitorOTLosses': '4', 'VisitorShootoutLosses': '0', 'GameStatus': '4', 'Intermission': '0', 'GameStatusString': 'Final', 'GameStatusStringLong': 'Final OT', 'Ord': '2024-10-25 22:05:00.000000', 'venue_name': 'Spokane Veterans Memorial Arena - Spokane, WA', 'venue_location': 'Spokane, WA', 'league_name': 'Western Hockey League', 'league_code': 'whl', 'TimezoneShort': 'PDT', 'HomeLogo': 'https://assets.leaguestat.com/whl/logos/215.png', 'VisitorLogo': 'https://assets.leaguestat.com/whl/logos/223.png', 'FloHockeyUrl': '', 'combined_client_code': None}, {'ID': '1021340', 'SeasonID': '285', 'league_id': '26', 'game_number': '139', 'game_letter': 'RS', 'game_type': '', 'quick_score': '0', 'Date': '2024-10-26', 'FloCoreEventId': '', 'FloLiveEventId': '', 'GameDate': 'Sat, Oct 26', 'GameDateISO8601': '2024-10-26T18:05:00-07:00', 'ScheduledTime': '18:05:00', 'ScheduledFormattedTime': '6:05 pm', 'Timezone': 'Canada/Pacific', 'TicketUrl': 'https://spokanechiefstickets.evenue.net/cgi-bin/ncommerce3/SEGetEventInfo?ticketCode=GS:CHF:ECHF25:ECHF05:&linkID=twcorp-chf&dataAccId=883&locale=en_US&siteId=ev_twcorp-chf', 'HomeID': '215', 'HomeCode': 'SPO', 'HomeCity': 'Spokane', 'HomeNickname': 'Chiefs', 'HomeLongName': 'Spokane Chiefs', 'HomeDivision': 'U.S. Division', 'HomeGoals': '2', 'HomeAudioUrl': '', 'HomeVideoUrl': '', 'HomeWebcastUrl': '', 'VisitorID': '217', 'VisitorCode': 'TC', 'VisitorCity': 'Tri-City', 'VisitorNickname': 'Americans', 'VisitorLongName': 'Tri-City Americans', 'VisitingDivision': 'U.S. Division', 'VisitorGoals': '5', 'VisitorAudioUrl': 'https://urockfm.com/', 'VisitorVideoUrl': 'https://watch.chl.ca/', 'VisitorWebcastUrl': 'https://watch.chl.ca/', 'Period': '3', 'PeriodNameShort': '3', 'PeriodNameLong': '3rd', 'GameClock': '00:00', 'GameSummaryUrl': '1021340', 'HomeWins': '22', 'HomeRegulationLosses': '11', 'HomeOTLosses': '0', 'HomeShootoutLosses': '0', 'VisitorWins': '19', 'VisitorRegulationLosses': '8', 'VisitorOTLosses': '2', 'VisitorShootoutLosses': '1', 'GameStatus': '4', 'Intermission': '0', 'GameStatusString': 'Final', 'GameStatusStringLong': 'Final', 'Ord': '2024-10-26 21:05:00.000000', 'venue_name': 'Spokane Veterans Memorial Arena - Spokane, WA', 'venue_location': 'Spokane, WA', 'league_name': 'Western Hockey League', 'league_code': 'whl', 'TimezoneShort': 'PDT', 'HomeLogo': 'https://assets.leaguestat.com/whl/logos/215.png', 'VisitorLogo': 'https://assets.leaguestat.com/whl/logos/217.png', 'FloHockeyUrl': '', 'combined_client_code': None}, {'ID': '1021349', 'SeasonID': '285', 'league_id': '26', 'game_number': '148', 'game_letter': 'RS', 'game_type': '', 'quick_score': '0', 'Date': '2024-10-30', 'FloCoreEventId': '', 'FloLiveEventId': '', 'GameDate': 'Wed, Oct 30', 'GameDateISO8601': '2024-10-30T19:05:00-07:00', 'ScheduledTime': '19:05:00', 'ScheduledFormattedTime': '7:05 pm', 'Timezone': 'Canada/Pacific', 'TicketUrl': 'https://spokanechiefstickets.evenue.net/cgi-bin/ncommerce3/SEGetEventInfo?ticketCode=GS:CHF:ECHF25:ECHF06:&linkID=twcorp-chf&dataAccId=883&locale=en_US&siteId=ev_twcorp-chf', 'HomeID': '215', 'HomeCode': 'SPO', 'HomeCity': 'Spokane', 'HomeNickname': 'Chiefs', 'HomeLongName': 'Spokane Chiefs', 'HomeDivision': 'U.S. Division', 'HomeGoals': '3', 'HomeAudioUrl': '', 'HomeVideoUrl': '', 'HomeWebcastUrl': '', 'VisitorID': '228', 'VisitorCode': 'EDM', 'VisitorCity': 'Edmonton', 'VisitorNickname': 'Oil Kings', 'VisitorLongName': 'Edmonton Oil Kings', 'VisitingDivision': 'Central Division', 'VisitorGoals': '6', 'VisitorAudioUrl': 'https://www.iheart.com/live/edmonton-oil-kings-radio-9994/', 'VisitorVideoUrl': '', 'VisitorWebcastUrl': '', 'Period': '3', 'PeriodNameShort': '3', 'PeriodNameLong': '3rd', 'GameClock': '00:00', 'GameSummaryUrl': '1021349', 'HomeWins': '22', 'HomeRegulationLosses': '11', 'HomeOTLosses': '0', 'HomeShootoutLosses': '0', 'VisitorWins': '16', 'VisitorRegulationLosses': '13', 'VisitorOTLosses': '1', 'VisitorShootoutLosses': '1', 'GameStatus': '4', 'Intermission': '0', 'GameStatusString': 'Final', 'GameStatusStringLong': 'Final', 'Ord': '2024-10-30 22:05:00.000000', 'venue_name': 'Spokane Veterans Memorial Arena - Spokane, WA', 'venue_location': 'Spokane, WA', 'league_name': 'Western Hockey League', 'league_code': 'whl', 'TimezoneShort': 'PDT', 'HomeLogo': 'https://assets.leaguestat.com/whl/logos/215.png', 'VisitorLogo': 'https://assets.leaguestat.com/whl/logos/228.png', 'FloHockeyUrl': '', 'combined_client_code': None}, {'ID': '1021355', 'SeasonID': '285', 'league_id': '26', 'game_number': '154', 'game_letter': 'RS', 'game_type': '', 'quick_score': '0', 'Date': '2024-11-01', 'FloCoreEventId': '', 'FloLiveEventId': '', 'GameDate': 'Fri, Nov 1', 'GameDateISO8601': '2024-11-01T19:05:00-07:00', 'ScheduledTime': '19:05:00', 'ScheduledFormattedTime': '7:05 pm', 'Timezone': 'Canada/Pacific', 'TicketUrl': 'https://spokanechiefstickets.evenue.net/cgi-bin/ncommerce3/SEGetEventInfo?ticketCode=GS:CHF:ECHF25:ECHF07:&linkID=twcorp-chf&dataAccId=883&locale=en_US&siteId=ev_twcorp-chf', 'HomeID': '215', 'HomeCode': 'SPO', 'HomeCity': 'Spokane', 'HomeNickname': 'Chiefs', 'HomeLongName': 'Spokane Chiefs', 'HomeDivision': 'U.S. Division', 'HomeGoals': '4', 'HomeAudioUrl': '', 'HomeVideoUrl': '', 'HomeWebcastUrl': '', 'VisitorID': '208', 'VisitorCode': 'POR', 'VisitorCity': 'Portland', 'VisitorNickname': 'Winterhawks', 'VisitorLongName': 'Portland Winterhawks', 'VisitingDivision': 'U.S. Division', 'VisitorGoals': '2', 'VisitorAudioUrl': 'https://pdxwinterhawks.mixlr.com/', 'VisitorVideoUrl': 'https://watch.chl.ca/whl_chl', 'VisitorWebcastUrl': 'https://watch.chl.ca/whl_chl', 'Period': '3', 'PeriodNameShort': '3', 'PeriodNameLong': '3rd', 'GameClock': '00:00', 'GameSummaryUrl': '1021355', 'HomeWins': '22', 'HomeRegulationLosses': '11', 'HomeOTLosses': '0', 'HomeShootoutLosses': '0', 'VisitorWins': '18', 'VisitorRegulationLosses': '12', 'VisitorOTLosses': '2', 'VisitorShootoutLosses': '0', 'GameStatus': '4', 'Intermission': '0', 'GameStatusString': 'Final', 'GameStatusStringLong': 'Final', 'Ord': '2024-11-01 22:05:00.000000', 'venue_name': 'Spokane Veterans Memorial Arena - Spokane, WA', 'venue_location': 'Spokane, WA', 'league_name': 'Western Hockey League', 'league_code': 'whl', 'TimezoneShort': 'PDT', 'HomeLogo': 'https://assets.leaguestat.com/whl/logos/215.png', 'VisitorLogo': 'https://assets.leaguestat.com/whl/logos/50x50/208.png', 'FloHockeyUrl': '', 'combined_client_code': None}, {'ID': '1021363', 'SeasonID': '285', 'league_id': '26', 'game_number': '162', 'game_letter': 'RS', 'game_type': '', 'quick_score': '0', 'Date': '2024-11-02', 'FloCoreEventId': '', 'FloLiveEventId': '', 'GameDate': 'Sat, Nov 2', 'GameDateISO8601': '2024-11-02T18:05:00-07:00', 'ScheduledTime': '18:05:00', 'ScheduledFormattedTime': '6:05 pm', 'Timezone': 'Canada/Pacific', 'TicketUrl': 'https://www.ticketmaster.com/TriCity-Americans-tickets/artist/833511', 'HomeID': '217', 'HomeCode': 'TC', 'HomeCity': 'Tri-City', 'HomeNickname': 'Americans', 'HomeLongName': 'Tri-City Americans', 'HomeDivision': 'U.S. Division', 'HomeGoals': '4', 'HomeAudioUrl': 'https://urockfm.com/', 'HomeVideoUrl': 'https://watch.chl.ca/', 'HomeWebcastUrl': 'https://watch.chl.ca/', 'VisitorID': '215', 'VisitorCode': 'SPO', 'VisitorCity': 'Spokane', 'VisitorNickname': 'Chiefs', 'VisitorLongName': 'Spokane Chiefs', 'VisitingDivision': 'U.S. Division', 'VisitorGoals': '3', 'VisitorAudioUrl': '', 'VisitorVideoUrl': '', 'VisitorWebcastUrl': '', 'Period': '3', 'PeriodNameShort': '3', 'PeriodNameLong': '3rd', 'GameClock': '00:00', 'GameSummaryUrl': '1021363', 'HomeWins': '19', 'HomeRegulationLosses': '8', 'HomeOTLosses': '2', 'HomeShootoutLosses': '1', 'VisitorWins': '22', 'VisitorRegulationLosses': '11', 'VisitorOTLosses': '0', 'VisitorShootoutLosses': '0', 'GameStatus': '4', 'Intermission': '0', 'GameStatusString': 'Final', 'GameStatusStringLong': 'Final', 'Ord': '2024-11-02 21:05:00.000000', 'venue_name': 'Toyota Center - Kennewick, WA', 'venue_location': 'Tri-Cities', 'league_name': 'Western Hockey League', 'league_code': 'whl', 'TimezoneShort': 'PDT', 'HomeLogo': 'https://assets.leaguestat.com/whl/logos/217.png', 'VisitorLogo': 'https://assets.leaguestat.com/whl/logos/215.png', 'FloHockeyUrl': '', 'combined_client_code': None}, {'ID': '1021371', 'SeasonID': '285', 'league_id': '26', 'game_number': '170', 'game_letter': 'RS', 'game_type': '', 'quick_score': '0', 'Date': '2024-11-05', 'FloCoreEventId': '', 'FloLiveEventId': '', 'GameDate': 'Tue, Nov 5', 'GameDateISO8601': '2024-11-05T19:05:00-08:00', 'ScheduledTime': '19:05:00', 'ScheduledFormattedTime': '7:05 pm', 'Timezone': 'Canada/Pacific', 'TicketUrl': 'https://spokanechiefstickets.evenue.net/cgi-bin/ncommerce3/SEGetEventInfo?ticketCode=GS:CHF:ECHF25:ECHF08:&linkID=twcorp-chf&dataAccId=883&locale=en_US&siteId=ev_twcorp-chf', 'HomeID': '215', 'HomeCode': 'SPO', 'HomeCity': 'Spokane', 'HomeNickname': 'Chiefs', 'HomeLongName': 'Spokane Chiefs', 'HomeDivision': 'U.S. Division', 'HomeGoals': '6', 'HomeAudioUrl': '', 'HomeVideoUrl': '', 'HomeWebcastUrl': '', 'VisitorID': '204', 'VisitorCode': 'KEL', 'VisitorCity': 'Kelowna', 'VisitorNickname': 'Rockets', 'VisitorLongName': 'Kelowna Rockets', 'VisitingDivision': 'B.C. Division', 'VisitorGoals': '5', 'VisitorAudioUrl': '', 'VisitorVideoUrl': '', 'VisitorWebcastUrl': '', 'Period': '3', 'PeriodNameShort': '3', 'PeriodNameLong': '3rd', 'GameClock': '00:00', 'GameSummaryUrl': '1021371', 'HomeWins': '22', 'HomeRegulationLosses': '11', 'HomeOTLosses': '0', 'HomeShootoutLosses': '0', 'VisitorWins': '13', 'VisitorRegulationLosses': '14', 'VisitorOTLosses': '2', 'VisitorShootoutLosses': '1', 'GameStatus': '4', 'Intermission': '0', 'GameStatusString': 'Final', 'GameStatusStringLong': 'Final', 'Ord': '2024-11-05 22:05:00.000000', 'venue_name': 'Spokane Veterans Memorial Arena - Spokane, WA', 'venue_location': 'Spokane, WA', 'league_name': 'Western Hockey League', 'league_code': 'whl', 'TimezoneShort': 'PST', 'HomeLogo': 'https://assets.leaguestat.com/whl/logos/215.png', 'VisitorLogo': 'https://assets.leaguestat.com/whl/logos/204.png', 'FloHockeyUrl': '', 'combined_client_code': None}, {'ID': '1021375', 'SeasonID': '285', 'league_id': '26', 'game_number': '174', 'game_letter': 'RS', 'game_type': '', 'quick_score': '0', 'Date': '2024-11-08', 'FloCoreEventId': '', 'FloLiveEventId': '', 'GameDate': 'Fri, Nov 8', 'GameDateISO8601': '2024-11-08T19:00:00-08:00', 'ScheduledTime': '19:00:00', 'ScheduledFormattedTime': '7:00 pm', 'Timezone': 'Canada/Pacific', 'TicketUrl': 'https://www.ticketmaster.ca/kamloops-blazers-tickets/artist/835710', 'HomeID': '203', 'HomeCode': 'KAM', 'HomeCity': 'Kamloops', 'HomeNickname': 'Blazers', 'HomeLongName': 'Kamloops Blazers', 'HomeDivision': 'B.C. Division', 'HomeGoals': '4', 'HomeAudioUrl': 'https://player.radionl.com/', 'HomeVideoUrl': 'http://watch.chl.ca', 'HomeWebcastUrl': 'http://watch.chl.ca', 'VisitorID': '215', 'VisitorCode': 'SPO', 'VisitorCity': 'Spokane', 'VisitorNickname': 'Chiefs', 'VisitorLongName': 'Spokane Chiefs', 'VisitingDivision': 'U.S. Division', 'VisitorGoals': '2', 'VisitorAudioUrl': '', 'VisitorVideoUrl': '', 'VisitorWebcastUrl': '', 'Period': '3', 'PeriodNameShort': '3', 'PeriodNameLong': '3rd', 'GameClock': '00:00', 'GameSummaryUrl': '1021375', 'HomeWins': '12', 'HomeRegulationLosses': '18', 'HomeOTLosses': '2', 'HomeShootoutLosses': '0', 'VisitorWins': '22', 'VisitorRegulationLosses': '11', 'VisitorOTLosses': '0', 'VisitorShootoutLosses': '0', 'GameStatus': '4', 'Intermission': '0', 'GameStatusString': 'Final', 'GameStatusStringLong': 'Final', 'Ord': '2024-11-08 22:00:00.000000', 'venue_name': 'Sandman Centre - Kamloops, BC', 'venue_location': 'Kamloops, BC', 'league_name': 'Western Hockey League', 'league_code': 'whl', 'TimezoneShort': 'PST', 'HomeLogo': 'https://assets.leaguestat.com/whl/logos/203.png', 'VisitorLogo': 'https://assets.leaguestat.com/whl/logos/215.png', 'FloHockeyUrl': '', 'combined_client_code': None}, {'ID': '1021386', 'SeasonID': '285', 'league_id': '26', 'game_number': '185', 'game_letter': 'RS', 'game_type': '', 'quick_score': '0', 'Date': '2024-11-09', 'FloCoreEventId': '', 'FloLiveEventId': '', 'GameDate': 'Sat, Nov 9', 'GameDateISO8601': '2024-11-09T18:05:00-08:00', 'ScheduledTime': '18:05:00', 'ScheduledFormattedTime': '6:05 pm', 'Timezone': 'Canada/Pacific', 'TicketUrl': '', 'HomeID': '204', 'HomeCode': 'KEL', 'HomeCity': 'Kelowna', 'HomeNickname': 'Rockets', 'HomeLongName': 'Kelowna Rockets', 'HomeDivision': 'B.C. Division', 'HomeGoals': '5', 'HomeAudioUrl': '', 'HomeVideoUrl': '', 'HomeWebcastUrl': '', 'VisitorID': '215', 'VisitorCode': 'SPO', 'VisitorCity': 'Spokane', 'VisitorNickname': 'Chiefs', 'VisitorLongName': 'Spokane Chiefs', 'VisitingDivision': 'U.S. Division', 'VisitorGoals': '6', 'VisitorAudioUrl': '', 'VisitorVideoUrl': '', 'VisitorWebcastUrl': '', 'Period': '4', 'PeriodNameShort': 'OT', 'PeriodNameLong': 'OT', 'GameClock': '04:09', 'GameSummaryUrl': '1021386', 'HomeWins': '13', 'HomeRegulationLosses': '14', 'HomeOTLosses': '2', 'HomeShootoutLosses': '1', 'VisitorWins': '22', 'VisitorRegulationLosses': '11', 'VisitorOTLosses': '0', 'VisitorShootoutLosses': '0', 'GameStatus': '4', 'Intermission': '0', 'GameStatusString': 'Final', 'GameStatusStringLong': 'Final OT', 'Ord': '2024-11-09 21:05:00.000000', 'venue_name': 'Prospera Place - Kelowna, BC', 'venue_location': 'Kelowna', 'league_name': 'Western Hockey League', 'league_code': 'whl', 'TimezoneShort': 'PST', 'HomeLogo': 'https://assets.leaguestat.com/whl/logos/204.png', 'VisitorLogo': 'https://assets.leaguestat.com/whl/logos/215.png', 'FloHockeyUrl': '', 'combined_client_code': None}, {'ID': '1021411', 'SeasonID': '285', 'league_id': '26', 'game_number': '210', 'game_letter': 'RS', 'game_type': '', 'quick_score': '0', 'Date': '2024-11-15', 'FloCoreEventId': '', 'FloLiveEventId': '', 'GameDate': 'Fri, Nov 15', 'GameDateISO8601': '2024-11-15T19:05:00-08:00', 'ScheduledTime': '19:05:00', 'ScheduledFormattedTime': '7:05 pm', 'Timezone': 'Canada/Pacific', 'TicketUrl': 'https://spokanechiefstickets.evenue.net/cgi-bin/ncommerce3/SEGetEventInfo?ticketCode=GS:CHF:ECHF25:ECHF09:&linkID=twcorp-chf&dataAccId=883&locale=en_US&siteId=ev_twcorp-chf', 'HomeID': '215', 'HomeCode': 'SPO', 'HomeCity': 'Spokane', 'HomeNickname': 'Chiefs', 'HomeLongName': 'Spokane Chiefs', 'HomeDivision': 'U.S. Division', 'HomeGoals': '2', 'HomeAudioUrl': '', 'HomeVideoUrl': '', 'HomeWebcastUrl': '', 'VisitorID': '202', 'VisitorCode': 'CGY', 'VisitorCity': 'Calgary', 'VisitorNickname': 'Hitmen', 'VisitorLongName': 'Calgary Hitmen', 'VisitingDivision': 'Central Division', 'VisitorGoals': '7', 'VisitorAudioUrl': '', 'VisitorVideoUrl': '', 'VisitorWebcastUrl': '', 'Period': '3', 'PeriodNameShort': '3', 'PeriodNameLong': '3rd', 'GameClock': '00:00', 'GameSummaryUrl': '1021411', 'HomeWins': '22', 'HomeRegulationLosses': '11', 'HomeOTLosses': '0', 'HomeShootoutLosses': '0', 'VisitorWins': '17', 'VisitorRegulationLosses': '9', 'VisitorOTLosses': '3', 'VisitorShootoutLosses': '1', 'GameStatus': '4', 'Intermission': '0', 'GameStatusString': 'Final', 'GameStatusStringLong': 'Final', 'Ord': '2024-11-15 22:05:00.000000', 'venue_name': 'Spokane Veterans Memorial Arena - Spokane, WA', 'venue_location': 'Spokane, WA', 'league_name': 'Western Hockey League', 'league_code': 'whl', 'TimezoneShort': 'PST', 'HomeLogo': 'https://assets.leaguestat.com/whl/logos/215.png', 'VisitorLogo': 'https://assets.leaguestat.com/whl/logos/202.png', 'FloHockeyUrl': '', 'combined_client_code': None}, {'ID': '1021419', 'SeasonID': '285', 'league_id': '26', 'game_number': '218', 'game_letter': 'RS', 'game_type': '', 'quick_score': '0', 'Date': '2024-11-16', 'FloCoreEventId': '', 'FloLiveEventId': '', 'GameDate': 'Sat, Nov 16', 'GameDateISO8601': '2024-11-16T18:05:00-08:00', 'ScheduledTime': '18:05:00', 'ScheduledFormattedTime': '6:05 pm', 'Timezone': 'Canada/Pacific', 'TicketUrl': 'https://spokanechiefstickets.evenue.net/cgi-bin/ncommerce3/SEGetEventInfo?ticketCode=GS:CHF:ECHF25:ECHF10:&linkID=twcorp-chf&dataAccId=883&locale=en_US&siteId=ev_twcorp-chf', 'HomeID': '215', 'HomeCode': 'SPO', 'HomeCity': 'Spokane', 'HomeNickname': 'Chiefs', 'HomeLongName': 'Spokane Chiefs', 'HomeDivision': 'U.S. Division', 'HomeGoals': '3', 'HomeAudioUrl': '', 'HomeVideoUrl': '', 'HomeWebcastUrl': '', 'VisitorID': '211', 'VisitorCode': 'RD', 'VisitorCity': 'Red Deer', 'VisitorNickname': 'Rebels', 'VisitorLongName': 'Red Deer Rebels', 'VisitingDivision': 'Central Division', 'VisitorGoals': '0', 'VisitorAudioUrl': 'https://1067rewindradio.ca/player/?playerID=2337', 'VisitorVideoUrl': 'https://watch.chl.ca/', 'VisitorWebcastUrl': '', 'Period': '3', 'PeriodNameShort': '3', 'PeriodNameLong': '3rd', 'GameClock': '00:00', 'GameSummaryUrl': '1021419', 'HomeWins': '22', 'HomeRegulationLosses': '11', 'HomeOTLosses': '0', 'HomeShootoutLosses': '0', 'VisitorWins': '15', 'VisitorRegulationLosses': '14', 'VisitorOTLosses': '1', 'VisitorShootoutLosses': '2', 'GameStatus': '4', 'Intermission': '0', 'GameStatusString': 'Final', 'GameStatusStringLong': 'Final', 'Ord': '2024-11-16 21:05:00.000000', 'venue_name': 'Spokane Veterans Memorial Arena - Spokane, WA', 'venue_location': 'Spokane, WA', 'league_name': 'Western Hockey League', 'league_code': 'whl', 'TimezoneShort': 'PST', 'HomeLogo': 'https://assets.leaguestat.com/whl/logos/215.png', 'VisitorLogo': 'https://assets.leaguestat.com/whl/logos/211.png', 'FloHockeyUrl': '', 'combined_client_code': None}, {'ID': '1021434', 'SeasonID': '285', 'league_id': '26', 'game_number': '233', 'game_letter': 'RS', 'game_type': '', 'quick_score': '0', 'Date': '2024-11-22', 'FloCoreEventId': '', 'FloLiveEventId': '', 'GameDate': 'Fri, Nov 22', 'GameDateISO8601': '2024-11-22T19:05:00-08:00', 'ScheduledTime': '19:05:00', 'ScheduledFormattedTime': '7:05 pm', 'Timezone': 'Canada/Pacific', 'TicketUrl': 'https://www.ticketmaster.com/everett-silvertips-tickets/artist/882195?home_away=home', 'HomeID': '226', 'HomeCode': 'EVT', 'HomeCity': 'Everett', 'HomeNickname': 'Silvertips', 'HomeLongName': 'Everett Silvertips', 'HomeDivision': 'U.S. Division', 'HomeGoals': '3', 'HomeAudioUrl': '', 'HomeVideoUrl': '', 'HomeWebcastUrl': '', 'VisitorID': '215', 'VisitorCode': 'SPO', 'VisitorCity': 'Spokane', 'VisitorNickname': 'Chiefs', 'VisitorLongName': 'Spokane Chiefs', 'VisitingDivision': 'U.S. Division', 'VisitorGoals': '4', 'VisitorAudioUrl': '', 'VisitorVideoUrl': '', 'VisitorWebcastUrl': '', 'Period': '4', 'PeriodNameShort': 'OT', 'PeriodNameLong': 'OT', 'GameClock': '00:00', 'GameSummaryUrl': '1021434', 'HomeWins': '25', 'HomeRegulationLosses': '5', 'HomeOTLosses': '2', 'HomeShootoutLosses': '1', 'VisitorWins': '22', 'VisitorRegulationLosses': '11', 'VisitorOTLosses': '0', 'VisitorShootoutLosses': '0', 'GameStatus': '4', 'Intermission': '0', 'GameStatusString': 'Final', 'GameStatusStringLong': 'Final SO', 'Ord': '2024-11-22 22:05:00.000000', 'venue_name': 'Angel of the Winds Arena - Everett, WA', 'venue_location': 'Everett, WA', 'league_name': 'Western Hockey League', 'league_code': 'whl', 'TimezoneShort': 'PST', 'HomeLogo': 'https://assets.leaguestat.com/whl/logos/226.png', 'VisitorLogo': 'https://assets.leaguestat.com/whl/logos/215.png', 'FloHockeyUrl': '', 'combined_client_code': None}, {'ID': '1021447', 'SeasonID': '285', 'league_id': '26', 'game_number': '246', 'game_letter': 'RS', 'game_type': '', 'quick_score': '0', 'Date': '2024-11-23', 'FloCoreEventId': '', 'FloLiveEventId': '', 'GameDate': 'Sat, Nov 23', 'GameDateISO8601': '2024-11-23T19:00:00-08:00', 'ScheduledTime': '19:00:00', 'ScheduledFormattedTime': '7:00 pm', 'Timezone': 'Canada/Pacific', 'TicketUrl': 'https://chl.ca/whl-giants/tickets/', 'HomeID': '223', 'HomeCode': 'VAN', 'HomeCity': 'Vancouver', 'HomeNickname': 'Giants', 'HomeLongName': 'Vancouver Giants', 'HomeDivision': 'B.C. Division', 'HomeGoals': '1', 'HomeAudioUrl': 'https://www.sportsnet.ca/650/', 'HomeVideoUrl': '', 'HomeWebcastUrl': '', 'VisitorID': '215', 'VisitorCode': 'SPO', 'VisitorCity': 'Spokane', 'VisitorNickname': 'Chiefs', 'VisitorLongName': 'Spokane Chiefs', 'VisitingDivision': 'U.S. Division', 'VisitorGoals': '5', 'VisitorAudioUrl': '', 'VisitorVideoUrl': '', 'VisitorWebcastUrl': '', 'Period': '3', 'PeriodNameShort': '3', 'PeriodNameLong': '3rd', 'GameClock': '00:00', 'GameSummaryUrl': '1021447', 'HomeWins': '14', 'HomeRegulationLosses': '13', 'HomeOTLosses': '4', 'HomeShootoutLosses': '0', 'VisitorWins': '22', 'VisitorRegulationLosses': '11', 'VisitorOTLosses': '0', 'VisitorShootoutLosses': '0', 'GameStatus': '4', 'Intermission': '0', 'GameStatusString': 'Final', 'GameStatusStringLong': 'Final', 'Ord': '2024-11-23 22:00:00.000000', 'venue_name': 'Langley Events Centre - Langley, BC', 'venue_location': 'Langley, B.C.', 'league_name': 'Western Hockey League', 'league_code': 'whl', 'TimezoneShort': 'PST', 'HomeLogo': 'https://assets.leaguestat.com/whl/logos/223.png', 'VisitorLogo': 'https://assets.leaguestat.com/whl/logos/215.png', 'FloHockeyUrl': '', 'combined_client_code': None}, {'ID': '1021456', 'SeasonID': '285', 'league_id': '26', 'game_number': '255', 'game_letter': 'RS', 'game_type': '', 'quick_score': '0', 'Date': '2024-11-27', 'FloCoreEventId': '', 'FloLiveEventId': '', 'GameDate': 'Wed, Nov 27', 'GameDateISO8601': '2024-11-27T19:05:00-08:00', 'ScheduledTime': '19:05:00', 'ScheduledFormattedTime': '7:05 pm', 'Timezone': 'Canada/Pacific', 'TicketUrl': 'https://spokanechiefstickets.evenue.net/cgi-bin/ncommerce3/SEGetEventInfo?ticketCode=GS:CHF:ECHF25:ECHF11:&linkID=twcorp-chf&dataAccId=883&locale=en_US&siteId=ev_twcorp-chf', 'HomeID': '215', 'HomeCode': 'SPO', 'HomeCity': 'Spokane', 'HomeNickname': 'Chiefs', 'HomeLongName': 'Spokane Chiefs', 'HomeDivision': 'U.S. Division', 'HomeGoals': '6', 'HomeAudioUrl': '', 'HomeVideoUrl': '', 'HomeWebcastUrl': '', 'VisitorID': '203', 'VisitorCode': 'KAM', 'VisitorCity': 'Kamloops', 'VisitorNickname': 'Blazers', 'VisitorLongName': 'Kamloops Blazers', 'VisitingDivision': 'B.C. Division', 'VisitorGoals': '2', 'VisitorAudioUrl': 'https://player.radionl.com/', 'VisitorVideoUrl': 'http://watch.chl.ca', 'VisitorWebcastUrl': 'http://watch.chl.ca', 'Period': '3', 'PeriodNameShort': '3', 'PeriodNameLong': '3rd', 'GameClock': '00:00', 'GameSummaryUrl': '1021456', 'HomeWins': '22', 'HomeRegulationLosses': '11', 'HomeOTLosses': '0', 'HomeShootoutLosses': '0', 'VisitorWins': '12', 'VisitorRegulationLosses': '18', 'VisitorOTLosses': '2', 'VisitorShootoutLosses': '0', 'GameStatus': '4', 'Intermission': '0', 'GameStatusString': 'Final', 'GameStatusStringLong': 'Final', 'Ord': '2024-11-27 22:05:00.000000', 'venue_name': 'Spokane Veterans Memorial Arena - Spokane, WA', 'venue_location': 'Spokane, WA', 'league_name': 'Western Hockey League', 'league_code': 'whl', 'TimezoneShort': 'PST', 'HomeLogo': 'https://assets.leaguestat.com/whl/logos/215.png', 'VisitorLogo': 'https://assets.leaguestat.com/whl/logos/203.png', 'FloHockeyUrl': '', 'combined_client_code': None}, {'ID': '1021474', 'SeasonID': '285', 'league_id': '26', 'game_number': '273', 'game_letter': 'RS', 'game_type': '', 'quick_score': '0', 'Date': '2024-11-30', 'FloCoreEventId': '', 'FloLiveEventId': '', 'GameDate': 'Sat, Nov 30', 'GameDateISO8601': '2024-11-30T18:05:00-08:00', 'ScheduledTime': '18:05:00', 'ScheduledFormattedTime': '6:05 pm', 'Timezone': 'Canada/Pacific', 'TicketUrl': 'https://spokanechiefstickets.evenue.net/cgi-bin/ncommerce3/SEGetEventInfo?ticketCode=GS:CHF:ECHF25:ECHF12:&linkID=twcorp-chf&dataAccId=883&locale=en_US&siteId=ev_twcorp-chf', 'HomeID': '215', 'HomeCode': 'SPO', 'HomeCity': 'Spokane', 'HomeNickname': 'Chiefs', 'HomeLongName': 'Spokane Chiefs', 'HomeDivision': 'U.S. Division', 'HomeGoals': '5', 'HomeAudioUrl': '', 'HomeVideoUrl': '', 'HomeWebcastUrl': '', 'VisitorID': '208', 'VisitorCode': 'POR', 'VisitorCity': 'Portland', 'VisitorNickname': 'Winterhawks', 'VisitorLongName': 'Portland Winterhawks', 'VisitingDivision': 'U.S. Division', 'VisitorGoals': '1', 'VisitorAudioUrl': 'https://pdxwinterhawks.mixlr.com/', 'VisitorVideoUrl': 'https://watch.chl.ca/whl_chl', 'VisitorWebcastUrl': 'https://watch.chl.ca/whl_chl', 'Period': '3', 'PeriodNameShort': '3', 'PeriodNameLong': '3rd', 'GameClock': '00:00', 'GameSummaryUrl': '1021474', 'HomeWins': '22', 'HomeRegulationLosses': '11', 'HomeOTLosses': '0', 'HomeShootoutLosses': '0', 'VisitorWins': '18', 'VisitorRegulationLosses': '12', 'VisitorOTLosses': '2', 'VisitorShootoutLosses': '0', 'GameStatus': '4', 'Intermission': '0', 'GameStatusString': 'Final', 'GameStatusStringLong': 'Final', 'Ord': '2024-11-30 21:05:00.000000', 'venue_name': 'Spokane Veterans Memorial Arena - Spokane, WA', 'venue_location': 'Spokane, WA', 'league_name': 'Western Hockey League', 'league_code': 'whl', 'TimezoneShort': 'PST', 'HomeLogo': 'https://assets.leaguestat.com/whl/logos/215.png', 'VisitorLogo': 'https://assets.leaguestat.com/whl/logos/50x50/208.png', 'FloHockeyUrl': '', 'combined_client_code': None}, {'ID': '1021479', 'SeasonID': '285', 'league_id': '26', 'game_number': '278', 'game_letter': 'RS', 'game_type': '', 'quick_score': '0', 'Date': '2024-12-01', 'FloCoreEventId': '', 'FloLiveEventId': '', 'GameDate': 'Sun, Dec 1', 'GameDateISO8601': '2024-12-01T17:05:00-08:00', 'ScheduledTime': '17:05:00', 'ScheduledFormattedTime': '5:05 pm', 'Timezone': 'Canada/Pacific', 'TicketUrl': 'https://spokanechiefstickets.evenue.net/cgi-bin/ncommerce3/SEGetEventInfo?ticketCode=GS:CHF:ECHF25:ECHF13:&linkID=twcorp-chf&dataAccId=883&locale=en_US&siteId=ev_twcorp-chf', 'HomeID': '215', 'HomeCode': 'SPO', 'HomeCity': 'Spokane', 'HomeNickname': 'Chiefs', 'HomeLongName': 'Spokane Chiefs', 'HomeDivision': 'U.S. Division', 'HomeGoals': '7', 'HomeAudioUrl': '', 'HomeVideoUrl': '', 'HomeWebcastUrl': '', 'VisitorID': '208', 'VisitorCode': 'POR', 'VisitorCity': 'Portland', 'VisitorNickname': 'Winterhawks', 'VisitorLongName': 'Portland Winterhawks', 'VisitingDivision': 'U.S. Division', 'VisitorGoals': '4', 'VisitorAudioUrl': 'https://pdxwinterhawks.mixlr.com/', 'VisitorVideoUrl': 'https://watch.chl.ca/whl_chl', 'VisitorWebcastUrl': 'https://watch.chl.ca/whl_chl', 'Period': '3', 'PeriodNameShort': '3', 'PeriodNameLong': '3rd', 'GameClock': '00:00', 'GameSummaryUrl': '1021479', 'HomeWins': '22', 'HomeRegulationLosses': '11', 'HomeOTLosses': '0', 'HomeShootoutLosses': '0', 'VisitorWins': '18', 'VisitorRegulationLosses': '12', 'VisitorOTLosses': '2', 'VisitorShootoutLosses': '0', 'GameStatus': '4', 'Intermission': '0', 'GameStatusString': 'Final', 'GameStatusStringLong': 'Final', 'Ord': '2024-12-01 20:05:00.000000', 'venue_name': 'Spokane Veterans Memorial Arena - Spokane, WA', 'venue_location': 'Spokane, WA', 'league_name': 'Western Hockey League', 'league_code': 'whl', 'TimezoneShort': 'PST', 'HomeLogo': 'https://assets.leaguestat.com/whl/logos/215.png', 'VisitorLogo': 'https://assets.leaguestat.com/whl/logos/50x50/208.png', 'FloHockeyUrl': '', 'combined_client_code': None}, {'ID': '1021495', 'SeasonID': '285', 'league_id': '26', 'game_number': '294', 'game_letter': 'RS', 'game_type': '', 'quick_score': '0', 'Date': '2024-12-06', 'FloCoreEventId': '', 'FloLiveEventId': '', 'GameDate': 'Fri, Dec 6', 'GameDateISO8601': '2024-12-06T19:00:00-08:00', 'ScheduledTime': '19:00:00', 'ScheduledFormattedTime': '7:00 pm', 'Timezone': 'Canada/Pacific', 'TicketUrl': '', 'HomeID': '222', 'HomeCode': 'WEN', 'HomeCity': 'Wenatchee', 'HomeNickname': 'Wild', 'HomeLongName': 'Wenatchee Wild', 'HomeDivision': 'U.S. Division', 'HomeGoals': '2', 'HomeAudioUrl': '', 'HomeVideoUrl': '', 'HomeWebcastUrl': '', 'VisitorID': '215', 'VisitorCode': 'SPO', 'VisitorCity': 'Spokane', 'VisitorNickname': 'Chiefs', 'VisitorLongName': 'Spokane Chiefs', 'VisitingDivision': 'U.S. Division', 'VisitorGoals': '6', 'VisitorAudioUrl': '', 'VisitorVideoUrl': '', 'VisitorWebcastUrl': '', 'Period': '3', 'PeriodNameShort': '3', 'PeriodNameLong': '3rd', 'GameClock': '00:00', 'GameSummaryUrl': '1021495', 'HomeWins': '11', 'HomeRegulationLosses': '16', 'HomeOTLosses': '3', 'HomeShootoutLosses': '1', 'VisitorWins': '22', 'VisitorRegulationLosses': '11', 'VisitorOTLosses': '0', 'VisitorShootoutLosses': '0', 'GameStatus': '4', 'Intermission': '0', 'GameStatusString': 'Final', 'GameStatusStringLong': 'Final', 'Ord': '2024-12-06 22:00:00.000000', 'venue_name': 'Town Toyota Center - Wenatchee, WA', 'venue_location': 'Wenatchee, WA', 'league_name': 'Western Hockey League', 'league_code': 'whl', 'TimezoneShort': 'PST', 'HomeLogo': 'https://assets.leaguestat.com/whl/logos/50x50/222.png', 'VisitorLogo': 'https://assets.leaguestat.com/whl/logos/215.png', 'FloHockeyUrl': '', 'combined_client_code': None}, {'ID': '1021503', 'SeasonID': '285', 'league_id': '26', 'game_number': '302', 'game_letter': 'RS', 'game_type': '', 'quick_score': '0', 'Date': '2024-12-07', 'FloCoreEventId': '', 'FloLiveEventId': '', 'GameDate': 'Sat, Dec 7', 'GameDateISO8601': '2024-12-07T18:05:00-08:00', 'ScheduledTime': '18:05:00', 'ScheduledFormattedTime': '6:05 pm', 'Timezone': 'Canada/Pacific', 'TicketUrl': 'https://spokanechiefstickets.evenue.net/cgi-bin/ncommerce3/SEGetEventInfo?ticketCode=GS:CHF:ECHF25:ECHF14:&linkID=twcorp-chf&dataAccId=883&locale=en_US&siteId=ev_twcorp-chf', 'HomeID': '215', 'HomeCode': 'SPO', 'HomeCity': 'Spokane', 'HomeNickname': 'Chiefs', 'HomeLongName': 'Spokane Chiefs', 'HomeDivision': 'U.S. Division', 'HomeGoals': '3', 'HomeAudioUrl': '', 'HomeVideoUrl': '', 'HomeWebcastUrl': '', 'VisitorID': '222', 'VisitorCode': 'WEN', 'VisitorCity': 'Wenatchee', 'VisitorNickname': 'Wild', 'VisitorLongName': 'Wenatchee Wild', 'VisitingDivision': 'U.S. Division', 'VisitorGoals': '2', 'VisitorAudioUrl': '', 'VisitorVideoUrl': '', 'VisitorWebcastUrl': '', 'Period': '3', 'PeriodNameShort': '3', 'PeriodNameLong': '3rd', 'GameClock': '00:00', 'GameSummaryUrl': '1021503', 'HomeWins': '22', 'HomeRegulationLosses': '11', 'HomeOTLosses': '0', 'HomeShootoutLosses': '0', 'VisitorWins': '11', 'VisitorRegulationLosses': '16', 'VisitorOTLosses': '3', 'VisitorShootoutLosses': '1', 'GameStatus': '4', 'Intermission': '0', 'GameStatusString': 'Final', 'GameStatusStringLong': 'Final', 'Ord': '2024-12-07 21:05:00.000000', 'venue_name': 'Spokane Veterans Memorial Arena - Spokane, WA', 'venue_location': 'Spokane, WA', 'league_name': 'Western Hockey League', 'league_code': 'whl', 'TimezoneShort': 'PST', 'HomeLogo': 'https://assets.leaguestat.com/whl/logos/215.png', 'VisitorLogo': 'https://assets.leaguestat.com/whl/logos/50x50/222.png', 'FloHockeyUrl': '', 'combined_client_code': None}, {'ID': '1021507', 'SeasonID': '285', 'league_id': '26', 'game_number': '306', 'game_letter': 'RS', 'game_type': '', 'quick_score': '0', 'Date': '2024-12-08', 'FloCoreEventId': '', 'FloLiveEventId': '', 'GameDate': 'Sun, Dec 8', 'GameDateISO8601': '2024-12-08T17:05:00-08:00', 'ScheduledTime': '17:05:00', 'ScheduledFormattedTime': '5:05 pm', 'Timezone': 'Canada/Pacific', 'TicketUrl': 'https://tickets.seattlethunderbirds.com', 'HomeID': '214', 'HomeCode': 'SEA', 'HomeCity': 'Seattle', 'HomeNickname': 'Thunderbirds', 'HomeLongName': 'Seattle Thunderbirds', 'HomeDivision': 'U.S. Division', 'HomeGoals': '1', 'HomeAudioUrl': 'https://www.iheart.com/live/seattle-thunderbirds-radio-9166/', 'HomeVideoUrl': 'http://www.whllive.com', 'HomeWebcastUrl': 'http://www.whllive.com', 'VisitorID': '215', 'VisitorCode': 'SPO', 'VisitorCity': 'Spokane', 'VisitorNickname': 'Chiefs', 'VisitorLongName': 'Spokane Chiefs', 'VisitingDivision': 'U.S. Division', 'VisitorGoals': '3', 'VisitorAudioUrl': '', 'VisitorVideoUrl': '', 'VisitorWebcastUrl': '', 'Period': '3', 'PeriodNameShort': '3', 'PeriodNameLong': '3rd', 'GameClock': '00:00', 'GameSummaryUrl': '1021507', 'HomeWins': '11', 'HomeRegulationLosses': '19', 'HomeOTLosses': '2', 'HomeShootoutLosses': '1', 'VisitorWins': '22', 'VisitorRegulationLosses': '11', 'VisitorOTLosses': '0', 'VisitorShootoutLosses': '0', 'GameStatus': '4', 'Intermission': '0', 'GameStatusString': 'Final', 'GameStatusStringLong': 'Final', 'Ord': '2024-12-08 20:05:00.000000', 'venue_name': 'accesso ShoWare Center - Kent, WA', 'venue_location': 'Kent', 'league_name': 'Western Hockey League', 'league_code': 'whl', 'TimezoneShort': 'PST', 'HomeLogo': 'https://assets.leaguestat.com/whl/logos/214.png', 'VisitorLogo': 'https://assets.leaguestat.com/whl/logos/215.png', 'FloHockeyUrl': '', 'combined_client_code': None}, {'ID': '1021522', 'SeasonID': '285', 'league_id': '26', 'game_number': '321', 'game_letter': 'RS', 'game_type': '', 'quick_score': '0', 'Date': '2024-12-13', 'FloCoreEventId': '', 'FloLiveEventId': '', 'GameDate': 'Fri, Dec 13', 'GameDateISO8601': '2024-12-13T19:05:00-08:00', 'ScheduledTime': '19:05:00', 'ScheduledFormattedTime': '7:05 pm', 'Timezone': 'Canada/Pacific', 'TicketUrl': 'https://tickets.seattlethunderbirds.com', 'HomeID': '214', 'HomeCode': 'SEA', 'HomeCity': 'Seattle', 'HomeNickname': 'Thunderbirds', 'HomeLongName': 'Seattle Thunderbirds', 'HomeDivision': 'U.S. Division', 'HomeGoals': '3', 'HomeAudioUrl': 'https://www.iheart.com/live/seattle-thunderbirds-radio-9166/', 'HomeVideoUrl': 'http://www.whllive.com', 'HomeWebcastUrl': 'http://www.whllive.com', 'VisitorID': '215', 'VisitorCode': 'SPO', 'VisitorCity': 'Spokane', 'VisitorNickname': 'Chiefs', 'VisitorLongName': 'Spokane Chiefs', 'VisitingDivision': 'U.S. Division', 'VisitorGoals': '4', 'VisitorAudioUrl': '', 'VisitorVideoUrl': '', 'VisitorWebcastUrl': '', 'Period': '3', 'PeriodNameShort': '3', 'PeriodNameLong': '3rd', 'GameClock': '00:00', 'GameSummaryUrl': '1021522', 'HomeWins': '11', 'HomeRegulationLosses': '19', 'HomeOTLosses': '2', 'HomeShootoutLosses': '1', 'VisitorWins': '22', 'VisitorRegulationLosses': '11', 'VisitorOTLosses': '0', 'VisitorShootoutLosses': '0', 'GameStatus': '4', 'Intermission': '0', 'GameStatusString': 'Final', 'GameStatusStringLong': 'Final', 'Ord': '2024-12-13 22:05:00.000000', 'venue_name': 'accesso ShoWare Center - Kent, WA', 'venue_location': 'Kent', 'league_name': 'Western Hockey League', 'league_code': 'whl', 'TimezoneShort': 'PST', 'HomeLogo': 'https://assets.leaguestat.com/whl/logos/214.png', 'VisitorLogo': 'https://assets.leaguestat.com/whl/logos/215.png', 'FloHockeyUrl': '', 'combined_client_code': None}, {'ID': '1021533', 'SeasonID': '285', 'league_id': '26', 'game_number': '332', 'game_letter': 'RS', 'game_type': '', 'quick_score': '0', 'Date': '2024-12-14', 'FloCoreEventId': '', 'FloLiveEventId': '', 'GameDate': 'Sat, Dec 14', 'GameDateISO8601': '2024-12-14T18:05:00-08:00', 'ScheduledTime': '18:05:00', 'ScheduledFormattedTime': '6:05 pm', 'Timezone': 'Canada/Pacific', 'TicketUrl': 'https://spokanechiefstickets.evenue.net/cgi-bin/ncommerce3/SEGetEventInfo?ticketCode=GS:CHF:ECHF25:ECHF15:&linkID=twcorp-chf&dataAccId=883&locale=en_US&siteId=ev_twcorp-chf', 'HomeID': '215', 'HomeCode': 'SPO', 'HomeCity': 'Spokane', 'HomeNickname': 'Chiefs', 'HomeLongName': 'Spokane Chiefs', 'HomeDivision': 'U.S. Division', 'HomeGoals': '1', 'HomeAudioUrl': '', 'HomeVideoUrl': '', 'HomeWebcastUrl': '', 'VisitorID': '210', 'VisitorCode': 'PG', 'VisitorCity': 'Prince George', 'VisitorNickname': 'Cougars', 'VisitorLongName': 'Prince George Cougars', 'VisitingDivision': 'B.C. Division', 'VisitorGoals': '3', 'VisitorAudioUrl': 'https://radioplayer.vistaradio.ca/cirx', 'VisitorVideoUrl': 'https://watch.chl.ca/whl_chl', 'VisitorWebcastUrl': 'https://watch.chl.ca/whl_chl', 'Period': '3', 'PeriodNameShort': '3', 'PeriodNameLong': '3rd', 'GameClock': '00:00', 'GameSummaryUrl': '1021533', 'HomeWins': '22', 'HomeRegulationLosses': '11', 'HomeOTLosses': '0', 'HomeShootoutLosses': '0', 'VisitorWins': '18', 'VisitorRegulationLosses': '9', 'VisitorOTLosses': '3', 'VisitorShootoutLosses': '2', 'GameStatus': '4', 'Intermission': '0', 'GameStatusString': 'Final', 'GameStatusStringLong': 'Final', 'Ord': '2024-12-14 21:05:00.000000', 'venue_name': 'Spokane Veterans Memorial Arena - Spokane, WA', 'venue_location': 'Spokane, WA', 'league_name': 'Western Hockey League', 'league_code': 'whl', 'TimezoneShort': 'PST', 'HomeLogo': 'https://assets.leaguestat.com/whl/logos/215.png', 'VisitorLogo': 'https://assets.leaguestat.com/whl/logos/210.png', 'FloHockeyUrl': '', 'combined_client_code': None}, {'ID': '1021543', 'SeasonID': '285', 'league_id': '26', 'game_number': '342', 'game_letter': 'RS', 'game_type': '', 'quick_score': '0', 'Date': '2024-12-17', 'FloCoreEventId': '', 'FloLiveEventId': '', 'GameDate': 'Tue, Dec 17', 'GameDateISO8601': '2024-12-17T19:00:00-08:00', 'ScheduledTime': '19:00:00', 'ScheduledFormattedTime': '7:00 pm', 'Timezone': 'Canada/Pacific', 'TicketUrl': 'https://www.ticketmaster.com/portland-winterhawks-vs-spokane-chiefs-portland-oregon-12-17-2024/event/0F006110AB91782C', 'HomeID': '208', 'HomeCode': 'POR', 'HomeCity': 'Portland', 'HomeNickname': 'Winterhawks', 'HomeLongName': 'Portland Winterhawks', 'HomeDivision': 'U.S. Division', 'HomeGoals': '6', 'HomeAudioUrl': 'https://pdxwinterhawks.mixlr.com/', 'HomeVideoUrl': 'https://watch.chl.ca/whl_chl', 'HomeWebcastUrl': 'https://watch.chl.ca/whl_chl', 'VisitorID': '215', 'VisitorCode': 'SPO', 'VisitorCity': 'Spokane', 'VisitorNickname': 'Chiefs', 'VisitorLongName': 'Spokane Chiefs', 'VisitingDivision': 'U.S. Division', 'VisitorGoals': '4', 'VisitorAudioUrl': '', 'VisitorVideoUrl': '', 'VisitorWebcastUrl': '', 'Period': '3', 'PeriodNameShort': '3', 'PeriodNameLong': '3rd', 'GameClock': '00:00', 'GameSummaryUrl': '1021543', 'HomeWins': '18', 'HomeRegulationLosses': '12', 'HomeOTLosses': '2', 'HomeShootoutLosses': '0', 'VisitorWins': '22', 'VisitorRegulationLosses': '11', 'VisitorOTLosses': '0', 'VisitorShootoutLosses': '0', 'GameStatus': '4', 'Intermission': '0', 'GameStatusString': 'Final', 'GameStatusStringLong': 'Final', 'Ord': '2024-12-17 22:00:00.000000', 'venue_name': 'Veterans Memorial Coliseum - Portland, OR', 'venue_location': 'Portland', 'league_name': 'Western Hockey League', 'league_code': 'whl', 'TimezoneShort': 'PST', 'HomeLogo': 'https://assets.leaguestat.com/whl/logos/50x50/208.png', 'VisitorLogo': 'https://assets.leaguestat.com/whl/logos/215.png', 'FloHockeyUrl': '', 'combined_client_code': None}]\n",
      "50\n"
     ]
    }
   ],
   "source": [
    "num_of_past_games = 50\n",
    "current_team_id = team_id['Spokane Chiefs']\n",
    "\n",
    "game_id_url = game_id_url_func(num_of_past_games, current_team_id)\n",
    "games = get_game_ids(game_id_url)\n",
    "print(games)\n",
    "print(len(games))"
   ]
  },
  {
   "cell_type": "code",
   "execution_count": 23,
   "metadata": {
    "colab": {
     "base_uri": "https://localhost:8080/"
    },
    "id": "YAJDul09KKhk",
    "outputId": "ae2e755f-cc9b-436e-e45d-102291000faa"
   },
   "outputs": [
    {
     "name": "stdout",
     "output_type": "stream",
     "text": [
      "{'Spokane Chiefs': '215', 'Seattle Thunderbirds': '214', 'Portland Winterhawks': '208', 'Everett Silvertips': '226', 'Tri-City Americans': '217', 'Kamloops Blazers': '203', 'Kelowna Rockets': '204', 'Prince George Cougars': '210', 'Brandon Wheat Kings': '201', 'Swift Current Broncos': '216', 'Vancouver Giants': '223', 'Kootenay ICE': '222', 'Victoria Royals': '227', 'Medicine Hat Tigers': '206', 'Edmonton Oil Kings': '228', 'Moose Jaw Warriors': '207', 'Regina Pats': '212', 'Saskatoon Blades': '213', 'Prince Albert Raiders': '209', 'Calgary Hitmen': '202', 'Lethbridge Hurricanes': '205', 'Red Deer Rebels': '211', 'Winnipeg ICE': '222', 'Wenatchee Wild': '222'}\n"
     ]
    }
   ],
   "source": [
    "# Get the team id number of the past # opponents played\n",
    "for game in games:\n",
    "  if game['HomeID'] not in team_id:\n",
    "    team_id[game['HomeLongName']] = game['HomeID']\n",
    "  if game['VisitorID'] not in team_id:\n",
    "    team_id[game['VisitorLongName']] = game['VisitorID']\n",
    "\n",
    "print(team_id)\n",
    "team_games = {}"
   ]
  },
  {
   "cell_type": "markdown",
   "metadata": {
    "id": "ZlKCCcmSv6iP"
   },
   "source": [
    "### Get all teams past game IDs"
   ]
  },
  {
   "cell_type": "code",
   "execution_count": 24,
   "metadata": {
    "colab": {
     "base_uri": "https://localhost:8080/"
    },
    "id": "bXeKmf85icWT",
    "outputId": "44e123bb-7cfa-4d34-ebe7-942c553463d6",
    "scrolled": true
   },
   "outputs": [],
   "source": [
    "\n",
    "for team in team_id:    \n",
    "  curr_game_id = game_id_url_func(num_of_past_games, team_id[team])\n",
    "  game = get_game_ids(curr_game_id)\n",
    "  team_games[team] = [x['ID'] for x in game]\n",
    "    \n",
    "\n"
   ]
  },
  {
   "cell_type": "code",
   "execution_count": 25,
   "metadata": {
    "colab": {
     "background_save": true,
     "base_uri": "https://localhost:8080/"
    },
    "id": "F3wqYJXExrcJ",
    "outputId": "cb4e2bdd-def2-41f5-9a3d-2db3f21c76ee",
    "scrolled": true
   },
   "outputs": [
    {
     "name": "stdout",
     "output_type": "stream",
     "text": [
      "['1020938', '1020947', '1020953', '1020966', '1020973', '1020980', '1020992', '1021005', '1021021', '1021022', '1021059', '1021060', '1021164', '1021172', '1021950', '1021189', '1021197', '1021206', '1021214', '1021227', '1021234', '1021247', '1021256', '1021266', '1021275', '1021287', '1021293', '1021295', '1021303', '1021330', '1021340', '1021349', '1021355', '1021363', '1021371', '1021375', '1021386', '1021411', '1021419', '1021434', '1021447', '1021456', '1021474', '1021479', '1021495', '1021503', '1021507', '1021522', '1021533', '1021543']\n"
     ]
    }
   ],
   "source": [
    "print((team_games['Spokane Chiefs']))"
   ]
  },
  {
   "cell_type": "code",
   "execution_count": 26,
   "metadata": {
    "id": "Ia9RAB867NBO"
   },
   "outputs": [],
   "source": [
    "## Get the stats from specific game"
   ]
  },
  {
   "cell_type": "markdown",
   "metadata": {
    "id": "InayIACrFnIJ"
   },
   "source": [
    "### Initilize the DataFrame and Queue"
   ]
  },
  {
   "cell_type": "code",
   "execution_count": 27,
   "metadata": {
    "id": "R3Y3Eqm9EiCx"
   },
   "outputs": [],
   "source": [
    "import pandas as pd\n",
    "from queue import Queue\n",
    "df_columns = [\"Target_Goals\", \"Opponent_Goals\", \"Target_PP%\", \"Opponent_PP%\", \"Target_SOG\", \"Opponent_SOG\", \"Target_FOW%\", \"Opponent_FOW%\", \"Home/Away\", \"Target_Win\"]\n",
    "dataset = pd.DataFrame(columns=df_columns)\n",
    "\n",
    "team_queues = {team: Queue() for team in team_id}"
   ]
  },
  {
   "cell_type": "code",
   "execution_count": 28,
   "metadata": {
    "colab": {
     "base_uri": "https://localhost:8080/"
    },
    "id": "zJUui0aCW8AB",
    "outputId": "7ef43dbd-c0b1-4fc6-ebfd-62545ffb270b"
   },
   "outputs": [
    {
     "name": "stdout",
     "output_type": "stream",
     "text": [
      "{'Spokane Chiefs': <queue.Queue object at 0x0000015EE5EBB5C0>, 'Seattle Thunderbirds': <queue.Queue object at 0x0000015EC70EC6E0>, 'Portland Winterhawks': <queue.Queue object at 0x0000015EC70EFB60>, 'Everett Silvertips': <queue.Queue object at 0x0000015EC70ECAA0>, 'Tri-City Americans': <queue.Queue object at 0x0000015EC70EE5A0>, 'Kamloops Blazers': <queue.Queue object at 0x0000015EC5F03C50>, 'Kelowna Rockets': <queue.Queue object at 0x0000015EC5F02AB0>, 'Prince George Cougars': <queue.Queue object at 0x0000015EC5F00380>, 'Brandon Wheat Kings': <queue.Queue object at 0x0000015EC5F00230>, 'Swift Current Broncos': <queue.Queue object at 0x0000015EC5F01370>, 'Vancouver Giants': <queue.Queue object at 0x0000015EC5F008C0>, 'Kootenay ICE': <queue.Queue object at 0x0000015EC5F03530>, 'Victoria Royals': <queue.Queue object at 0x0000015EC5F02F00>, 'Medicine Hat Tigers': <queue.Queue object at 0x0000015EC70F5D00>, 'Edmonton Oil Kings': <queue.Queue object at 0x0000015EC70F49E0>, 'Moose Jaw Warriors': <queue.Queue object at 0x0000015EC70F4A70>, 'Regina Pats': <queue.Queue object at 0x0000015EC70F64E0>, 'Saskatoon Blades': <queue.Queue object at 0x0000015EC70F74D0>, 'Prince Albert Raiders': <queue.Queue object at 0x0000015EC70F77D0>, 'Calgary Hitmen': <queue.Queue object at 0x0000015EC70F4650>, 'Lethbridge Hurricanes': <queue.Queue object at 0x0000015EC70F6BA0>, 'Red Deer Rebels': <queue.Queue object at 0x0000015EC70F7980>, 'Winnipeg ICE': <queue.Queue object at 0x0000015EC70F4320>, 'Wenatchee Wild': <queue.Queue object at 0x0000015EC5F05B80>}\n"
     ]
    }
   ],
   "source": [
    "print(team_queues)"
   ]
  },
  {
   "cell_type": "code",
   "execution_count": 29,
   "metadata": {},
   "outputs": [],
   "source": [
    "def get_game_stats(game_id):\n",
    "  game_stats_url = game_stats_url_func(game_id)\n",
    "  headers = {\n",
    "      \"User-Agent\": \"Mozilla/5.0 (Windows NT 10.0; Win64; x64) AppleWebKit/537.36 (KHTML, like Gecko) Chrome/114.0.0.0 Safari/537.36\"\n",
    "  }\n",
    "  \n",
    "  try:\n",
    "      response = requests.get(game_stats_url, headers=headers)\n",
    "  \n",
    "      # Check if the request was successful\n",
    "      if response.status_code == 200:\n",
    "  \n",
    "          return response.json()\n",
    "          pprint(response)\n",
    "      else:\n",
    "          print(f\"Failed to retrieve the page. Status code: {response.status_code}\")\n",
    "  except Exception as e:\n",
    "      print(f\"An error occurred: {e}\")"
   ]
  },
  {
   "cell_type": "code",
   "execution_count": 30,
   "metadata": {
    "scrolled": true
   },
   "outputs": [
    {
     "name": "stdout",
     "output_type": "stream",
     "text": [
      "1\n",
      "2\n",
      "3\n",
      "4\n",
      "5\n",
      "6\n",
      "7\n",
      "8\n",
      "9\n",
      "10\n",
      "11\n",
      "12\n",
      "13\n",
      "14\n",
      "15\n",
      "16\n",
      "17\n",
      "18\n",
      "19\n",
      "20\n",
      "21\n",
      "22\n",
      "23\n",
      "24\n",
      "25\n",
      "26\n",
      "27\n",
      "28\n",
      "29\n",
      "30\n",
      "31\n",
      "32\n",
      "33\n",
      "34\n",
      "35\n",
      "36\n",
      "37\n",
      "38\n",
      "39\n",
      "40\n",
      "41\n",
      "42\n",
      "43\n",
      "44\n",
      "45\n",
      "46\n",
      "47\n",
      "48\n",
      "49\n",
      "50\n"
     ]
    }
   ],
   "source": [
    "# Assuming required imports are already done: pandas, Queue, etc.\n",
    "target_team = 'Spokane Chiefs'\n",
    "k = 5  # Number of recent games to consider\n",
    "counter = 0\n",
    "for game in team_games[target_team]:\n",
    "  stats = get_game_stats(game)\n",
    "\n",
    "  # Last k sums for the target team\n",
    "  target_k_sum_goals = 0\n",
    "  target_k_sum_ppp = 0\n",
    "  target_k_sum_fowp = 0\n",
    "  target_k_sum_sog = 0\n",
    "\n",
    "  visitor = stats['GC']['Clock']['visiting_team']['name']\n",
    "  home = stats['GC']['Clock']['home_team']['name']\n",
    "  \n",
    "  home_goals = int(stats['GC']['Clock']['home_goal_count'])\n",
    "  visitor_goals = int(stats['GC']['Clock']['visiting_goal_count'])\n",
    "  \n",
    "  home_ppp_total = float(stats['GC']['Clock']['power_play']['total']['home'])\n",
    "  visitor_ppp_total = float(stats['GC']['Clock']['power_play']['total']['visiting'])\n",
    "  \n",
    "  # Avoid division by zero for home_ppp\n",
    "  if home_ppp_total != 0:\n",
    "      home_ppp = float(stats['GC']['Clock']['power_play']['goals']['home']) / home_ppp_total\n",
    "  else:\n",
    "      home_ppp = 0  # Default to 0 if no power plays\n",
    "  # Avoid division by zero for visitor_ppp\n",
    "  if visitor_ppp_total != 0:\n",
    "      visitor_ppp = float(stats['GC']['Clock']['power_play']['goals']['visiting']) / visitor_ppp_total\n",
    "  else:\n",
    "      visitor_ppp = 0  # Default to 0 if no power plays\n",
    "\n",
    "  home_fowp = float(stats['GC']['Clock']['fow']['home'])\n",
    "  visitor_fowp = float(stats['GC']['Clock']['fow']['visiting'])\n",
    "  fow_total = home_fowp + visitor_fowp\n",
    "  if fow_total != 0:\n",
    "    home_fowp /= fow_total\n",
    "    visitor_fowp /= fow_total\n",
    "  else:\n",
    "    home_fowp, visitor_fowp = .5, .5\n",
    "\n",
    "  home_sog = sum(stats['GC']['Clock']['shots_on_goal']['home'].values())\n",
    "  visitor_sog = sum(stats['GC']['Clock']['shots_on_goal']['visiting'].values())\n",
    "  \n",
    "  if home == target_team:\n",
    "      # Target team is the home team\n",
    "      current_goals, current_ppp, current_fowp, current_sog = home_goals, home_ppp, home_fowp, home_sog\n",
    "      opponent_goals, opponent_ppp, opponent_fowp, opponent_sog = visitor_goals, visitor_ppp, visitor_fowp, visitor_sog\n",
    "      opponent = visitor\n",
    "  else:\n",
    "      # Target team is the visiting team\n",
    "      current_goals, current_ppp, current_fowp, current_sog = visitor_goals, visitor_ppp, visitor_fowp, visitor_sog\n",
    "      opponent_goals, opponent_ppp, opponent_fowp, opponent_sog = home_goals, home_ppp, home_fowp, home_sog\n",
    "      opponent = home\n",
    "\n",
    "  # Manage the target team's queue\n",
    "  if team_queues[target_team].qsize() < k:\n",
    "      team_queues[target_team].put({\n",
    "          'goals': current_goals,\n",
    "          'ppp': current_ppp,\n",
    "          'fowp': current_fowp,\n",
    "          'sog': current_sog,\n",
    "      })\n",
    "      target_k_sum_goals += current_goals\n",
    "      target_k_sum_ppp += current_ppp\n",
    "      target_k_sum_fowp += current_fowp\n",
    "      target_k_sum_sog += current_sog\n",
    "  else:\n",
    "      # If the queue is full\n",
    "      popped_stats = team_queues[target_team].get()\n",
    "      target_k_sum_goals -= popped_stats['goals']\n",
    "      target_k_sum_ppp -= popped_stats['ppp']\n",
    "      target_k_sum_fowp -= popped_stats['fowp']\n",
    "      target_k_sum_sog -= popped_stats['sog']\n",
    "      \n",
    "      team_queues[target_team].put({\n",
    "          'goals': current_goals,\n",
    "          'ppp': current_ppp,\n",
    "          'fowp': current_fowp,\n",
    "          'sog': current_sog,\n",
    "      })\n",
    "      target_k_sum_goals += current_goals\n",
    "      target_k_sum_ppp += current_ppp\n",
    "      target_k_sum_fowp += current_fowp\n",
    "      target_k_sum_sog += current_sog\n",
    "\n",
    "  # Calculate the opponent's last k game stats\n",
    "  opponent_k_sum_goals = 0\n",
    "  opponent_k_sum_ppp = 0\n",
    "  opponent_k_sum_fowp = 0\n",
    "  opponent_k_sum_sog = 0\n",
    "  last_k_game_ids = []\n",
    "\n",
    "  for opp_game in team_games[opponent]:\n",
    "      if opp_game < game:\n",
    "          last_k_game_ids.append(opp_game)\n",
    "      if len(last_k_game_ids) == k:\n",
    "          break\n",
    "\n",
    "  for opp_game in last_k_game_ids:\n",
    "    opp_stats = get_game_stats(opp_game)\n",
    "\n",
    "     # Check if opp_stats is None to avoid trying to access keys on a NoneType\n",
    "    if opp_stats is None:\n",
    "        continue\n",
    "\n",
    "    # Get goals for the opponent team (either home or visitor)\n",
    "    opp_goals = int(opp_stats['GC']['Clock']['home_goal_count'] \n",
    "                    if opp_stats['GC']['Clock']['home_team']['name'] == opponent \n",
    "                    else opp_stats['GC']['Clock']['visiting_goal_count'])\n",
    "\n",
    "    # Calculate opponent PP% with division by zero handling\n",
    "    if opp_stats['GC']['Clock']['home_team']['name'] == opponent:\n",
    "        opp_ppp_total_home = float(opp_stats['GC']['Clock']['power_play']['total']['home'])\n",
    "        if opp_ppp_total_home != 0:\n",
    "            opp_ppp = float(opp_stats['GC']['Clock']['power_play']['goals']['home']) / opp_ppp_total_home\n",
    "        else:\n",
    "            opp_ppp = 0  # Default to 0 if no power plays for the home team\n",
    "    else:\n",
    "        opp_ppp_total_visiting = float(opp_stats['GC']['Clock']['power_play']['total']['visiting'])\n",
    "        if opp_ppp_total_visiting != 0:\n",
    "            opp_ppp = float(opp_stats['GC']['Clock']['power_play']['goals']['visiting']) / opp_ppp_total_visiting\n",
    "        else:\n",
    "            opp_ppp = 0  # Default to 0 if no power plays for the visiting team\n",
    "\n",
    "    # Calculate opponent FOW%\n",
    "    if opp_stats['GC']['Clock']['home_team']['name'] == opponent:\n",
    "        opp_fowp_total_home = float(opp_stats['GC']['Clock']['fow']['home'])\n",
    "        if opp_fowp_total_home != 0:\n",
    "            opp_fowp = opp_fowp_total_home\n",
    "        else:\n",
    "            opp_fowp = 0.5  # Default to 0.5 if no FOW data for the home team (indicating equal footing)\n",
    "    else:\n",
    "        opp_fowp_total_visiting = float(opp_stats['GC']['Clock']['fow']['visiting'])\n",
    "        if opp_fowp_total_visiting != 0:\n",
    "            opp_fowp = opp_fowp_total_visiting\n",
    "        else:\n",
    "            opp_fowp = 0.5  # Default to 0.5 if no FOW data for the visiting team (indicating equal footing)\n",
    "\n",
    "    # Calculate opponent shots on goal (SOG)\n",
    "    if opp_stats['GC']['Clock']['home_team']['name'] == opponent:\n",
    "        opp_sog = sum(opp_stats['GC']['Clock']['shots_on_goal']['home'].values())\n",
    "    else:\n",
    "        opp_sog = sum(opp_stats['GC']['Clock']['shots_on_goal']['visiting'].values())\n",
    "\n",
    "    # Accumulate the stats for the last k games\n",
    "    opponent_k_sum_goals += opp_goals\n",
    "    opponent_k_sum_ppp += opp_ppp\n",
    "    opponent_k_sum_fowp += opp_fowp\n",
    "    opponent_k_sum_sog += opp_sog\n",
    "\n",
    "  # Add the row to the dataset\n",
    "  next_index = len(dataset)\n",
    "\n",
    "  #print(current_goals, opponent_goals, current_ppp, opponent_ppp, current_sog, opponent_sog, current_fowp, opponent_fowp)\n",
    "  dataset.loc[next_index] = {\n",
    "        \"Target_Goals\": target_k_sum_goals / k,\n",
    "        \"Opponent_Goals\": opponent_k_sum_goals / k,\n",
    "        \"Target_PP%\": target_k_sum_ppp / k,\n",
    "        \"Opponent_PP%\": opponent_k_sum_ppp / k,\n",
    "        \"Target_SOG\": target_k_sum_sog / k,\n",
    "        \"Opponent_SOG\": opponent_k_sum_sog / k,\n",
    "        \"Target_FOW%\": target_k_sum_fowp / k,\n",
    "        \"Opponent_FOW%\": opponent_k_sum_fowp / k,\n",
    "        \"Home/Away\": 0 if home == target_team else 1,\n",
    "        \"Target_Win\": 1 if current_goals > opponent_goals else 0,\n",
    "    }\n",
    "\n",
    "  counter += 1\n",
    "  print(counter)\n"
   ]
  },
  {
   "cell_type": "code",
   "execution_count": 21,
   "metadata": {
    "colab": {
     "base_uri": "https://localhost:8080/"
    },
    "id": "QR4k2mMOtHhS",
    "outputId": "5fb3f535-d90e-439d-9c6e-b0acc8fb2535",
    "scrolled": true
   },
   "outputs": [
    {
     "data": {
      "text/html": [
       "<div>\n",
       "<style scoped>\n",
       "    .dataframe tbody tr th:only-of-type {\n",
       "        vertical-align: middle;\n",
       "    }\n",
       "\n",
       "    .dataframe tbody tr th {\n",
       "        vertical-align: top;\n",
       "    }\n",
       "\n",
       "    .dataframe thead th {\n",
       "        text-align: right;\n",
       "    }\n",
       "</style>\n",
       "<table border=\"1\" class=\"dataframe\">\n",
       "  <thead>\n",
       "    <tr style=\"text-align: right;\">\n",
       "      <th></th>\n",
       "      <th>Target_Goals</th>\n",
       "      <th>Opponent_Goals</th>\n",
       "      <th>Target_PP%</th>\n",
       "      <th>Opponent_PP%</th>\n",
       "      <th>Target_SOG</th>\n",
       "      <th>Opponent_SOG</th>\n",
       "      <th>Target_FOW%</th>\n",
       "      <th>Opponent_FOW%</th>\n",
       "      <th>Home/Away</th>\n",
       "      <th>Target_Win</th>\n",
       "    </tr>\n",
       "  </thead>\n",
       "  <tbody>\n",
       "    <tr>\n",
       "      <th>0</th>\n",
       "      <td>1.8</td>\n",
       "      <td>0.4</td>\n",
       "      <td>0.000000</td>\n",
       "      <td>0.100000</td>\n",
       "      <td>8.0</td>\n",
       "      <td>3.8</td>\n",
       "      <td>0.100000</td>\n",
       "      <td>0.100000</td>\n",
       "      <td>0</td>\n",
       "      <td>1</td>\n",
       "    </tr>\n",
       "    <tr>\n",
       "      <th>1</th>\n",
       "      <td>0.4</td>\n",
       "      <td>0.8</td>\n",
       "      <td>0.000000</td>\n",
       "      <td>0.000000</td>\n",
       "      <td>6.4</td>\n",
       "      <td>5.8</td>\n",
       "      <td>0.117241</td>\n",
       "      <td>0.082759</td>\n",
       "      <td>0</td>\n",
       "      <td>0</td>\n",
       "    </tr>\n",
       "    <tr>\n",
       "      <th>2</th>\n",
       "      <td>1.0</td>\n",
       "      <td>0.6</td>\n",
       "      <td>0.050000</td>\n",
       "      <td>0.100000</td>\n",
       "      <td>7.4</td>\n",
       "      <td>5.2</td>\n",
       "      <td>0.074074</td>\n",
       "      <td>0.125926</td>\n",
       "      <td>0</td>\n",
       "      <td>1</td>\n",
       "    </tr>\n",
       "    <tr>\n",
       "      <th>3</th>\n",
       "      <td>1.2</td>\n",
       "      <td>0.6</td>\n",
       "      <td>0.120000</td>\n",
       "      <td>0.000000</td>\n",
       "      <td>6.0</td>\n",
       "      <td>8.0</td>\n",
       "      <td>0.079070</td>\n",
       "      <td>0.120930</td>\n",
       "      <td>1</td>\n",
       "      <td>1</td>\n",
       "    </tr>\n",
       "    <tr>\n",
       "      <th>4</th>\n",
       "      <td>0.6</td>\n",
       "      <td>2.0</td>\n",
       "      <td>0.100000</td>\n",
       "      <td>0.133333</td>\n",
       "      <td>6.8</td>\n",
       "      <td>5.8</td>\n",
       "      <td>0.104918</td>\n",
       "      <td>0.095082</td>\n",
       "      <td>0</td>\n",
       "      <td>0</td>\n",
       "    </tr>\n",
       "    <tr>\n",
       "      <th>...</th>\n",
       "      <td>...</td>\n",
       "      <td>...</td>\n",
       "      <td>...</td>\n",
       "      <td>...</td>\n",
       "      <td>...</td>\n",
       "      <td>...</td>\n",
       "      <td>...</td>\n",
       "      <td>...</td>\n",
       "      <td>...</td>\n",
       "      <td>...</td>\n",
       "    </tr>\n",
       "    <tr>\n",
       "      <th>666</th>\n",
       "      <td>-0.4</td>\n",
       "      <td>3.2</td>\n",
       "      <td>-0.033333</td>\n",
       "      <td>0.200000</td>\n",
       "      <td>-0.8</td>\n",
       "      <td>30.2</td>\n",
       "      <td>0.014507</td>\n",
       "      <td>30.600000</td>\n",
       "      <td>0</td>\n",
       "      <td>1</td>\n",
       "    </tr>\n",
       "    <tr>\n",
       "      <th>667</th>\n",
       "      <td>-0.6</td>\n",
       "      <td>2.2</td>\n",
       "      <td>-0.085714</td>\n",
       "      <td>0.233333</td>\n",
       "      <td>-0.8</td>\n",
       "      <td>35.2</td>\n",
       "      <td>-0.019786</td>\n",
       "      <td>29.000000</td>\n",
       "      <td>1</td>\n",
       "      <td>1</td>\n",
       "    </tr>\n",
       "    <tr>\n",
       "      <th>668</th>\n",
       "      <td>-0.2</td>\n",
       "      <td>2.2</td>\n",
       "      <td>0.006667</td>\n",
       "      <td>0.233333</td>\n",
       "      <td>-1.2</td>\n",
       "      <td>35.2</td>\n",
       "      <td>-0.022076</td>\n",
       "      <td>29.000000</td>\n",
       "      <td>1</td>\n",
       "      <td>1</td>\n",
       "    </tr>\n",
       "    <tr>\n",
       "      <th>669</th>\n",
       "      <td>-1.2</td>\n",
       "      <td>3.6</td>\n",
       "      <td>0.020000</td>\n",
       "      <td>0.040000</td>\n",
       "      <td>-1.2</td>\n",
       "      <td>33.6</td>\n",
       "      <td>-0.012760</td>\n",
       "      <td>33.000000</td>\n",
       "      <td>0</td>\n",
       "      <td>0</td>\n",
       "    </tr>\n",
       "    <tr>\n",
       "      <th>670</th>\n",
       "      <td>-0.4</td>\n",
       "      <td>4.0</td>\n",
       "      <td>0.000000</td>\n",
       "      <td>0.140000</td>\n",
       "      <td>0.0</td>\n",
       "      <td>41.4</td>\n",
       "      <td>-0.007948</td>\n",
       "      <td>30.200000</td>\n",
       "      <td>1</td>\n",
       "      <td>0</td>\n",
       "    </tr>\n",
       "  </tbody>\n",
       "</table>\n",
       "<p>671 rows × 10 columns</p>\n",
       "</div>"
      ],
      "text/plain": [
       "     Target_Goals  Opponent_Goals  Target_PP%  Opponent_PP%  Target_SOG  \\\n",
       "0             1.8             0.4    0.000000      0.100000         8.0   \n",
       "1             0.4             0.8    0.000000      0.000000         6.4   \n",
       "2             1.0             0.6    0.050000      0.100000         7.4   \n",
       "3             1.2             0.6    0.120000      0.000000         6.0   \n",
       "4             0.6             2.0    0.100000      0.133333         6.8   \n",
       "..            ...             ...         ...           ...         ...   \n",
       "666          -0.4             3.2   -0.033333      0.200000        -0.8   \n",
       "667          -0.6             2.2   -0.085714      0.233333        -0.8   \n",
       "668          -0.2             2.2    0.006667      0.233333        -1.2   \n",
       "669          -1.2             3.6    0.020000      0.040000        -1.2   \n",
       "670          -0.4             4.0    0.000000      0.140000         0.0   \n",
       "\n",
       "     Opponent_SOG  Target_FOW%  Opponent_FOW%  Home/Away  Target_Win  \n",
       "0             3.8     0.100000       0.100000          0           1  \n",
       "1             5.8     0.117241       0.082759          0           0  \n",
       "2             5.2     0.074074       0.125926          0           1  \n",
       "3             8.0     0.079070       0.120930          1           1  \n",
       "4             5.8     0.104918       0.095082          0           0  \n",
       "..            ...          ...            ...        ...         ...  \n",
       "666          30.2     0.014507      30.600000          0           1  \n",
       "667          35.2    -0.019786      29.000000          1           1  \n",
       "668          35.2    -0.022076      29.000000          1           1  \n",
       "669          33.6    -0.012760      33.000000          0           0  \n",
       "670          41.4    -0.007948      30.200000          1           0  \n",
       "\n",
       "[671 rows x 10 columns]"
      ]
     },
     "metadata": {},
     "output_type": "display_data"
    },
    {
     "name": "stdout",
     "output_type": "stream",
     "text": [
      "671\n"
     ]
    }
   ],
   "source": [
    "display(dataset)\n",
    "print(len(dataset))"
   ]
  },
  {
   "cell_type": "code",
   "execution_count": null,
   "metadata": {
    "colab": {
     "base_uri": "https://localhost:8080/"
    },
    "id": "NKTZIC0ctQQ7",
    "outputId": "3c68eafa-d961-4425-f8d9-854c267813cd"
   },
   "outputs": [],
   "source": [
    "\n",
    "visitor = response['GC']['Clock']['visiting_team']['team_nickname']\n",
    "home = response['GC']['Clock']['home_team']['team_nickname']\n",
    "#print(f'home: {home}, visitor: {visitor}')\n",
    "\n",
    "home_goals = response['GC']['Clock']['home_goal_count']\n",
    "visitor_goals = response['GC']['Clock']['visiting_goal_count']\n",
    "#print(visitor_goals)\n",
    "\n",
    "home_ppp = float(response['GC']['Clock']['power_play']['goals']['home']) / float(response['GC']['Clock']['power_play']['total']['home'])\n",
    "visitor_ppp = float(response['GC']['Clock']['power_play']['goals']['visiting']) / float(response['GC']['Clock']['power_play']['total']['visiting'])\n",
    "print(home_ppp)\n",
    "\n",
    "home_fowp = float(response['GC']['Clock']['fow']['home'])\n",
    "visitor_fowp = float(response['GC']['Clock']['fow']['visiting'])\n",
    "fow_total = home_fowp + visitor_fowp\n",
    "home_fowp /= fow_total\n",
    "visitor_fowp /= fow_total\n",
    "\n",
    "print(home_fowp, visitor_fowp)\n",
    "\n",
    "home_sog = sum(response['GC']['Clock']['shots_on_goal']['home'].values())\n",
    "visitor_sog = sum(response['GC']['Clock']['shots_on_goal']['visiting'].values())\n",
    "print(home_sog, visitor_sog)\n"
   ]
  },
  {
   "cell_type": "code",
   "execution_count": null,
   "metadata": {
    "id": "7gpmxCJly6ML"
   },
   "outputs": [],
   "source": []
  }
 ],
 "metadata": {
  "colab": {
   "provenance": []
  },
  "kernelspec": {
   "display_name": "Python 3 (ipykernel)",
   "language": "python",
   "name": "python3"
  },
  "language_info": {
   "codemirror_mode": {
    "name": "ipython",
    "version": 3
   },
   "file_extension": ".py",
   "mimetype": "text/x-python",
   "name": "python",
   "nbconvert_exporter": "python",
   "pygments_lexer": "ipython3",
   "version": "3.12.8"
  }
 },
 "nbformat": 4,
 "nbformat_minor": 4
}

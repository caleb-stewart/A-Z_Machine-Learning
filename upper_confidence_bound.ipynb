{
  "nbformat": 4,
  "nbformat_minor": 0,
  "metadata": {
    "colab": {
      "provenance": [],
      "include_colab_link": true
    },
    "kernelspec": {
      "name": "python3",
      "display_name": "Python 3"
    }
  },
  "cells": [
    {
      "cell_type": "markdown",
      "metadata": {
        "id": "view-in-github",
        "colab_type": "text"
      },
      "source": [
        "<a href=\"https://colab.research.google.com/github/caleb-stewart/A-Z_Machine-Learning/blob/main/upper_confidence_bound.ipynb\" target=\"_parent\"><img src=\"https://colab.research.google.com/assets/colab-badge.svg\" alt=\"Open In Colab\"/></a>"
      ]
    },
    {
      "cell_type": "markdown",
      "metadata": {
        "id": "QJdrJJQUv3-k"
      },
      "source": [
        "# Upper Confidence Bound (UCB)"
      ]
    },
    {
      "cell_type": "markdown",
      "metadata": {
        "id": "2XCjepjJwEv-"
      },
      "source": [
        "## Importing the libraries"
      ]
    },
    {
      "cell_type": "code",
      "metadata": {
        "id": "l_mBkG3YwNTt"
      },
      "source": [
        "import numpy as np\n",
        "import matplotlib.pyplot as plt\n",
        "import pandas as pd"
      ],
      "execution_count": 1,
      "outputs": []
    },
    {
      "cell_type": "markdown",
      "metadata": {
        "id": "npqlXjaNwYTv"
      },
      "source": [
        "## Importing the dataset"
      ]
    },
    {
      "cell_type": "code",
      "metadata": {
        "id": "HMJfUVLVwcFc"
      },
      "source": [
        "dataset = pd.read_csv('Ads_CTR_Optimisation.csv')\n",
        "# Dataset is 10 different ads\n",
        "# Each row is 1 or 0, yes or no if a user would click on the ad\n",
        "#   (Obviously a simulation dataset)\n"
      ],
      "execution_count": 2,
      "outputs": []
    },
    {
      "cell_type": "markdown",
      "metadata": {
        "id": "PaSbots_wfoB"
      },
      "source": [
        "## Implementing UCB"
      ]
    },
    {
      "cell_type": "code",
      "source": [
        "import math\n",
        "\n",
        "d = 10 # number of ads being shown\n",
        "ads_selected = []\n",
        "numbers_of_selections = [0] * d\n",
        "N = 10000 # Total number of users\n",
        "sums_of_rewards = [0] * d\n",
        "total_rewards = 0\n",
        "\n",
        "for i in range(N):\n",
        "  ad = 0 # We want to select the ad with the highest confidence bound\n",
        "  max_upper_bound = 0\n",
        "  for j in range(d):\n",
        "    if numbers_of_selections[j] > 0: # If the ad has already been selected\n",
        "      # Find the average reward of the ad up to the current round\n",
        "      avg_reward = sums_of_rewards[j] / numbers_of_selections[j]\n",
        "\n",
        "      # Find the confidence interval at the current round\n",
        "      delta_i = math.sqrt((3/2) * math.log(i + 1) / numbers_of_selections[j])\n",
        "\n",
        "      # Now we want to find the upper bound\n",
        "      upper_bound = avg_reward + delta_i\n",
        "\n",
        "    else: # If the ad has not been selected before\n",
        "\n",
        "      # Select a fake upper bound, so it can get selected\n",
        "      upper_bound = math.inf\n",
        "\n",
        "    # choose which ad has the highes max upper bound\n",
        "    if upper_bound > max_upper_bound:\n",
        "      max_upper_bound = upper_bound\n",
        "      ad = j\n",
        "\n",
        "  # Add which ad has the highest upper bound to ads_selected\n",
        "  ads_selected.append(ad)\n",
        "  # increment the ad selected by 1\n",
        "  numbers_of_selections[ad] += 1\n",
        "  # increment the sum of rewards for the ad with the highest upper bound\n",
        "  # Add the value from the dataset. In this case it is always 1 (or 0)\n",
        "  sums_of_rewards[ad] += dataset.values[i, ad]\n",
        "\n",
        "  # Now increase the number of total_rewards\n",
        "  total_rewards += dataset.values[i, ad]"
      ],
      "metadata": {
        "id": "pupiM_Dy7FSC"
      },
      "execution_count": 14,
      "outputs": []
    },
    {
      "cell_type": "markdown",
      "metadata": {
        "id": "AXftWcjDwsYj"
      },
      "source": [
        "## Visualising the results"
      ]
    },
    {
      "cell_type": "code",
      "source": [
        "# plot for each of the ads the number of times each ad was selected\n",
        "\n",
        "plt.hist(ads_selected)\n",
        "plt.title('Histo of Ads Selected')\n",
        "plt.xlabel('Ad Number')\n",
        "plt.ylabel('Num times ad selected')\n",
        "\n",
        "# We can see that ad 4 was selected the most, at it took about 750-1000 rounds\n",
        "# to determine ad 4 was the best ad"
      ],
      "metadata": {
        "colab": {
          "base_uri": "https://localhost:8080/",
          "height": 489
        },
        "id": "krWRkmEaBRXf",
        "outputId": "3d986652-ad3a-4198-e2a5-bf80fc3640af"
      },
      "execution_count": 15,
      "outputs": [
        {
          "output_type": "execute_result",
          "data": {
            "text/plain": [
              "Text(0, 0.5, 'Num times ad selected')"
            ]
          },
          "metadata": {},
          "execution_count": 15
        },
        {
          "output_type": "display_data",
          "data": {
            "text/plain": [
              "<Figure size 640x480 with 1 Axes>"
            ],
            "image/png": "[encoded data removed]"
          },
          "metadata": {}
        }
      ]
    }
  ]
}